{
 "cells": [
  {
   "cell_type": "markdown",
   "id": "e5bdb3a5-414d-44c7-8b85-6306e75c4512",
   "metadata": {},
   "source": [
    "## **COVID-19_outbreak_data_analysis**"
   ]
  },
  {
   "cell_type": "code",
   "execution_count": null,
   "id": "94c59be7-214a-419a-999f-36e516ce961d",
   "metadata": {},
   "outputs": [],
   "source": []
  }
 ],
 "metadata": {
  "kernelspec": {
   "display_name": "Python 3 (ipykernel)",
   "language": "python",
   "name": "python3"
  },
  "language_info": {
   "codemirror_mode": {
    "name": "ipython",
    "version": 3
   },
   "file_extension": ".py",
   "mimetype": "text/x-python",
   "name": "python",
   "nbconvert_exporter": "python",
   "pygments_lexer": "ipython3",
   "version": "3.12.4"
  }
 },
 "nbformat": 4,
 "nbformat_minor": 5
}
