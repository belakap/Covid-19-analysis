{
 "cells": [
  {
   "cell_type": "code",
   "execution_count": 38,
   "id": "f21ae408-576c-490e-8c9b-eb850670331f",
   "metadata": {},
   "outputs": [],
   "source": [
    "import sqlite3\n",
    "import pandas as pd\n",
    "import shutil"
   ]
  },
  {
   "cell_type": "code",
   "execution_count": 35,
   "id": "34ece7a1-9bb5-4945-9fe8-7ee81d2d24b2",
   "metadata": {},
   "outputs": [
    {
     "name": "stdout",
     "output_type": "stream",
     "text": [
      "Database created and loaded with data from CSV files at SQL_data.db\n"
     ]
    }
   ],
   "source": [
    "# Step 1: Define column names for each table\n",
    "Covid_rates_columns = [\n",
    "    'outcome', 'month', 'MMWR week', 'Age group', 'Vaccine product',\n",
    "    'Vaccinated with outcome', 'Fully vaccinated population',\n",
    "    'Unvaccinated with outcome', 'Unvaccinated population', 'Crude vax IR',\n",
    "    'Crude unvax IR', 'Crude IRR', 'Continuity correction'\n",
    "]\n",
    "\n",
    "trans_level_columns = [\n",
    "    'state_name', 'county_name', 'fips_code', 'date',\n",
    "    'cases_per_100K_7_day_count_change',\n",
    "    'percent_test_results_reported_positive_last_7_days',\n",
    "    'community_transmission_level'\n",
    "]\n",
    "\n",
    "# Step 2: Create empty DataFrames for structure\n",
    "Covid_rates = pd.DataFrame(columns=Covid_rates_columns)\n",
    "trans_level = pd.DataFrame(columns=trans_level_columns)\n",
    "\n",
    "# Step 1: Load the CSV files into pandas DataFrames\n",
    "Covid_rates = pd.read_csv(\"Data/clean/clean_data_1_updated.csv\")\n",
    "trans_level = pd.read_csv(\"Data/clean/clean_data_2_updated.csv\")\n",
    "\n",
    "\n",
    "# Step 3: Define the file path for the SQLite database\n",
    "db_path = \"SQL_data.db\"\n",
    "\n",
    "# Step 4: Create SQLite database and save tables\n",
    "conn = sqlite3.connect(\"SQL_data.db\")\n",
    "\n",
    "# Save data into respective tables\n",
    "Covid_rates.to_sql('Covid_rates', conn, index=False, if_exists='replace')\n",
    "trans_level.to_sql('trans_level', conn, index=False, if_exists='replace')\n",
    "\n",
    "# Close the database connection\n",
    "# conn.close()\n",
    "print(f\"Database created and loaded with data from CSV files at {db_path}\")"
   ]
  },
  {
   "cell_type": "code",
   "execution_count": 36,
   "id": "7b9f0e94-d748-4c66-b75f-1fb80deb5d04",
   "metadata": {
    "collapsed": true,
    "jupyter": {
     "outputs_hidden": true
    }
   },
   "outputs": [
    {
     "name": "stdout",
     "output_type": "stream",
     "text": [
      "Tables in the database:\n",
      "          name\n",
      "0  Covid_rates\n",
      "1  trans_level\n",
      "First 5 rows from Covid_rates table:\n",
      "  outcome     month  MMWR week Age group Vaccine product  \\\n",
      "0    case  APR 2021     202114     12-17       all_types   \n",
      "1    case  APR 2021     202114     18-29       all_types   \n",
      "2    case  APR 2021     202114     30-49       all_types   \n",
      "3    case  APR 2021     202114     50-64       all_types   \n",
      "4    case  APR 2021     202114     65-79       all_types   \n",
      "\n",
      "   Vaccinated with outcome  Fully vaccinated population  \\\n",
      "0                        8                      36887.0   \n",
      "1                      674                    2543093.0   \n",
      "2                     1847                    7428405.0   \n",
      "3                     1558                    7487444.0   \n",
      "4                     1672                   14398099.0   \n",
      "\n",
      "   Unvaccinated with outcome  Unvaccinated population  Crude vax IR  \\\n",
      "0                      30785               17556462.0     21.687858   \n",
      "1                      76736               31091322.0     26.503160   \n",
      "2                      98436               41074337.0     24.864019   \n",
      "3                      50324               22948569.0     20.808169   \n",
      "4                      14880                7675907.0     11.612644   \n",
      "\n",
      "   Crude unvax IR  Crude IRR  Continuity correction  \n",
      "0      175.348541   8.085102                      0  \n",
      "1      246.808418   9.312415                      0  \n",
      "2      239.653290   9.638558                      0  \n",
      "3      219.290362  10.538667                      0  \n",
      "4      193.853313  16.693297                      0  \n",
      "First 5 rows from trans_level table:\n",
      "  state_name     county_name  fips_code        date  \\\n",
      "0      Texas  Jackson County      48239  01/27/2020   \n",
      "1   Nebraska  Buffalo County      31019  01/27/2020   \n",
      "2   Illinois    Coles County      17029  01/27/2020   \n",
      "3       Iowa      Ida County      19093  01/27/2020   \n",
      "4  Tennessee     Knox County      47093  02/05/2020   \n",
      "\n",
      "   cases_per_100K_7_day_count_change  \\\n",
      "0                                0.0   \n",
      "1                                0.0   \n",
      "2                                0.0   \n",
      "3                                0.0   \n",
      "4                                0.0   \n",
      "\n",
      "   percent_test_results_reported_positive_last_7_days  \\\n",
      "0                                         145.347542    \n",
      "1                                         145.347542    \n",
      "2                                         145.347542    \n",
      "3                                         145.347542    \n",
      "4                                         145.347542    \n",
      "\n",
      "  community_transmission_level  \n",
      "0                         high  \n",
      "1                         high  \n",
      "2                         high  \n",
      "3                         high  \n",
      "4                          low  \n"
     ]
    }
   ],
   "source": [
    "# Query the tables in the database\n",
    "tables = pd.read_sql_query(\"SELECT name FROM sqlite_master WHERE type='table';\", conn)\n",
    "print(\"Tables in the database:\")\n",
    "print(tables)\n",
    "\n",
    "# You can also fetch data from the tables\n",
    "Covid_rates = pd.read_sql_query(\"SELECT * FROM Covid_rates LIMIT 5;\", conn)\n",
    "print(\"First 5 rows from Covid_rates table:\")\n",
    "print(Covid_rates)\n",
    "\n",
    "trans_level = pd.read_sql_query(\"SELECT * FROM trans_level LIMIT 5;\", conn)\n",
    "print(\"First 5 rows from trans_level table:\")\n",
    "print(trans_level)\n",
    "\n",
    "# Close the connection when done\n",
    "conn.close()"
   ]
  },
  {
   "cell_type": "code",
   "execution_count": 41,
   "id": "58dd6c24-1095-4698-bf02-ff6e1e06f59c",
   "metadata": {},
   "outputs": [
    {
     "data": {
      "text/plain": [
       "'Data/SQL_data.db'"
      ]
     },
     "execution_count": 41,
     "metadata": {},
     "output_type": "execute_result"
    }
   ],
   "source": [
    "source = \"SQL_data.db\"\n",
    "destination = \"Data/\"\n",
    "shutil.move(source, destination)"
   ]
  },
  {
   "cell_type": "code",
   "execution_count": null,
   "id": "4afb766b-9bda-4835-9a61-59deb60cbc0b",
   "metadata": {},
   "outputs": [],
   "source": []
  }
 ],
 "metadata": {
  "kernelspec": {
   "display_name": "Python 3 (ipykernel)",
   "language": "python",
   "name": "python3"
  },
  "language_info": {
   "codemirror_mode": {
    "name": "ipython",
    "version": 3
   },
   "file_extension": ".py",
   "mimetype": "text/x-python",
   "name": "python",
   "nbconvert_exporter": "python",
   "pygments_lexer": "ipython3",
   "version": "3.12.4"
  }
 },
 "nbformat": 4,
 "nbformat_minor": 5
}
