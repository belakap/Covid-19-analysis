{
 "cells": [
  {
   "cell_type": "markdown",
   "id": "4c50d15e-2d17-47bd-9041-e429f45bf899",
   "metadata": {},
   "source": [
    "The exploratory analysis will be based on our goal and objectives.\n",
    "\n",
    "*Primary goal* \n",
    "\n",
    "Analyze the factors influencing COVID-19 cases and death rates across age groups by examining the vaccination statuses, \n",
    "and the community transmission levels. \n",
    "\n",
    "*Objectives*\n",
    "\n",
    "Analyze the Impact of Vaccination Status on Infection and Mortality Rates.\n",
    "\n",
    "Assess the Influence of Community Transmission Levels.\n",
    "\n",
    "Identify Geographic disparities.\n",
    "\n",
    "Develop Data-Driven Public Health Recommendations."
   ]
  },
  {
   "cell_type": "code",
   "execution_count": 5,
   "id": "f21ae408-576c-490e-8c9b-eb850670331f",
   "metadata": {},
   "outputs": [],
   "source": [
    "import sqlite3\n",
    "import pandas as pd\n",
    "import shutil\n",
    "import matplotlib.pyplot as plt\n",
    "import numpy as np\n",
    "from tabulate import tabulate"
   ]
  },
  {
   "cell_type": "markdown",
   "id": "e263317f-7292-4e02-8366-174bc74b7689",
   "metadata": {},
   "source": [
    "**CREATE THE DATABASE SQL_data.db**"
   ]
  },
  {
   "cell_type": "code",
   "execution_count": 11,
   "id": "a2114764-3bfd-4a5b-934e-79c340b394b3",
   "metadata": {},
   "outputs": [
    {
     "data": {
      "text/plain": [
       "Index(['outcome', 'month', 'Age group', 'Vaccinated with outcome',\n",
       "       'Unvaccinated with outcome'],\n",
       "      dtype='object')"
      ]
     },
     "execution_count": 11,
     "metadata": {},
     "output_type": "execute_result"
    }
   ],
   "source": [
    "# Print clean columns for the two datasets\n",
    "clean = pd.read_csv(\"Data/clean/clean_data_small.csv\")\n",
    "clean.columns"
   ]
  },
  {
   "cell_type": "code",
   "execution_count": 10,
   "id": "80b1e27f-4edd-4820-8985-7950a90c57ca",
   "metadata": {},
   "outputs": [
    {
     "data": {
      "text/plain": [
       "Index(['state_name', 'date', 'community_transmission_level'], dtype='object')"
      ]
     },
     "execution_count": 10,
     "metadata": {},
     "output_type": "execute_result"
    }
   ],
   "source": [
    "clean = pd.read_csv(\"Data/clean/clean_data_small_2.csv\")\n",
    "clean.columns"
   ]
  },
  {
   "cell_type": "code",
   "execution_count": 12,
   "id": "34ece7a1-9bb5-4945-9fe8-7ee81d2d24b2",
   "metadata": {},
   "outputs": [
    {
     "name": "stdout",
     "output_type": "stream",
     "text": [
      "Database created and loaded with data from CSV files at SQL_data2.db\n"
     ]
    }
   ],
   "source": [
    "# Name the table\n",
    "Covid_rates_columns = ['outcome', 'month', 'Age group', 'Vaccinated with outcome',\n",
    "       'Unvaccinated with outcome'\n",
    "    \n",
    "]\n",
    "\n",
    "trans_level_columns = ['state_name', 'date', 'community_transmission_level'\n",
    "    \n",
    "]\n",
    "\n",
    "# Create empty DataFrames\n",
    "Covid_rates = pd.DataFrame(columns=Covid_rates_columns)\n",
    "trans_level = pd.DataFrame(columns=trans_level_columns)\n",
    "\n",
    "# Load the CSV files into pandas DataFrames\n",
    "Covid_rates = pd.read_csv(\"Data/clean/clean_data_small.csv\")\n",
    "trans_level = pd.read_csv(\"Data/clean/clean_data_small_2.csv\")\n",
    "\n",
    "\n",
    "# Define the file path for the SQLite database\n",
    "db_path = \"SQL_data2.db\"\n",
    "\n",
    "# Create SQLite database and save tables\n",
    "conn = sqlite3.connect(\"SQL_data2.db\")\n",
    "\n",
    "# Save data into tables\n",
    "Covid_rates.to_sql('Covid_rates', conn, index=False, if_exists='replace')\n",
    "trans_level.to_sql('trans_level', conn, index=False, if_exists='replace')\n",
    "\n",
    "# Close the database connection\n",
    "# conn.close()\n",
    "print(f\"Database created and loaded with data from CSV files at {db_path}\")"
   ]
  },
  {
   "cell_type": "code",
   "execution_count": 13,
   "id": "7b9f0e94-d748-4c66-b75f-1fb80deb5d04",
   "metadata": {
    "collapsed": true,
    "jupyter": {
     "outputs_hidden": true
    }
   },
   "outputs": [
    {
     "name": "stdout",
     "output_type": "stream",
     "text": [
      "First 5 rows from Covid_rates table:\n",
      "  outcome     month Age group  Vaccinated with outcome  \\\n",
      "0    case  APR 2021     12-17                        8   \n",
      "1    case  APR 2021     18-29                      674   \n",
      "2    case  APR 2021     30-49                     1847   \n",
      "3    case  APR 2021     50-64                     1558   \n",
      "4    case  APR 2021     65-79                     1672   \n",
      "\n",
      "   Unvaccinated with outcome  \n",
      "0                      30785  \n",
      "1                      76736  \n",
      "2                      98436  \n",
      "3                      50324  \n",
      "4                      14880  \n",
      "First 5 rows from trans_level table:\n",
      "  state_name        date community_transmission_level\n",
      "0      Texas  01/27/2020                         high\n",
      "1   Nebraska  01/27/2020                         high\n",
      "2   Illinois  01/27/2020                         high\n",
      "3       Iowa  01/27/2020                         high\n",
      "4  Tennessee  02/05/2020                          low\n"
     ]
    }
   ],
   "source": [
    "# fetch data from the tables\n",
    "Covid_rates = pd.read_sql_query(\"SELECT * FROM Covid_rates LIMIT 5;\", conn)\n",
    "print(\"First 5 rows from Covid_rates table:\")\n",
    "print(Covid_rates)\n",
    "\n",
    "trans_level = pd.read_sql_query(\"SELECT * FROM trans_level LIMIT 5;\", conn)\n",
    "print(\"First 5 rows from trans_level table:\")\n",
    "print(trans_level)\n",
    "\n",
    "# Close the connection when done\n",
    "conn.close()"
   ]
  },
  {
   "cell_type": "code",
   "execution_count": 14,
   "id": "58dd6c24-1095-4698-bf02-ff6e1e06f59c",
   "metadata": {},
   "outputs": [
    {
     "data": {
      "text/plain": [
       "'Data/SQL_data2.db'"
      ]
     },
     "execution_count": 14,
     "metadata": {},
     "output_type": "execute_result"
    }
   ],
   "source": [
    "source = \"SQL_data2.db\"\n",
    "destination = \"Data/\"\n",
    "shutil.move(source, destination)"
   ]
  },
  {
   "cell_type": "code",
   "execution_count": null,
   "id": "cf4b7ffc-54a6-444b-a9ea-c1df7a5d7178",
   "metadata": {},
   "outputs": [],
   "source": []
  },
  {
   "cell_type": "markdown",
   "id": "b77bb232-a87b-4d28-8d81-0390b94f2802",
   "metadata": {},
   "source": [
    "**DISTRIBUTION OF Covid-19 CASES BY AGE GROUP BETWEEN VACCINATED AND UNVACCINATED**"
   ]
  },
  {
   "cell_type": "code",
   "execution_count": 15,
   "id": "808aa2df-b529-4fea-b223-4fc7a3df8a09",
   "metadata": {},
   "outputs": [
    {
     "name": "stdout",
     "output_type": "stream",
     "text": [
      "+--------------+--------------------+----------------------+---------------+\n",
      "| Age group    |   Vaccinated_Cases |   Unvaccinated_Cases |   Total_Cases |\n",
      "+==============+====================+======================+===============+\n",
      "| all_ages_adj |           35736157 |             83788412 |     119524569 |\n",
      "+--------------+--------------------+----------------------+---------------+\n",
      "| 30-49        |            6037254 |              6934922 |      12972176 |\n",
      "+--------------+--------------------+----------------------+---------------+\n",
      "| 18-29        |            3235323 |              5060862 |       8296185 |\n",
      "+--------------+--------------------+----------------------+---------------+\n",
      "| 50-64        |            4071401 |              3246103 |       7317504 |\n",
      "+--------------+--------------------+----------------------+---------------+\n",
      "| 65-79        |            2336144 |              1365175 |       3701319 |\n",
      "+--------------+--------------------+----------------------+---------------+\n",
      "| 12-17        |            1064817 |              2244912 |       3309729 |\n",
      "+--------------+--------------------+----------------------+---------------+\n",
      "| 5-11         |             374167 |              1687598 |       2061765 |\n",
      "+--------------+--------------------+----------------------+---------------+\n",
      "| 80+          |             758672 |               407531 |       1166203 |\n",
      "+--------------+--------------------+----------------------+---------------+\n"
     ]
    }
   ],
   "source": [
    "# Connect to the SQLite database\n",
    "conn = sqlite3.connect('Data/SQL_data2.db')\n",
    "\n",
    "#Calculate age group using the sql\n",
    "query = (\"\"\"\n",
    "\n",
    "SELECT \n",
    "    [Age group], \n",
    "    SUM(CASE WHEN outcome = 'case' THEN [Vaccinated with outcome] ELSE 0 END) AS Vaccinated_Cases,\n",
    "    SUM(CASE WHEN outcome = 'case' THEN [Unvaccinated with outcome] ELSE 0 END) AS Unvaccinated_Cases,\n",
    "    SUM(CASE WHEN outcome = 'case' THEN [Vaccinated with outcome] + [Unvaccinated with outcome] ELSE 0 END) AS Total_Cases\n",
    "FROM Covid_rates\n",
    "GROUP BY [Age group]\n",
    "ORDER BY Total_Cases DESC;\n",
    "\"\"\")\n",
    "\n",
    "# Run the query and load results into a DataFrame\n",
    "cases_by_age_group = pd.read_sql_query(query, conn)\n",
    "\n",
    "# Close the connection\n",
    "conn.close()\n",
    "\n",
    "# Print the result using tabulate\n",
    "print(tabulate(cases_by_age_group, headers='keys', tablefmt='grid', showindex=False))"
   ]
  },
  {
   "cell_type": "code",
   "execution_count": null,
   "id": "d1384442-c5ca-4c17-a820-b007dbb46d8e",
   "metadata": {},
   "outputs": [],
   "source": []
  },
  {
   "cell_type": "markdown",
   "id": "f73d4ee7-e505-4b93-ad38-10d0ae7d0fa4",
   "metadata": {},
   "source": [
    "The data reveals the distribution of COVID-19 cases by age group, distinguishing between vaccinated and unvaccinated individuals:\n",
    "\n",
    "all_ages_adj: Across all age groups, there were approximately 119.5 million cases, with 83.8 million (or about 70% of total cases) unvaccinated cases; while vaccinated cases totaled 35.7 million.\n",
    "\n",
    "30-49 age group: most affected age group with the highest number of cases (12.97 million total), reflecting a significant portion of the population that is both socially active and potentially less likely to be vaccinated.\n",
    "\n",
    "18-29 and 12-17 age groups combined account for 11.6 million cases, indicating considerable infection rates among younger populations, particularly the unvaccinated.\n",
    "\n",
    "65-79 and 80+: reported fewer cases compared to younger groups, likely due to higher vaccination rates and more precautions taken.\n",
    "\n",
    "Children (5-11): fewer cases (2.06 million) compared to other age groups, possibly reflecting lower transmission rates and/or vaccine availability for children.\n",
    "\n",
    "Summery: Higher risk of infection among unvaccinated individuals across all age groups and significant contributions of younger, socially active groups to the case."
   ]
  },
  {
   "cell_type": "code",
   "execution_count": 16,
   "id": "9318ffa2-dd91-4f98-9cf2-5fb7e556904f",
   "metadata": {},
   "outputs": [
    {
     "data": {
      "image/png": "[encoded data removed]",
      "text/plain": [
       "<Figure size 800x400 with 1 Axes>"
      ]
     },
     "metadata": {},
     "output_type": "display_data"
    },
    {
     "data": {
      "image/png": "[encoded data removed]",
      "text/plain": [
       "<Figure size 800x400 with 1 Axes>"
      ]
     },
     "metadata": {},
     "output_type": "display_data"
    }
   ],
   "source": [
    "# Define Data for vizualization\n",
    "data = {\n",
    "    \"Age group\": [\"all_ages_adj\", \"30-49\", \"18-29\", \"50-64\", \"65-79\", \"12-17\", \"5-11\", \"80+\"],\n",
    "    \"Vaccinated_Cases\": [35736157, 6037254, 3235323, 4071401, 2336144, 1064817, 374167, 758672],\n",
    "    \"Unvaccinated_Cases\": [83788412, 6934922, 5060862, 3246103, 1365175, 2244912, 1687598, 407531],\n",
    "    \"Total_Cases\": [119524569, 12972176, 8296185, 7317504, 3701319, 3309729, 2061765, 1166203],\n",
    "}\n",
    "\n",
    "df = pd.DataFrame(data)\n",
    "\n",
    "# Set positions for bars\n",
    "x = np.arange(len(df[\"Age group\"]))\n",
    "\n",
    "# Bar chart: Vaccinated vs. Unvaccinated Cases\n",
    "plt.figure(figsize=(8, 4))\n",
    "bar_width = 0.4\n",
    "plt.bar(x - bar_width/2, df[\"Vaccinated_Cases\"], width=bar_width, label=\"Vaccinated Cases\", color=\"skyblue\")\n",
    "plt.bar(x + bar_width/2, df[\"Unvaccinated_Cases\"], width=bar_width, label=\"Unvaccinated Cases\", color=\"red\")\n",
    "plt.xticks(x, df[\"Age group\"], rotation=45)\n",
    "plt.xlabel(\"Age Group\")\n",
    "plt.ylabel(\"Number of Cases\")\n",
    "plt.title(\"COVID-19 Cases by Vaccination Status and Age Group\")\n",
    "plt.legend()\n",
    "plt.tight_layout()\n",
    "plt.show()\n",
    "\n",
    "# Total Cases\n",
    "plt.figure(figsize=(8, 4))\n",
    "plt.bar(df[\"Age group\"], df[\"Vaccinated_Cases\"], label=\"Vaccinated Cases\", color=\"skyblue\")\n",
    "plt.bar(df[\"Age group\"], df[\"Unvaccinated_Cases\"], bottom=df[\"Vaccinated_Cases\"], label=\"Unvaccinated Cases\", color=\"red\")\n",
    "plt.xlabel(\"Age Group\")\n",
    "plt.ylabel(\"Number of Cases\")\n",
    "plt.title(\"Total COVID-19 Cases by Age Group (Stacked)\")\n",
    "plt.legend()\n",
    "plt.tight_layout()\n",
    "plt.show()"
   ]
  },
  {
   "cell_type": "code",
   "execution_count": null,
   "id": "8916a62c-b08b-41e5-b201-0fdbddd33d4a",
   "metadata": {},
   "outputs": [],
   "source": []
  },
  {
   "cell_type": "markdown",
   "id": "d482564b-42c3-4a19-8a29-3a6e47584497",
   "metadata": {},
   "source": [
    "**DISTRIBUTION OF Covid-19 CASES BY AGE GROUP BETWEEN VACCINATED AND UNVACCINATED**"
   ]
  },
  {
   "cell_type": "code",
   "execution_count": 17,
   "id": "b5a49777-00ee-444b-9f63-a8756d101044",
   "metadata": {},
   "outputs": [
    {
     "name": "stdout",
     "output_type": "stream",
     "text": [
      "+--------------+---------------------+-----------------------+----------------+\n",
      "| Age group    |   Vaccinated_Deaths |   Unvaccinated_Deaths |   Total_Deaths |\n",
      "+==============+=====================+=======================+================+\n",
      "| 5-11         |                   3 |                    46 |             49 |\n",
      "+--------------+---------------------+-----------------------+----------------+\n",
      "| 12-17        |                  27 |                   183 |            210 |\n",
      "+--------------+---------------------+-----------------------+----------------+\n",
      "| 18-29        |                 210 |                  2487 |           2697 |\n",
      "+--------------+---------------------+-----------------------+----------------+\n",
      "| 30-49        |                2277 |                 21013 |          23290 |\n",
      "+--------------+---------------------+-----------------------+----------------+\n",
      "| 50-64        |               10328 |                 49229 |          59557 |\n",
      "+--------------+---------------------+-----------------------+----------------+\n",
      "| 80+          |               39438 |                 46355 |          85793 |\n",
      "+--------------+---------------------+-----------------------+----------------+\n",
      "| 65-79        |               30248 |                 65686 |          95934 |\n",
      "+--------------+---------------------+-----------------------+----------------+\n",
      "| all_ages_adj |              164958 |                739996 |         904954 |\n",
      "+--------------+---------------------+-----------------------+----------------+\n"
     ]
    }
   ],
   "source": [
    "# Connect to the SQLite database\n",
    "conn = sqlite3.connect('Data/SQL_data2.db')\n",
    "\n",
    "# Calculate deaths by age group using SQL query\n",
    "query = \"\"\"\n",
    "SELECT \n",
    "    [Age group], \n",
    "    SUM(CASE WHEN outcome = 'death' THEN [Vaccinated with outcome] ELSE 0 END) AS Vaccinated_Deaths,\n",
    "    SUM(CASE WHEN outcome = 'death' THEN [Unvaccinated with outcome] ELSE 0 END) AS Unvaccinated_Deaths,\n",
    "    SUM(CASE WHEN outcome = 'death' THEN [Vaccinated with outcome] + [Unvaccinated with outcome] ELSE 0 END) AS Total_Deaths\n",
    "FROM Covid_rates\n",
    "GROUP BY [Age group]\n",
    "ORDER BY Total_Deaths ASC;\n",
    "\"\"\"\n",
    "\n",
    "# Execute the query and load results into a DataFrame\n",
    "deaths_by_age_group = pd.read_sql_query(query, conn)\n",
    "\n",
    "# Close the connection\n",
    "conn.close()\n",
    "\n",
    "# Convert the DataFrame to a list of lists for tabulate\n",
    "##data = deaths_by_age_group.values.tolist()\n",
    "\n",
    "# Define column headers\n",
    "##headers = deaths_by_age_group.columns.tolist()\n",
    "\n",
    "# Print the result using tabulate\n",
    "print(tabulate(deaths_by_age_group, headers='keys', tablefmt='grid', showindex=False))\n",
    "\n",
    "# Display the result using tabulate\n",
    "#print(tabulate(data, headers=headers, tablefmt=\"grid\"))\n",
    "\n",
    "# Display the result\n",
    "#print(deaths_by_age_group)"
   ]
  },
  {
   "cell_type": "code",
   "execution_count": 18,
   "id": "cd89ad6d-ab9a-4c47-a497-0c3b4aa09841",
   "metadata": {},
   "outputs": [
    {
     "data": {
      "image/png": "[encoded data removed]",
      "text/plain": [
       "<Figure size 800x400 with 1 Axes>"
      ]
     },
     "metadata": {},
     "output_type": "display_data"
    },
    {
     "data": {
      "image/png": "[encoded data removed]",
      "text/plain": [
       "<Figure size 800x400 with 1 Axes>"
      ]
     },
     "metadata": {},
     "output_type": "display_data"
    }
   ],
   "source": [
    "# Define Data for visualization\n",
    "data = {\n",
    "    \"Age group\": [\"all_ages_adj\", \"30-49\", \"18-29\", \"50-64\", \"65-79\", \"12-17\", \"5-11\", \"80+\"],\n",
    "    \"Vaccinated_Deaths\": [3, 27, 210, 2277, 10328, 39438, 30248, 164958],\n",
    "    \"Unvaccinated_Deaths\": [46, 183, 2487, 21013, 49229, 46355, 65686, 739996],\n",
    "    \"Total_Deaths\": [49, 210, 2697, 23290, 59557, 85793, 95934, 904954],\n",
    "}\n",
    "\n",
    "df = pd.DataFrame(data)\n",
    "\n",
    "# Set positions for bars\n",
    "x = np.arange(len(df[\"Age group\"]))\n",
    "\n",
    "# Bar chart: Vaccinated vs. Unvaccinated Cases\n",
    "plt.figure(figsize=(8, 4))\n",
    "bar_width = 0.4\n",
    "plt.bar(x - bar_width/2, df[\"Vaccinated_Deaths\"], width=bar_width, label=\"Vaccinated Deaths\", color=\"green\")\n",
    "plt.bar(x + bar_width/2, df[\"Unvaccinated_Deaths\"], width=bar_width, label=\"Unvaccinated Deaths\", color=\"purple\")\n",
    "plt.xticks(x, df[\"Age group\"], rotation=45)\n",
    "plt.xlabel(\"Age Group\")\n",
    "plt.ylabel(\"Number of Deaths\")\n",
    "plt.title(\"COVID-19 Deaths by Vaccination Status and Age Group\")\n",
    "plt.legend()\n",
    "plt.tight_layout()\n",
    "plt.show()\n",
    "\n",
    "# Stacked Bar Chart: Total Cases\n",
    "plt.figure(figsize=(8, 4))\n",
    "plt.bar(df[\"Age group\"], df[\"Vaccinated_Deaths\"], label=\"Vaccinated Deaths\", color=\"green\")\n",
    "plt.bar(df[\"Age group\"], df[\"Unvaccinated_Deaths\"], bottom=df[\"Vaccinated_Deaths\"], label=\"Unvaccinated Deaths\", color=\"purple\")\n",
    "plt.xlabel(\"Age Group\")\n",
    "plt.ylabel(\"Number of Deaths\")\n",
    "plt.title(\"Total COVID-19 Deaths by Age Group (Stacked)\")\n",
    "plt.legend()\n",
    "plt.tight_layout()\n",
    "plt.show()"
   ]
  },
  {
   "cell_type": "markdown",
   "id": "7a261394-6be8-4edd-b317-53bc1c5073a6",
   "metadata": {},
   "source": [
    "**Total COVID-19 deaths by vaccination status and age group.**\n",
    "\n",
    "There is a disparity between vaccinated and unvaccinated populations.\n",
    "About 905,000 deaths occurred across all age groups, with 82% (739,996) among unvaccinated individuals.\n",
    "The 65-79 and 80+ age groups were at the highest death tolls (95,934 and 85,793 deaths, respectively), driven primarily by unvaccinated individuals.\n",
    "Deaths among children and adolescents (5-11, and 12-17 years) were minimal, 259 deaths.\n",
    "Summery (importance of vaccination): Deaths among vaccinated individuals were consistently lower across all age groups, \n",
    "reflecting vaccine effectiveness in reducing mortality."
   ]
  },
  {
   "cell_type": "code",
   "execution_count": null,
   "id": "cf88a1d0-bfbe-4c60-9a03-e4a27a4b71e2",
   "metadata": {},
   "outputs": [],
   "source": []
  },
  {
   "cell_type": "code",
   "execution_count": null,
   "id": "d12748a5-a3e7-495f-bdc1-51371e6b1180",
   "metadata": {},
   "outputs": [],
   "source": []
  },
  {
   "cell_type": "markdown",
   "id": "87d7316c-ed38-46fa-8a78-73caa937a875",
   "metadata": {},
   "source": [
    "**LEVEL OF TRANSMISSION BY DATE AND STATE**"
   ]
  },
  {
   "cell_type": "code",
   "execution_count": 24,
   "id": "6a61ef9c-48a5-4313-8d17-be38f114571c",
   "metadata": {},
   "outputs": [
    {
     "ename": "DatabaseError",
     "evalue": "Execution failed on sql '\nSELECT \n    state_name, \n    date, \n    community_transmission_level, \n    COUNT(*) AS level_count\nFROM \n    trans_level_columns\n    GROUP BY \n    state_name, date, community_transmission_level\nORDER BY \n    date, state_name;\n': no such table: trans_level_columns",
     "output_type": "error",
     "traceback": [
      "\u001b[1;31m---------------------------------------------------------------------------\u001b[0m",
      "\u001b[1;31mOperationalError\u001b[0m                          Traceback (most recent call last)",
      "File \u001b[1;32m~\\AppData\\Local\\Programs\\Python\\Python312\\Lib\\site-packages\\pandas\\io\\sql.py:2674\u001b[0m, in \u001b[0;36mSQLiteDatabase.execute\u001b[1;34m(self, sql, params)\u001b[0m\n\u001b[0;32m   2673\u001b[0m \u001b[38;5;28;01mtry\u001b[39;00m:\n\u001b[1;32m-> 2674\u001b[0m     \u001b[43mcur\u001b[49m\u001b[38;5;241;43m.\u001b[39;49m\u001b[43mexecute\u001b[49m\u001b[43m(\u001b[49m\u001b[43msql\u001b[49m\u001b[43m,\u001b[49m\u001b[43m \u001b[49m\u001b[38;5;241;43m*\u001b[39;49m\u001b[43margs\u001b[49m\u001b[43m)\u001b[49m\n\u001b[0;32m   2675\u001b[0m     \u001b[38;5;28;01mreturn\u001b[39;00m cur\n",
      "\u001b[1;31mOperationalError\u001b[0m: no such table: trans_level_columns",
      "\nThe above exception was the direct cause of the following exception:\n",
      "\u001b[1;31mDatabaseError\u001b[0m                             Traceback (most recent call last)",
      "Cell \u001b[1;32mIn[24], line 20\u001b[0m\n\u001b[0;32m      6\u001b[0m \u001b[38;5;66;03m# Execute the query\u001b[39;00m\n\u001b[0;32m      7\u001b[0m query \u001b[38;5;241m=\u001b[39m \u001b[38;5;124m\"\"\"\u001b[39m\n\u001b[0;32m      8\u001b[0m \u001b[38;5;124mSELECT \u001b[39m\n\u001b[0;32m      9\u001b[0m \u001b[38;5;124m    state_name, \u001b[39m\n\u001b[1;32m   (...)\u001b[0m\n\u001b[0;32m     18\u001b[0m \u001b[38;5;124m    date, state_name;\u001b[39m\n\u001b[0;32m     19\u001b[0m \u001b[38;5;124m\"\"\"\u001b[39m\n\u001b[1;32m---> 20\u001b[0m data \u001b[38;5;241m=\u001b[39m \u001b[43mpd\u001b[49m\u001b[38;5;241;43m.\u001b[39;49m\u001b[43mread_sql\u001b[49m\u001b[43m(\u001b[49m\u001b[43mquery\u001b[49m\u001b[43m,\u001b[49m\u001b[43m \u001b[49m\u001b[43mconn\u001b[49m\u001b[43m)\u001b[49m\n\u001b[0;32m     21\u001b[0m conn\u001b[38;5;241m.\u001b[39mclose()\n\u001b[0;32m     23\u001b[0m \u001b[38;5;66;03m# Convert 'date' column to datetime\u001b[39;00m\n",
      "File \u001b[1;32m~\\AppData\\Local\\Programs\\Python\\Python312\\Lib\\site-packages\\pandas\\io\\sql.py:706\u001b[0m, in \u001b[0;36mread_sql\u001b[1;34m(sql, con, index_col, coerce_float, params, parse_dates, columns, chunksize, dtype_backend, dtype)\u001b[0m\n\u001b[0;32m    704\u001b[0m \u001b[38;5;28;01mwith\u001b[39;00m pandasSQL_builder(con) \u001b[38;5;28;01mas\u001b[39;00m pandas_sql:\n\u001b[0;32m    705\u001b[0m     \u001b[38;5;28;01mif\u001b[39;00m \u001b[38;5;28misinstance\u001b[39m(pandas_sql, SQLiteDatabase):\n\u001b[1;32m--> 706\u001b[0m         \u001b[38;5;28;01mreturn\u001b[39;00m \u001b[43mpandas_sql\u001b[49m\u001b[38;5;241;43m.\u001b[39;49m\u001b[43mread_query\u001b[49m\u001b[43m(\u001b[49m\n\u001b[0;32m    707\u001b[0m \u001b[43m            \u001b[49m\u001b[43msql\u001b[49m\u001b[43m,\u001b[49m\n\u001b[0;32m    708\u001b[0m \u001b[43m            \u001b[49m\u001b[43mindex_col\u001b[49m\u001b[38;5;241;43m=\u001b[39;49m\u001b[43mindex_col\u001b[49m\u001b[43m,\u001b[49m\n\u001b[0;32m    709\u001b[0m \u001b[43m            \u001b[49m\u001b[43mparams\u001b[49m\u001b[38;5;241;43m=\u001b[39;49m\u001b[43mparams\u001b[49m\u001b[43m,\u001b[49m\n\u001b[0;32m    710\u001b[0m \u001b[43m            \u001b[49m\u001b[43mcoerce_float\u001b[49m\u001b[38;5;241;43m=\u001b[39;49m\u001b[43mcoerce_float\u001b[49m\u001b[43m,\u001b[49m\n\u001b[0;32m    711\u001b[0m \u001b[43m            \u001b[49m\u001b[43mparse_dates\u001b[49m\u001b[38;5;241;43m=\u001b[39;49m\u001b[43mparse_dates\u001b[49m\u001b[43m,\u001b[49m\n\u001b[0;32m    712\u001b[0m \u001b[43m            \u001b[49m\u001b[43mchunksize\u001b[49m\u001b[38;5;241;43m=\u001b[39;49m\u001b[43mchunksize\u001b[49m\u001b[43m,\u001b[49m\n\u001b[0;32m    713\u001b[0m \u001b[43m            \u001b[49m\u001b[43mdtype_backend\u001b[49m\u001b[38;5;241;43m=\u001b[39;49m\u001b[43mdtype_backend\u001b[49m\u001b[43m,\u001b[49m\n\u001b[0;32m    714\u001b[0m \u001b[43m            \u001b[49m\u001b[43mdtype\u001b[49m\u001b[38;5;241;43m=\u001b[39;49m\u001b[43mdtype\u001b[49m\u001b[43m,\u001b[49m\n\u001b[0;32m    715\u001b[0m \u001b[43m        \u001b[49m\u001b[43m)\u001b[49m\n\u001b[0;32m    717\u001b[0m     \u001b[38;5;28;01mtry\u001b[39;00m:\n\u001b[0;32m    718\u001b[0m         _is_table_name \u001b[38;5;241m=\u001b[39m pandas_sql\u001b[38;5;241m.\u001b[39mhas_table(sql)\n",
      "File \u001b[1;32m~\\AppData\\Local\\Programs\\Python\\Python312\\Lib\\site-packages\\pandas\\io\\sql.py:2738\u001b[0m, in \u001b[0;36mSQLiteDatabase.read_query\u001b[1;34m(self, sql, index_col, coerce_float, parse_dates, params, chunksize, dtype, dtype_backend)\u001b[0m\n\u001b[0;32m   2727\u001b[0m \u001b[38;5;28;01mdef\u001b[39;00m \u001b[38;5;21mread_query\u001b[39m(\n\u001b[0;32m   2728\u001b[0m     \u001b[38;5;28mself\u001b[39m,\n\u001b[0;32m   2729\u001b[0m     sql,\n\u001b[1;32m   (...)\u001b[0m\n\u001b[0;32m   2736\u001b[0m     dtype_backend: DtypeBackend \u001b[38;5;241m|\u001b[39m Literal[\u001b[38;5;124m\"\u001b[39m\u001b[38;5;124mnumpy\u001b[39m\u001b[38;5;124m\"\u001b[39m] \u001b[38;5;241m=\u001b[39m \u001b[38;5;124m\"\u001b[39m\u001b[38;5;124mnumpy\u001b[39m\u001b[38;5;124m\"\u001b[39m,\n\u001b[0;32m   2737\u001b[0m ) \u001b[38;5;241m-\u001b[39m\u001b[38;5;241m>\u001b[39m DataFrame \u001b[38;5;241m|\u001b[39m Iterator[DataFrame]:\n\u001b[1;32m-> 2738\u001b[0m     cursor \u001b[38;5;241m=\u001b[39m \u001b[38;5;28;43mself\u001b[39;49m\u001b[38;5;241;43m.\u001b[39;49m\u001b[43mexecute\u001b[49m\u001b[43m(\u001b[49m\u001b[43msql\u001b[49m\u001b[43m,\u001b[49m\u001b[43m \u001b[49m\u001b[43mparams\u001b[49m\u001b[43m)\u001b[49m\n\u001b[0;32m   2739\u001b[0m     columns \u001b[38;5;241m=\u001b[39m [col_desc[\u001b[38;5;241m0\u001b[39m] \u001b[38;5;28;01mfor\u001b[39;00m col_desc \u001b[38;5;129;01min\u001b[39;00m cursor\u001b[38;5;241m.\u001b[39mdescription]\n\u001b[0;32m   2741\u001b[0m     \u001b[38;5;28;01mif\u001b[39;00m chunksize \u001b[38;5;129;01mis\u001b[39;00m \u001b[38;5;129;01mnot\u001b[39;00m \u001b[38;5;28;01mNone\u001b[39;00m:\n",
      "File \u001b[1;32m~\\AppData\\Local\\Programs\\Python\\Python312\\Lib\\site-packages\\pandas\\io\\sql.py:2686\u001b[0m, in \u001b[0;36mSQLiteDatabase.execute\u001b[1;34m(self, sql, params)\u001b[0m\n\u001b[0;32m   2683\u001b[0m     \u001b[38;5;28;01mraise\u001b[39;00m ex \u001b[38;5;28;01mfrom\u001b[39;00m \u001b[38;5;21;01minner_exc\u001b[39;00m\n\u001b[0;32m   2685\u001b[0m ex \u001b[38;5;241m=\u001b[39m DatabaseError(\u001b[38;5;124mf\u001b[39m\u001b[38;5;124m\"\u001b[39m\u001b[38;5;124mExecution failed on sql \u001b[39m\u001b[38;5;124m'\u001b[39m\u001b[38;5;132;01m{\u001b[39;00msql\u001b[38;5;132;01m}\u001b[39;00m\u001b[38;5;124m'\u001b[39m\u001b[38;5;124m: \u001b[39m\u001b[38;5;132;01m{\u001b[39;00mexc\u001b[38;5;132;01m}\u001b[39;00m\u001b[38;5;124m\"\u001b[39m)\n\u001b[1;32m-> 2686\u001b[0m \u001b[38;5;28;01mraise\u001b[39;00m ex \u001b[38;5;28;01mfrom\u001b[39;00m \u001b[38;5;21;01mexc\u001b[39;00m\n",
      "\u001b[1;31mDatabaseError\u001b[0m: Execution failed on sql '\nSELECT \n    state_name, \n    date, \n    community_transmission_level, \n    COUNT(*) AS level_count\nFROM \n    trans_level_columns\n    GROUP BY \n    state_name, date, community_transmission_level\nORDER BY \n    date, state_name;\n': no such table: trans_level_columns"
     ]
    }
   ],
   "source": [
    "trans_level = pd.read_csv(\"Data/clean/clean_data_small_2.csv\")\n",
    "\n",
    "#Connect to SQLite database\n",
    "conn = sqlite3.connect('SQL_data2.db')\n",
    "\n",
    "# Execute the query\n",
    "query = \"\"\"\n",
    "SELECT \n",
    "    state_name, \n",
    "    date, \n",
    "    community_transmission_level, \n",
    "    COUNT(*) AS level_count\n",
    "FROM \n",
    "    trans_level\n",
    "    GROUP BY \n",
    "    state_name, date, community_transmission_level\n",
    "ORDER BY \n",
    "    date, state_name;\n",
    "\"\"\"\n",
    "data = pd.read_sql(query, conn)\n",
    "conn.close()\n",
    "\n",
    "# Convert 'date' column to datetime\n",
    "data['date'] = pd.to_datetime(data['date'])\n",
    "\n",
    "# 1. **Heatmap**: State vs. Date with Transmission Level\n",
    "heatmap_data = data.pivot_table(\n",
    "    index='state_name', \n",
    "    columns='date', \n",
    "    values='level_count', \n",
    "    aggfunc='sum'\n",
    ")\n",
    "\n",
    "plt.figure(figsize=(8, 4))\n",
    "sns.heatmap(heatmap_data, cmap='coolwarm', linewidths=0.5)\n",
    "plt.title(\"Community Transmission Levels by State and Date\", fontsize=16)\n",
    "plt.xlabel(\"Date\", fontsize=12)\n",
    "plt.ylabel(\"State\", fontsize=12)\n",
    "plt.show()"
   ]
  },
  {
   "cell_type": "code",
   "execution_count": 58,
   "id": "55d3b873-e15b-4950-8620-5593d6d3f71d",
   "metadata": {},
   "outputs": [
    {
     "name": "stdout",
     "output_type": "stream",
     "text": [
      "  outcome date  MMWR week Age group Vaccine product  Vaccinated with outcome  \\\n",
      "0    case  NaT     202114     12-17       all_types                        8   \n",
      "1    case  NaT     202114     18-29       all_types                      674   \n",
      "2    case  NaT     202114     30-49       all_types                     1847   \n",
      "3    case  NaT     202114     50-64       all_types                     1558   \n",
      "4    case  NaT     202114     65-79       all_types                     1672   \n",
      "\n",
      "   Fully vaccinated population  Unvaccinated with outcome  \\\n",
      "0                      36887.0                      30785   \n",
      "1                    2543093.0                      76736   \n",
      "2                    7428405.0                      98436   \n",
      "3                    7487444.0                      50324   \n",
      "4                   14398099.0                      14880   \n",
      "\n",
      "   Unvaccinated population  Crude vax IR  Crude unvax IR  Crude IRR  \\\n",
      "0               17556462.0     21.687858      175.348541   8.085102   \n",
      "1               31091322.0     26.503160      246.808418   9.312415   \n",
      "2               41074337.0     24.864019      239.653290   9.638558   \n",
      "3               22948569.0     20.808169      219.290362  10.538667   \n",
      "4                7675907.0     11.612644      193.853313  16.693297   \n",
      "\n",
      "   Continuity correction  \n",
      "0                      0  \n",
      "1                      0  \n",
      "2                      0  \n",
      "3                      0  \n",
      "4                      0  \n",
      "  state_name     county_name  fips_code date  \\\n",
      "0      Texas  Jackson County      48239  NaT   \n",
      "1   Nebraska  Buffalo County      31019  NaT   \n",
      "2   Illinois    Coles County      17029  NaT   \n",
      "3       Iowa      Ida County      19093  NaT   \n",
      "4  Tennessee     Knox County      47093  NaT   \n",
      "\n",
      "   cases_per_100K_7_day_count_change  \\\n",
      "0                                0.0   \n",
      "1                                0.0   \n",
      "2                                0.0   \n",
      "3                                0.0   \n",
      "4                                0.0   \n",
      "\n",
      "   percent_test_results_reported_positive_last_7_days  \\\n",
      "0                                         145.347542    \n",
      "1                                         145.347542    \n",
      "2                                         145.347542    \n",
      "3                                         145.347542    \n",
      "4                                         145.347542    \n",
      "\n",
      "  community_transmission_level  \n",
      "0                         high  \n",
      "1                         high  \n",
      "2                         high  \n",
      "3                         high  \n",
      "4                          low  \n"
     ]
    }
   ],
   "source": [
    "# Check for rows where conversion failed (NaT values)\n",
    "print(Covid_rates[Covid_rates['date'].isna()])\n",
    "print(trans_level[trans_level['date'].isna()])"
   ]
  },
  {
   "cell_type": "code",
   "execution_count": 100,
   "id": "9748cd4b-2adb-4e41-9e98-1f4de8cd1064",
   "metadata": {},
   "outputs": [
    {
     "name": "stdout",
     "output_type": "stream",
     "text": [
      "      date\n",
      "0  04/2021\n",
      "1  04/2021\n",
      "2  04/2021\n",
      "3  04/2021\n",
      "4  04/2021\n",
      "      date\n",
      "0  01/2020\n",
      "1  01/2020\n",
      "2  01/2020\n",
      "3  01/2020\n",
      "4  01/2020\n"
     ]
    }
   ],
   "source": [
    "# Fill NaT values with a default date using direct assignment\n",
    "Covid_rates['date'] = Covid_rates['date'].fillna('04/2021')\n",
    "trans_level['date'] = trans_level['date'].fillna('01/2020')\n",
    "\n",
    "Covid_rates['date'] = pd.to_datetime(Covid_rates['date']).dt.strftime('%m/%Y')\n",
    "trans_level['date'] = pd.to_datetime(trans_level['date']).dt.strftime('%m/%Y')\n",
    "\n",
    "# Check the final result\n",
    "print(Covid_rates[['date']].head())\n",
    "print(trans_level[['date']].head())"
   ]
  },
  {
   "cell_type": "code",
   "execution_count": 63,
   "id": "72324a16-8f23-42f6-a59a-30fcaf8fa9be",
   "metadata": {},
   "outputs": [
    {
     "name": "stdout",
     "output_type": "stream",
     "text": [
      "  outcome     date  MMWR week Age group Vaccine product  \\\n",
      "0    case  04/2021     202114     12-17       all_types   \n",
      "1    case  04/2021     202114     18-29       all_types   \n",
      "2    case  04/2021     202114     30-49       all_types   \n",
      "3    case  04/2021     202114     50-64       all_types   \n",
      "4    case  04/2021     202114     65-79       all_types   \n",
      "\n",
      "   Vaccinated with outcome  Fully vaccinated population  \\\n",
      "0                        8                      36887.0   \n",
      "1                      674                    2543093.0   \n",
      "2                     1847                    7428405.0   \n",
      "3                     1558                    7487444.0   \n",
      "4                     1672                   14398099.0   \n",
      "\n",
      "   Unvaccinated with outcome  Unvaccinated population  Crude vax IR  \\\n",
      "0                      30785               17556462.0     21.687858   \n",
      "1                      76736               31091322.0     26.503160   \n",
      "2                      98436               41074337.0     24.864019   \n",
      "3                      50324               22948569.0     20.808169   \n",
      "4                      14880                7675907.0     11.612644   \n",
      "\n",
      "   Crude unvax IR  Crude IRR  Continuity correction state_name county_name  \\\n",
      "0      175.348541   8.085102                      0        NaN         NaN   \n",
      "1      246.808418   9.312415                      0        NaN         NaN   \n",
      "2      239.653290   9.638558                      0        NaN         NaN   \n",
      "3      219.290362  10.538667                      0        NaN         NaN   \n",
      "4      193.853313  16.693297                      0        NaN         NaN   \n",
      "\n",
      "   fips_code  cases_per_100K_7_day_count_change  \\\n",
      "0        NaN                                NaN   \n",
      "1        NaN                                NaN   \n",
      "2        NaN                                NaN   \n",
      "3        NaN                                NaN   \n",
      "4        NaN                                NaN   \n",
      "\n",
      "   percent_test_results_reported_positive_last_7_days  \\\n",
      "0                                                NaN    \n",
      "1                                                NaN    \n",
      "2                                                NaN    \n",
      "3                                                NaN    \n",
      "4                                                NaN    \n",
      "\n",
      "  community_transmission_level  \n",
      "0                          NaN  \n",
      "1                          NaN  \n",
      "2                          NaN  \n",
      "3                          NaN  \n",
      "4                          NaN  \n"
     ]
    }
   ],
   "source": [
    "# Merge the datasets on the 'date' columns\n",
    "merged_data = pd.merge(Covid_rates, trans_level, on=['date'], how='left')\n",
    "                    \n",
    "print(merged_data.head())"
   ]
  },
  {
   "cell_type": "code",
   "execution_count": 69,
   "id": "74d17b7f-37cd-4663-bafe-362f5f816bf2",
   "metadata": {},
   "outputs": [
    {
     "name": "stdout",
     "output_type": "stream",
     "text": [
      "(5, 19)\n"
     ]
    }
   ],
   "source": [
    "print(merged_data.shape)"
   ]
  },
  {
   "cell_type": "code",
   "execution_count": 70,
   "id": "5989b408-504e-4302-97c0-4a0fa72e5285",
   "metadata": {},
   "outputs": [
    {
     "data": {
      "text/plain": [
       "outcome                                               0\n",
       "date                                                  0\n",
       "MMWR week                                             0\n",
       "Age group                                             0\n",
       "Vaccine product                                       0\n",
       "Vaccinated with outcome                               0\n",
       "Fully vaccinated population                           0\n",
       "Unvaccinated with outcome                             0\n",
       "Unvaccinated population                               0\n",
       "Crude vax IR                                          0\n",
       "Crude unvax IR                                        0\n",
       "Crude IRR                                             0\n",
       "Continuity correction                                 0\n",
       "state_name                                            5\n",
       "county_name                                           5\n",
       "fips_code                                             5\n",
       "cases_per_100K_7_day_count_change                     5\n",
       "percent_test_results_reported_positive_last_7_days    5\n",
       "community_transmission_level                          5\n",
       "dtype: int64"
      ]
     },
     "execution_count": 70,
     "metadata": {},
     "output_type": "execute_result"
    }
   ],
   "source": [
    "merged_data.isnull().sum()"
   ]
  },
  {
   "cell_type": "code",
   "execution_count": 86,
   "id": "36fa8a3a-21a0-464e-a78b-598d6d984b43",
   "metadata": {},
   "outputs": [
    {
     "data": {
      "text/html": [
       "<div>\n",
       "<style scoped>\n",
       "    .dataframe tbody tr th:only-of-type {\n",
       "        vertical-align: middle;\n",
       "    }\n",
       "\n",
       "    .dataframe tbody tr th {\n",
       "        vertical-align: top;\n",
       "    }\n",
       "\n",
       "    .dataframe thead th {\n",
       "        text-align: right;\n",
       "    }\n",
       "</style>\n",
       "<table border=\"1\" class=\"dataframe\">\n",
       "  <thead>\n",
       "    <tr style=\"text-align: right;\">\n",
       "      <th></th>\n",
       "      <th>MMWR week</th>\n",
       "      <th>Vaccinated with outcome</th>\n",
       "      <th>Fully vaccinated population</th>\n",
       "      <th>Unvaccinated with outcome</th>\n",
       "      <th>Unvaccinated population</th>\n",
       "      <th>Crude vax IR</th>\n",
       "      <th>Crude unvax IR</th>\n",
       "      <th>Crude IRR</th>\n",
       "      <th>Continuity correction</th>\n",
       "      <th>fips_code</th>\n",
       "      <th>cases_per_100K_7_day_count_change</th>\n",
       "      <th>percent_test_results_reported_positive_last_7_days</th>\n",
       "    </tr>\n",
       "  </thead>\n",
       "  <tbody>\n",
       "    <tr>\n",
       "      <th>count</th>\n",
       "      <td>0.0</td>\n",
       "      <td>0.0</td>\n",
       "      <td>0.0</td>\n",
       "      <td>0.0</td>\n",
       "      <td>0.0</td>\n",
       "      <td>0.0</td>\n",
       "      <td>0.0</td>\n",
       "      <td>0.0</td>\n",
       "      <td>0.0</td>\n",
       "      <td>0.0</td>\n",
       "      <td>0.0</td>\n",
       "      <td>0.0</td>\n",
       "    </tr>\n",
       "    <tr>\n",
       "      <th>mean</th>\n",
       "      <td>NaN</td>\n",
       "      <td>NaN</td>\n",
       "      <td>NaN</td>\n",
       "      <td>NaN</td>\n",
       "      <td>NaN</td>\n",
       "      <td>NaN</td>\n",
       "      <td>NaN</td>\n",
       "      <td>NaN</td>\n",
       "      <td>NaN</td>\n",
       "      <td>NaN</td>\n",
       "      <td>NaN</td>\n",
       "      <td>NaN</td>\n",
       "    </tr>\n",
       "    <tr>\n",
       "      <th>std</th>\n",
       "      <td>NaN</td>\n",
       "      <td>NaN</td>\n",
       "      <td>NaN</td>\n",
       "      <td>NaN</td>\n",
       "      <td>NaN</td>\n",
       "      <td>NaN</td>\n",
       "      <td>NaN</td>\n",
       "      <td>NaN</td>\n",
       "      <td>NaN</td>\n",
       "      <td>NaN</td>\n",
       "      <td>NaN</td>\n",
       "      <td>NaN</td>\n",
       "    </tr>\n",
       "    <tr>\n",
       "      <th>min</th>\n",
       "      <td>NaN</td>\n",
       "      <td>NaN</td>\n",
       "      <td>NaN</td>\n",
       "      <td>NaN</td>\n",
       "      <td>NaN</td>\n",
       "      <td>NaN</td>\n",
       "      <td>NaN</td>\n",
       "      <td>NaN</td>\n",
       "      <td>NaN</td>\n",
       "      <td>NaN</td>\n",
       "      <td>NaN</td>\n",
       "      <td>NaN</td>\n",
       "    </tr>\n",
       "    <tr>\n",
       "      <th>25%</th>\n",
       "      <td>NaN</td>\n",
       "      <td>NaN</td>\n",
       "      <td>NaN</td>\n",
       "      <td>NaN</td>\n",
       "      <td>NaN</td>\n",
       "      <td>NaN</td>\n",
       "      <td>NaN</td>\n",
       "      <td>NaN</td>\n",
       "      <td>NaN</td>\n",
       "      <td>NaN</td>\n",
       "      <td>NaN</td>\n",
       "      <td>NaN</td>\n",
       "    </tr>\n",
       "    <tr>\n",
       "      <th>50%</th>\n",
       "      <td>NaN</td>\n",
       "      <td>NaN</td>\n",
       "      <td>NaN</td>\n",
       "      <td>NaN</td>\n",
       "      <td>NaN</td>\n",
       "      <td>NaN</td>\n",
       "      <td>NaN</td>\n",
       "      <td>NaN</td>\n",
       "      <td>NaN</td>\n",
       "      <td>NaN</td>\n",
       "      <td>NaN</td>\n",
       "      <td>NaN</td>\n",
       "    </tr>\n",
       "    <tr>\n",
       "      <th>75%</th>\n",
       "      <td>NaN</td>\n",
       "      <td>NaN</td>\n",
       "      <td>NaN</td>\n",
       "      <td>NaN</td>\n",
       "      <td>NaN</td>\n",
       "      <td>NaN</td>\n",
       "      <td>NaN</td>\n",
       "      <td>NaN</td>\n",
       "      <td>NaN</td>\n",
       "      <td>NaN</td>\n",
       "      <td>NaN</td>\n",
       "      <td>NaN</td>\n",
       "    </tr>\n",
       "    <tr>\n",
       "      <th>max</th>\n",
       "      <td>NaN</td>\n",
       "      <td>NaN</td>\n",
       "      <td>NaN</td>\n",
       "      <td>NaN</td>\n",
       "      <td>NaN</td>\n",
       "      <td>NaN</td>\n",
       "      <td>NaN</td>\n",
       "      <td>NaN</td>\n",
       "      <td>NaN</td>\n",
       "      <td>NaN</td>\n",
       "      <td>NaN</td>\n",
       "      <td>NaN</td>\n",
       "    </tr>\n",
       "  </tbody>\n",
       "</table>\n",
       "</div>"
      ],
      "text/plain": [
       "       MMWR week  Vaccinated with outcome  Fully vaccinated population  \\\n",
       "count        0.0                      0.0                          0.0   \n",
       "mean         NaN                      NaN                          NaN   \n",
       "std          NaN                      NaN                          NaN   \n",
       "min          NaN                      NaN                          NaN   \n",
       "25%          NaN                      NaN                          NaN   \n",
       "50%          NaN                      NaN                          NaN   \n",
       "75%          NaN                      NaN                          NaN   \n",
       "max          NaN                      NaN                          NaN   \n",
       "\n",
       "       Unvaccinated with outcome  Unvaccinated population  Crude vax IR  \\\n",
       "count                        0.0                      0.0           0.0   \n",
       "mean                         NaN                      NaN           NaN   \n",
       "std                          NaN                      NaN           NaN   \n",
       "min                          NaN                      NaN           NaN   \n",
       "25%                          NaN                      NaN           NaN   \n",
       "50%                          NaN                      NaN           NaN   \n",
       "75%                          NaN                      NaN           NaN   \n",
       "max                          NaN                      NaN           NaN   \n",
       "\n",
       "       Crude unvax IR  Crude IRR  Continuity correction  fips_code  \\\n",
       "count             0.0        0.0                    0.0        0.0   \n",
       "mean              NaN        NaN                    NaN        NaN   \n",
       "std               NaN        NaN                    NaN        NaN   \n",
       "min               NaN        NaN                    NaN        NaN   \n",
       "25%               NaN        NaN                    NaN        NaN   \n",
       "50%               NaN        NaN                    NaN        NaN   \n",
       "75%               NaN        NaN                    NaN        NaN   \n",
       "max               NaN        NaN                    NaN        NaN   \n",
       "\n",
       "       cases_per_100K_7_day_count_change  \\\n",
       "count                                0.0   \n",
       "mean                                 NaN   \n",
       "std                                  NaN   \n",
       "min                                  NaN   \n",
       "25%                                  NaN   \n",
       "50%                                  NaN   \n",
       "75%                                  NaN   \n",
       "max                                  NaN   \n",
       "\n",
       "       percent_test_results_reported_positive_last_7_days  \n",
       "count                                                0.0   \n",
       "mean                                                 NaN   \n",
       "std                                                  NaN   \n",
       "min                                                  NaN   \n",
       "25%                                                  NaN   \n",
       "50%                                                  NaN   \n",
       "75%                                                  NaN   \n",
       "max                                                  NaN   "
      ]
     },
     "execution_count": 86,
     "metadata": {},
     "output_type": "execute_result"
    }
   ],
   "source": [
    "merged_data.describe()"
   ]
  },
  {
   "cell_type": "code",
   "execution_count": null,
   "id": "094f61ce-699b-4db5-b709-f63d7643283d",
   "metadata": {},
   "outputs": [],
   "source": []
  },
  {
   "cell_type": "code",
   "execution_count": null,
   "id": "7d32102c-bb34-4035-84ca-04395dcf08e3",
   "metadata": {},
   "outputs": [],
   "source": []
  },
  {
   "cell_type": "code",
   "execution_count": 44,
   "id": "4be67272-3d10-4600-b68a-7b63b77422a7",
   "metadata": {},
   "outputs": [
    {
     "data": {
      "text/plain": [
       "np.int64(0)"
      ]
     },
     "execution_count": 44,
     "metadata": {},
     "output_type": "execute_result"
    }
   ],
   "source": [
    "merged_data.duplicated().sum()"
   ]
  },
  {
   "cell_type": "code",
   "execution_count": 78,
   "id": "a2587516-2ac5-4e72-acd1-54b86b535f90",
   "metadata": {},
   "outputs": [
    {
     "data": {
      "text/html": [
       "<div>\n",
       "<style scoped>\n",
       "    .dataframe tbody tr th:only-of-type {\n",
       "        vertical-align: middle;\n",
       "    }\n",
       "\n",
       "    .dataframe tbody tr th {\n",
       "        vertical-align: top;\n",
       "    }\n",
       "\n",
       "    .dataframe thead th {\n",
       "        text-align: right;\n",
       "    }\n",
       "</style>\n",
       "<table border=\"1\" class=\"dataframe\">\n",
       "  <thead>\n",
       "    <tr style=\"text-align: right;\">\n",
       "      <th></th>\n",
       "      <th>outcome</th>\n",
       "      <th>date</th>\n",
       "      <th>MMWR week</th>\n",
       "      <th>Age group</th>\n",
       "      <th>Vaccine product</th>\n",
       "      <th>Vaccinated with outcome</th>\n",
       "      <th>Fully vaccinated population</th>\n",
       "      <th>Unvaccinated with outcome</th>\n",
       "      <th>Unvaccinated population</th>\n",
       "      <th>Crude vax IR</th>\n",
       "      <th>Crude unvax IR</th>\n",
       "      <th>Crude IRR</th>\n",
       "      <th>Continuity correction</th>\n",
       "      <th>state_name</th>\n",
       "      <th>county_name</th>\n",
       "      <th>fips_code</th>\n",
       "      <th>cases_per_100K_7_day_count_change</th>\n",
       "      <th>percent_test_results_reported_positive_last_7_days</th>\n",
       "      <th>community_transmission_level</th>\n",
       "    </tr>\n",
       "  </thead>\n",
       "  <tbody>\n",
       "  </tbody>\n",
       "</table>\n",
       "</div>"
      ],
      "text/plain": [
       "Empty DataFrame\n",
       "Columns: [outcome, date, MMWR week, Age group, Vaccine product, Vaccinated with outcome, Fully vaccinated population, Unvaccinated with outcome, Unvaccinated population, Crude vax IR, Crude unvax IR, Crude IRR, Continuity correction, state_name, county_name, fips_code, cases_per_100K_7_day_count_change, percent_test_results_reported_positive_last_7_days, community_transmission_level]\n",
       "Index: []"
      ]
     },
     "execution_count": 78,
     "metadata": {},
     "output_type": "execute_result"
    }
   ],
   "source": [
    "merged_data.head(5)"
   ]
  },
  {
   "cell_type": "code",
   "execution_count": null,
   "id": "17854862-c55d-4911-9acf-5424b3b1e303",
   "metadata": {},
   "outputs": [],
   "source": []
  }
 ],
 "metadata": {
  "kernelspec": {
   "display_name": "Python 3 (ipykernel)",
   "language": "python",
   "name": "python3"
  },
  "language_info": {
   "codemirror_mode": {
    "name": "ipython",
    "version": 3
   },
   "file_extension": ".py",
   "mimetype": "text/x-python",
   "name": "python",
   "nbconvert_exporter": "python",
   "pygments_lexer": "ipython3",
   "version": "3.12.4"
  }
 },
 "nbformat": 4,
 "nbformat_minor": 5
}
