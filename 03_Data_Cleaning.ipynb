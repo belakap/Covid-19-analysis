{
 "cells": [
  {
   "cell_type": "markdown",
   "id": "6595cc0b-7acc-429a-92af-35e28eb801c0",
   "metadata": {},
   "source": [
    "**CLEANING Rates_of_Cases_or_Deaths.csv** (First dataset)"
   ]
  },
  {
   "cell_type": "code",
   "execution_count": 1,
   "id": "65c005f5-73ea-402b-963c-fc51d5019a45",
   "metadata": {},
   "outputs": [],
   "source": [
    "import pandas as pd\n",
    "import shutil\n",
    "import re"
   ]
  },
  {
   "cell_type": "code",
   "execution_count": 2,
   "id": "146b0d49-693c-4a0f-8571-37eb8186b21c",
   "metadata": {},
   "outputs": [
    {
     "ename": "FileNotFoundError",
     "evalue": "[Errno 2] No such file or directory: 'raw/Rates_of_Cases_or_Deaths.csv'",
     "output_type": "error",
     "traceback": [
      "\u001b[1;31m---------------------------------------------------------------------------\u001b[0m",
      "\u001b[1;31mFileNotFoundError\u001b[0m                         Traceback (most recent call last)",
      "Cell \u001b[1;32mIn[2], line 1\u001b[0m\n\u001b[1;32m----> 1\u001b[0m raw \u001b[38;5;241m=\u001b[39m \u001b[43mpd\u001b[49m\u001b[38;5;241;43m.\u001b[39;49m\u001b[43mread_csv\u001b[49m\u001b[43m(\u001b[49m\u001b[38;5;124;43m\"\u001b[39;49m\u001b[38;5;124;43mraw/Rates_of_Cases_or_Deaths.csv\u001b[39;49m\u001b[38;5;124;43m\"\u001b[39;49m\u001b[43m)\u001b[49m\n",
      "File \u001b[1;32m~\\AppData\\Local\\Programs\\Python\\Python312\\Lib\\site-packages\\pandas\\io\\parsers\\readers.py:1026\u001b[0m, in \u001b[0;36mread_csv\u001b[1;34m(filepath_or_buffer, sep, delimiter, header, names, index_col, usecols, dtype, engine, converters, true_values, false_values, skipinitialspace, skiprows, skipfooter, nrows, na_values, keep_default_na, na_filter, verbose, skip_blank_lines, parse_dates, infer_datetime_format, keep_date_col, date_parser, date_format, dayfirst, cache_dates, iterator, chunksize, compression, thousands, decimal, lineterminator, quotechar, quoting, doublequote, escapechar, comment, encoding, encoding_errors, dialect, on_bad_lines, delim_whitespace, low_memory, memory_map, float_precision, storage_options, dtype_backend)\u001b[0m\n\u001b[0;32m   1013\u001b[0m kwds_defaults \u001b[38;5;241m=\u001b[39m _refine_defaults_read(\n\u001b[0;32m   1014\u001b[0m     dialect,\n\u001b[0;32m   1015\u001b[0m     delimiter,\n\u001b[1;32m   (...)\u001b[0m\n\u001b[0;32m   1022\u001b[0m     dtype_backend\u001b[38;5;241m=\u001b[39mdtype_backend,\n\u001b[0;32m   1023\u001b[0m )\n\u001b[0;32m   1024\u001b[0m kwds\u001b[38;5;241m.\u001b[39mupdate(kwds_defaults)\n\u001b[1;32m-> 1026\u001b[0m \u001b[38;5;28;01mreturn\u001b[39;00m \u001b[43m_read\u001b[49m\u001b[43m(\u001b[49m\u001b[43mfilepath_or_buffer\u001b[49m\u001b[43m,\u001b[49m\u001b[43m \u001b[49m\u001b[43mkwds\u001b[49m\u001b[43m)\u001b[49m\n",
      "File \u001b[1;32m~\\AppData\\Local\\Programs\\Python\\Python312\\Lib\\site-packages\\pandas\\io\\parsers\\readers.py:620\u001b[0m, in \u001b[0;36m_read\u001b[1;34m(filepath_or_buffer, kwds)\u001b[0m\n\u001b[0;32m    617\u001b[0m _validate_names(kwds\u001b[38;5;241m.\u001b[39mget(\u001b[38;5;124m\"\u001b[39m\u001b[38;5;124mnames\u001b[39m\u001b[38;5;124m\"\u001b[39m, \u001b[38;5;28;01mNone\u001b[39;00m))\n\u001b[0;32m    619\u001b[0m \u001b[38;5;66;03m# Create the parser.\u001b[39;00m\n\u001b[1;32m--> 620\u001b[0m parser \u001b[38;5;241m=\u001b[39m \u001b[43mTextFileReader\u001b[49m\u001b[43m(\u001b[49m\u001b[43mfilepath_or_buffer\u001b[49m\u001b[43m,\u001b[49m\u001b[43m \u001b[49m\u001b[38;5;241;43m*\u001b[39;49m\u001b[38;5;241;43m*\u001b[39;49m\u001b[43mkwds\u001b[49m\u001b[43m)\u001b[49m\n\u001b[0;32m    622\u001b[0m \u001b[38;5;28;01mif\u001b[39;00m chunksize \u001b[38;5;129;01mor\u001b[39;00m iterator:\n\u001b[0;32m    623\u001b[0m     \u001b[38;5;28;01mreturn\u001b[39;00m parser\n",
      "File \u001b[1;32m~\\AppData\\Local\\Programs\\Python\\Python312\\Lib\\site-packages\\pandas\\io\\parsers\\readers.py:1620\u001b[0m, in \u001b[0;36mTextFileReader.__init__\u001b[1;34m(self, f, engine, **kwds)\u001b[0m\n\u001b[0;32m   1617\u001b[0m     \u001b[38;5;28mself\u001b[39m\u001b[38;5;241m.\u001b[39moptions[\u001b[38;5;124m\"\u001b[39m\u001b[38;5;124mhas_index_names\u001b[39m\u001b[38;5;124m\"\u001b[39m] \u001b[38;5;241m=\u001b[39m kwds[\u001b[38;5;124m\"\u001b[39m\u001b[38;5;124mhas_index_names\u001b[39m\u001b[38;5;124m\"\u001b[39m]\n\u001b[0;32m   1619\u001b[0m \u001b[38;5;28mself\u001b[39m\u001b[38;5;241m.\u001b[39mhandles: IOHandles \u001b[38;5;241m|\u001b[39m \u001b[38;5;28;01mNone\u001b[39;00m \u001b[38;5;241m=\u001b[39m \u001b[38;5;28;01mNone\u001b[39;00m\n\u001b[1;32m-> 1620\u001b[0m \u001b[38;5;28mself\u001b[39m\u001b[38;5;241m.\u001b[39m_engine \u001b[38;5;241m=\u001b[39m \u001b[38;5;28;43mself\u001b[39;49m\u001b[38;5;241;43m.\u001b[39;49m\u001b[43m_make_engine\u001b[49m\u001b[43m(\u001b[49m\u001b[43mf\u001b[49m\u001b[43m,\u001b[49m\u001b[43m \u001b[49m\u001b[38;5;28;43mself\u001b[39;49m\u001b[38;5;241;43m.\u001b[39;49m\u001b[43mengine\u001b[49m\u001b[43m)\u001b[49m\n",
      "File \u001b[1;32m~\\AppData\\Local\\Programs\\Python\\Python312\\Lib\\site-packages\\pandas\\io\\parsers\\readers.py:1880\u001b[0m, in \u001b[0;36mTextFileReader._make_engine\u001b[1;34m(self, f, engine)\u001b[0m\n\u001b[0;32m   1878\u001b[0m     \u001b[38;5;28;01mif\u001b[39;00m \u001b[38;5;124m\"\u001b[39m\u001b[38;5;124mb\u001b[39m\u001b[38;5;124m\"\u001b[39m \u001b[38;5;129;01mnot\u001b[39;00m \u001b[38;5;129;01min\u001b[39;00m mode:\n\u001b[0;32m   1879\u001b[0m         mode \u001b[38;5;241m+\u001b[39m\u001b[38;5;241m=\u001b[39m \u001b[38;5;124m\"\u001b[39m\u001b[38;5;124mb\u001b[39m\u001b[38;5;124m\"\u001b[39m\n\u001b[1;32m-> 1880\u001b[0m \u001b[38;5;28mself\u001b[39m\u001b[38;5;241m.\u001b[39mhandles \u001b[38;5;241m=\u001b[39m \u001b[43mget_handle\u001b[49m\u001b[43m(\u001b[49m\n\u001b[0;32m   1881\u001b[0m \u001b[43m    \u001b[49m\u001b[43mf\u001b[49m\u001b[43m,\u001b[49m\n\u001b[0;32m   1882\u001b[0m \u001b[43m    \u001b[49m\u001b[43mmode\u001b[49m\u001b[43m,\u001b[49m\n\u001b[0;32m   1883\u001b[0m \u001b[43m    \u001b[49m\u001b[43mencoding\u001b[49m\u001b[38;5;241;43m=\u001b[39;49m\u001b[38;5;28;43mself\u001b[39;49m\u001b[38;5;241;43m.\u001b[39;49m\u001b[43moptions\u001b[49m\u001b[38;5;241;43m.\u001b[39;49m\u001b[43mget\u001b[49m\u001b[43m(\u001b[49m\u001b[38;5;124;43m\"\u001b[39;49m\u001b[38;5;124;43mencoding\u001b[39;49m\u001b[38;5;124;43m\"\u001b[39;49m\u001b[43m,\u001b[49m\u001b[43m \u001b[49m\u001b[38;5;28;43;01mNone\u001b[39;49;00m\u001b[43m)\u001b[49m\u001b[43m,\u001b[49m\n\u001b[0;32m   1884\u001b[0m \u001b[43m    \u001b[49m\u001b[43mcompression\u001b[49m\u001b[38;5;241;43m=\u001b[39;49m\u001b[38;5;28;43mself\u001b[39;49m\u001b[38;5;241;43m.\u001b[39;49m\u001b[43moptions\u001b[49m\u001b[38;5;241;43m.\u001b[39;49m\u001b[43mget\u001b[49m\u001b[43m(\u001b[49m\u001b[38;5;124;43m\"\u001b[39;49m\u001b[38;5;124;43mcompression\u001b[39;49m\u001b[38;5;124;43m\"\u001b[39;49m\u001b[43m,\u001b[49m\u001b[43m \u001b[49m\u001b[38;5;28;43;01mNone\u001b[39;49;00m\u001b[43m)\u001b[49m\u001b[43m,\u001b[49m\n\u001b[0;32m   1885\u001b[0m \u001b[43m    \u001b[49m\u001b[43mmemory_map\u001b[49m\u001b[38;5;241;43m=\u001b[39;49m\u001b[38;5;28;43mself\u001b[39;49m\u001b[38;5;241;43m.\u001b[39;49m\u001b[43moptions\u001b[49m\u001b[38;5;241;43m.\u001b[39;49m\u001b[43mget\u001b[49m\u001b[43m(\u001b[49m\u001b[38;5;124;43m\"\u001b[39;49m\u001b[38;5;124;43mmemory_map\u001b[39;49m\u001b[38;5;124;43m\"\u001b[39;49m\u001b[43m,\u001b[49m\u001b[43m \u001b[49m\u001b[38;5;28;43;01mFalse\u001b[39;49;00m\u001b[43m)\u001b[49m\u001b[43m,\u001b[49m\n\u001b[0;32m   1886\u001b[0m \u001b[43m    \u001b[49m\u001b[43mis_text\u001b[49m\u001b[38;5;241;43m=\u001b[39;49m\u001b[43mis_text\u001b[49m\u001b[43m,\u001b[49m\n\u001b[0;32m   1887\u001b[0m \u001b[43m    \u001b[49m\u001b[43merrors\u001b[49m\u001b[38;5;241;43m=\u001b[39;49m\u001b[38;5;28;43mself\u001b[39;49m\u001b[38;5;241;43m.\u001b[39;49m\u001b[43moptions\u001b[49m\u001b[38;5;241;43m.\u001b[39;49m\u001b[43mget\u001b[49m\u001b[43m(\u001b[49m\u001b[38;5;124;43m\"\u001b[39;49m\u001b[38;5;124;43mencoding_errors\u001b[39;49m\u001b[38;5;124;43m\"\u001b[39;49m\u001b[43m,\u001b[49m\u001b[43m \u001b[49m\u001b[38;5;124;43m\"\u001b[39;49m\u001b[38;5;124;43mstrict\u001b[39;49m\u001b[38;5;124;43m\"\u001b[39;49m\u001b[43m)\u001b[49m\u001b[43m,\u001b[49m\n\u001b[0;32m   1888\u001b[0m \u001b[43m    \u001b[49m\u001b[43mstorage_options\u001b[49m\u001b[38;5;241;43m=\u001b[39;49m\u001b[38;5;28;43mself\u001b[39;49m\u001b[38;5;241;43m.\u001b[39;49m\u001b[43moptions\u001b[49m\u001b[38;5;241;43m.\u001b[39;49m\u001b[43mget\u001b[49m\u001b[43m(\u001b[49m\u001b[38;5;124;43m\"\u001b[39;49m\u001b[38;5;124;43mstorage_options\u001b[39;49m\u001b[38;5;124;43m\"\u001b[39;49m\u001b[43m,\u001b[49m\u001b[43m \u001b[49m\u001b[38;5;28;43;01mNone\u001b[39;49;00m\u001b[43m)\u001b[49m\u001b[43m,\u001b[49m\n\u001b[0;32m   1889\u001b[0m \u001b[43m\u001b[49m\u001b[43m)\u001b[49m\n\u001b[0;32m   1890\u001b[0m \u001b[38;5;28;01massert\u001b[39;00m \u001b[38;5;28mself\u001b[39m\u001b[38;5;241m.\u001b[39mhandles \u001b[38;5;129;01mis\u001b[39;00m \u001b[38;5;129;01mnot\u001b[39;00m \u001b[38;5;28;01mNone\u001b[39;00m\n\u001b[0;32m   1891\u001b[0m f \u001b[38;5;241m=\u001b[39m \u001b[38;5;28mself\u001b[39m\u001b[38;5;241m.\u001b[39mhandles\u001b[38;5;241m.\u001b[39mhandle\n",
      "File \u001b[1;32m~\\AppData\\Local\\Programs\\Python\\Python312\\Lib\\site-packages\\pandas\\io\\common.py:873\u001b[0m, in \u001b[0;36mget_handle\u001b[1;34m(path_or_buf, mode, encoding, compression, memory_map, is_text, errors, storage_options)\u001b[0m\n\u001b[0;32m    868\u001b[0m \u001b[38;5;28;01melif\u001b[39;00m \u001b[38;5;28misinstance\u001b[39m(handle, \u001b[38;5;28mstr\u001b[39m):\n\u001b[0;32m    869\u001b[0m     \u001b[38;5;66;03m# Check whether the filename is to be opened in binary mode.\u001b[39;00m\n\u001b[0;32m    870\u001b[0m     \u001b[38;5;66;03m# Binary mode does not support 'encoding' and 'newline'.\u001b[39;00m\n\u001b[0;32m    871\u001b[0m     \u001b[38;5;28;01mif\u001b[39;00m ioargs\u001b[38;5;241m.\u001b[39mencoding \u001b[38;5;129;01mand\u001b[39;00m \u001b[38;5;124m\"\u001b[39m\u001b[38;5;124mb\u001b[39m\u001b[38;5;124m\"\u001b[39m \u001b[38;5;129;01mnot\u001b[39;00m \u001b[38;5;129;01min\u001b[39;00m ioargs\u001b[38;5;241m.\u001b[39mmode:\n\u001b[0;32m    872\u001b[0m         \u001b[38;5;66;03m# Encoding\u001b[39;00m\n\u001b[1;32m--> 873\u001b[0m         handle \u001b[38;5;241m=\u001b[39m \u001b[38;5;28;43mopen\u001b[39;49m\u001b[43m(\u001b[49m\n\u001b[0;32m    874\u001b[0m \u001b[43m            \u001b[49m\u001b[43mhandle\u001b[49m\u001b[43m,\u001b[49m\n\u001b[0;32m    875\u001b[0m \u001b[43m            \u001b[49m\u001b[43mioargs\u001b[49m\u001b[38;5;241;43m.\u001b[39;49m\u001b[43mmode\u001b[49m\u001b[43m,\u001b[49m\n\u001b[0;32m    876\u001b[0m \u001b[43m            \u001b[49m\u001b[43mencoding\u001b[49m\u001b[38;5;241;43m=\u001b[39;49m\u001b[43mioargs\u001b[49m\u001b[38;5;241;43m.\u001b[39;49m\u001b[43mencoding\u001b[49m\u001b[43m,\u001b[49m\n\u001b[0;32m    877\u001b[0m \u001b[43m            \u001b[49m\u001b[43merrors\u001b[49m\u001b[38;5;241;43m=\u001b[39;49m\u001b[43merrors\u001b[49m\u001b[43m,\u001b[49m\n\u001b[0;32m    878\u001b[0m \u001b[43m            \u001b[49m\u001b[43mnewline\u001b[49m\u001b[38;5;241;43m=\u001b[39;49m\u001b[38;5;124;43m\"\u001b[39;49m\u001b[38;5;124;43m\"\u001b[39;49m\u001b[43m,\u001b[49m\n\u001b[0;32m    879\u001b[0m \u001b[43m        \u001b[49m\u001b[43m)\u001b[49m\n\u001b[0;32m    880\u001b[0m     \u001b[38;5;28;01melse\u001b[39;00m:\n\u001b[0;32m    881\u001b[0m         \u001b[38;5;66;03m# Binary mode\u001b[39;00m\n\u001b[0;32m    882\u001b[0m         handle \u001b[38;5;241m=\u001b[39m \u001b[38;5;28mopen\u001b[39m(handle, ioargs\u001b[38;5;241m.\u001b[39mmode)\n",
      "\u001b[1;31mFileNotFoundError\u001b[0m: [Errno 2] No such file or directory: 'raw/Rates_of_Cases_or_Deaths.csv'"
     ]
    }
   ],
   "source": [
    "raw = pd.read_csv(\"raw/Rates_of_Cases_or_Deaths.csv\")"
   ]
  },
  {
   "cell_type": "code",
   "execution_count": 3,
   "id": "8c2aa0e4-de34-4b32-9bd5-2d9956031952",
   "metadata": {
    "scrolled": true
   },
   "outputs": [
    {
     "ename": "NameError",
     "evalue": "name 'raw' is not defined",
     "output_type": "error",
     "traceback": [
      "\u001b[1;31m---------------------------------------------------------------------------\u001b[0m",
      "\u001b[1;31mNameError\u001b[0m                                 Traceback (most recent call last)",
      "Cell \u001b[1;32mIn[3], line 1\u001b[0m\n\u001b[1;32m----> 1\u001b[0m \u001b[38;5;28mprint\u001b[39m(\u001b[43mraw\u001b[49m)\n",
      "\u001b[1;31mNameError\u001b[0m: name 'raw' is not defined"
     ]
    }
   ],
   "source": [
    "print(raw)"
   ]
  },
  {
   "cell_type": "markdown",
   "id": "d0f179d2-baa8-4491-aa5e-f8abcf2fb8ea",
   "metadata": {},
   "source": [
    "MISSING AND INVALID DATA"
   ]
  },
  {
   "cell_type": "code",
   "execution_count": 8,
   "id": "dc66e0ed-bae5-4875-baa5-d4cc9976aefb",
   "metadata": {
    "collapsed": true,
    "jupyter": {
     "outputs_hidden": true
    }
   },
   "outputs": [
    {
     "data": {
      "text/html": [
       "<div>\n",
       "<style scoped>\n",
       "    .dataframe tbody tr th:only-of-type {\n",
       "        vertical-align: middle;\n",
       "    }\n",
       "\n",
       "    .dataframe tbody tr th {\n",
       "        vertical-align: top;\n",
       "    }\n",
       "\n",
       "    .dataframe thead th {\n",
       "        text-align: right;\n",
       "    }\n",
       "</style>\n",
       "<table border=\"1\" class=\"dataframe\">\n",
       "  <thead>\n",
       "    <tr style=\"text-align: right;\">\n",
       "      <th></th>\n",
       "      <th>outcome</th>\n",
       "      <th>month</th>\n",
       "      <th>MMWR week</th>\n",
       "      <th>Age group</th>\n",
       "      <th>Vaccine product</th>\n",
       "      <th>Vaccinated with outcome</th>\n",
       "      <th>Fully vaccinated population</th>\n",
       "      <th>Unvaccinated with outcome</th>\n",
       "      <th>Unvaccinated population</th>\n",
       "      <th>Crude vax IR</th>\n",
       "      <th>Crude unvax IR</th>\n",
       "      <th>Crude IRR</th>\n",
       "      <th>Age adjusted vax IR</th>\n",
       "      <th>Age adjusted unvax IR</th>\n",
       "      <th>Age adjusted IRR</th>\n",
       "      <th>Continuity correction</th>\n",
       "    </tr>\n",
       "  </thead>\n",
       "  <tbody>\n",
       "    <tr>\n",
       "      <th>0</th>\n",
       "      <td>False</td>\n",
       "      <td>False</td>\n",
       "      <td>False</td>\n",
       "      <td>False</td>\n",
       "      <td>False</td>\n",
       "      <td>False</td>\n",
       "      <td>False</td>\n",
       "      <td>False</td>\n",
       "      <td>False</td>\n",
       "      <td>False</td>\n",
       "      <td>False</td>\n",
       "      <td>False</td>\n",
       "      <td>True</td>\n",
       "      <td>True</td>\n",
       "      <td>True</td>\n",
       "      <td>False</td>\n",
       "    </tr>\n",
       "    <tr>\n",
       "      <th>1</th>\n",
       "      <td>False</td>\n",
       "      <td>False</td>\n",
       "      <td>False</td>\n",
       "      <td>False</td>\n",
       "      <td>False</td>\n",
       "      <td>False</td>\n",
       "      <td>False</td>\n",
       "      <td>False</td>\n",
       "      <td>False</td>\n",
       "      <td>False</td>\n",
       "      <td>False</td>\n",
       "      <td>False</td>\n",
       "      <td>True</td>\n",
       "      <td>True</td>\n",
       "      <td>True</td>\n",
       "      <td>False</td>\n",
       "    </tr>\n",
       "    <tr>\n",
       "      <th>2</th>\n",
       "      <td>False</td>\n",
       "      <td>False</td>\n",
       "      <td>False</td>\n",
       "      <td>False</td>\n",
       "      <td>False</td>\n",
       "      <td>False</td>\n",
       "      <td>False</td>\n",
       "      <td>False</td>\n",
       "      <td>False</td>\n",
       "      <td>False</td>\n",
       "      <td>False</td>\n",
       "      <td>False</td>\n",
       "      <td>True</td>\n",
       "      <td>True</td>\n",
       "      <td>True</td>\n",
       "      <td>False</td>\n",
       "    </tr>\n",
       "    <tr>\n",
       "      <th>3</th>\n",
       "      <td>False</td>\n",
       "      <td>False</td>\n",
       "      <td>False</td>\n",
       "      <td>False</td>\n",
       "      <td>False</td>\n",
       "      <td>False</td>\n",
       "      <td>False</td>\n",
       "      <td>False</td>\n",
       "      <td>False</td>\n",
       "      <td>False</td>\n",
       "      <td>False</td>\n",
       "      <td>False</td>\n",
       "      <td>True</td>\n",
       "      <td>True</td>\n",
       "      <td>True</td>\n",
       "      <td>False</td>\n",
       "    </tr>\n",
       "    <tr>\n",
       "      <th>4</th>\n",
       "      <td>False</td>\n",
       "      <td>False</td>\n",
       "      <td>False</td>\n",
       "      <td>False</td>\n",
       "      <td>False</td>\n",
       "      <td>False</td>\n",
       "      <td>False</td>\n",
       "      <td>False</td>\n",
       "      <td>False</td>\n",
       "      <td>False</td>\n",
       "      <td>False</td>\n",
       "      <td>False</td>\n",
       "      <td>True</td>\n",
       "      <td>True</td>\n",
       "      <td>True</td>\n",
       "      <td>False</td>\n",
       "    </tr>\n",
       "    <tr>\n",
       "      <th>...</th>\n",
       "      <td>...</td>\n",
       "      <td>...</td>\n",
       "      <td>...</td>\n",
       "      <td>...</td>\n",
       "      <td>...</td>\n",
       "      <td>...</td>\n",
       "      <td>...</td>\n",
       "      <td>...</td>\n",
       "      <td>...</td>\n",
       "      <td>...</td>\n",
       "      <td>...</td>\n",
       "      <td>...</td>\n",
       "      <td>...</td>\n",
       "      <td>...</td>\n",
       "      <td>...</td>\n",
       "      <td>...</td>\n",
       "    </tr>\n",
       "    <tr>\n",
       "      <th>1586</th>\n",
       "      <td>False</td>\n",
       "      <td>False</td>\n",
       "      <td>False</td>\n",
       "      <td>False</td>\n",
       "      <td>False</td>\n",
       "      <td>False</td>\n",
       "      <td>False</td>\n",
       "      <td>False</td>\n",
       "      <td>False</td>\n",
       "      <td>False</td>\n",
       "      <td>False</td>\n",
       "      <td>False</td>\n",
       "      <td>True</td>\n",
       "      <td>True</td>\n",
       "      <td>True</td>\n",
       "      <td>False</td>\n",
       "    </tr>\n",
       "    <tr>\n",
       "      <th>1587</th>\n",
       "      <td>False</td>\n",
       "      <td>False</td>\n",
       "      <td>False</td>\n",
       "      <td>False</td>\n",
       "      <td>False</td>\n",
       "      <td>False</td>\n",
       "      <td>False</td>\n",
       "      <td>False</td>\n",
       "      <td>False</td>\n",
       "      <td>False</td>\n",
       "      <td>False</td>\n",
       "      <td>False</td>\n",
       "      <td>False</td>\n",
       "      <td>False</td>\n",
       "      <td>False</td>\n",
       "      <td>False</td>\n",
       "    </tr>\n",
       "    <tr>\n",
       "      <th>1588</th>\n",
       "      <td>False</td>\n",
       "      <td>False</td>\n",
       "      <td>False</td>\n",
       "      <td>False</td>\n",
       "      <td>False</td>\n",
       "      <td>False</td>\n",
       "      <td>False</td>\n",
       "      <td>False</td>\n",
       "      <td>False</td>\n",
       "      <td>False</td>\n",
       "      <td>False</td>\n",
       "      <td>False</td>\n",
       "      <td>False</td>\n",
       "      <td>False</td>\n",
       "      <td>False</td>\n",
       "      <td>False</td>\n",
       "    </tr>\n",
       "    <tr>\n",
       "      <th>1589</th>\n",
       "      <td>False</td>\n",
       "      <td>False</td>\n",
       "      <td>False</td>\n",
       "      <td>False</td>\n",
       "      <td>False</td>\n",
       "      <td>False</td>\n",
       "      <td>False</td>\n",
       "      <td>False</td>\n",
       "      <td>False</td>\n",
       "      <td>False</td>\n",
       "      <td>False</td>\n",
       "      <td>False</td>\n",
       "      <td>False</td>\n",
       "      <td>False</td>\n",
       "      <td>False</td>\n",
       "      <td>False</td>\n",
       "    </tr>\n",
       "    <tr>\n",
       "      <th>1590</th>\n",
       "      <td>False</td>\n",
       "      <td>False</td>\n",
       "      <td>False</td>\n",
       "      <td>False</td>\n",
       "      <td>False</td>\n",
       "      <td>False</td>\n",
       "      <td>False</td>\n",
       "      <td>False</td>\n",
       "      <td>False</td>\n",
       "      <td>False</td>\n",
       "      <td>False</td>\n",
       "      <td>False</td>\n",
       "      <td>False</td>\n",
       "      <td>False</td>\n",
       "      <td>False</td>\n",
       "      <td>False</td>\n",
       "    </tr>\n",
       "  </tbody>\n",
       "</table>\n",
       "<p>1591 rows × 16 columns</p>\n",
       "</div>"
      ],
      "text/plain": [
       "      outcome  month  MMWR week  Age group  Vaccine product  \\\n",
       "0       False  False      False      False            False   \n",
       "1       False  False      False      False            False   \n",
       "2       False  False      False      False            False   \n",
       "3       False  False      False      False            False   \n",
       "4       False  False      False      False            False   \n",
       "...       ...    ...        ...        ...              ...   \n",
       "1586    False  False      False      False            False   \n",
       "1587    False  False      False      False            False   \n",
       "1588    False  False      False      False            False   \n",
       "1589    False  False      False      False            False   \n",
       "1590    False  False      False      False            False   \n",
       "\n",
       "      Vaccinated with outcome  Fully vaccinated population  \\\n",
       "0                       False                        False   \n",
       "1                       False                        False   \n",
       "2                       False                        False   \n",
       "3                       False                        False   \n",
       "4                       False                        False   \n",
       "...                       ...                          ...   \n",
       "1586                    False                        False   \n",
       "1587                    False                        False   \n",
       "1588                    False                        False   \n",
       "1589                    False                        False   \n",
       "1590                    False                        False   \n",
       "\n",
       "      Unvaccinated with outcome  Unvaccinated population  Crude vax IR  \\\n",
       "0                         False                    False         False   \n",
       "1                         False                    False         False   \n",
       "2                         False                    False         False   \n",
       "3                         False                    False         False   \n",
       "4                         False                    False         False   \n",
       "...                         ...                      ...           ...   \n",
       "1586                      False                    False         False   \n",
       "1587                      False                    False         False   \n",
       "1588                      False                    False         False   \n",
       "1589                      False                    False         False   \n",
       "1590                      False                    False         False   \n",
       "\n",
       "      Crude unvax IR  Crude IRR  Age adjusted vax IR  Age adjusted unvax IR  \\\n",
       "0              False      False                 True                   True   \n",
       "1              False      False                 True                   True   \n",
       "2              False      False                 True                   True   \n",
       "3              False      False                 True                   True   \n",
       "4              False      False                 True                   True   \n",
       "...              ...        ...                  ...                    ...   \n",
       "1586           False      False                 True                   True   \n",
       "1587           False      False                False                  False   \n",
       "1588           False      False                False                  False   \n",
       "1589           False      False                False                  False   \n",
       "1590           False      False                False                  False   \n",
       "\n",
       "      Age adjusted IRR  Continuity correction  \n",
       "0                 True                  False  \n",
       "1                 True                  False  \n",
       "2                 True                  False  \n",
       "3                 True                  False  \n",
       "4                 True                  False  \n",
       "...                ...                    ...  \n",
       "1586              True                  False  \n",
       "1587             False                  False  \n",
       "1588             False                  False  \n",
       "1589             False                  False  \n",
       "1590             False                  False  \n",
       "\n",
       "[1591 rows x 16 columns]"
      ]
     },
     "execution_count": 8,
     "metadata": {},
     "output_type": "execute_result"
    }
   ],
   "source": [
    "# number of missing values(data)\n",
    "raw.isnull()"
   ]
  },
  {
   "cell_type": "code",
   "execution_count": 14,
   "id": "5f13dede-d1a1-4642-bc67-0bd3e7cf7951",
   "metadata": {
    "collapsed": true,
    "jupyter": {
     "outputs_hidden": true
    }
   },
   "outputs": [
    {
     "data": {
      "text/plain": [
       "outcome                          0\n",
       "month                            0\n",
       "MMWR week                        0\n",
       "Age group                        0\n",
       "Vaccine product                  0\n",
       "Vaccinated with outcome          0\n",
       "Fully vaccinated population      0\n",
       "Unvaccinated with outcome        0\n",
       "Unvaccinated population          0\n",
       "Crude vax IR                     0\n",
       "Crude unvax IR                   0\n",
       "Crude IRR                      114\n",
       "Age adjusted vax IR            987\n",
       "Age adjusted unvax IR          987\n",
       "Age adjusted IRR               987\n",
       "Continuity correction            0\n",
       "dtype: int64"
      ]
     },
     "execution_count": 14,
     "metadata": {},
     "output_type": "execute_result"
    }
   ],
   "source": [
    "raw.isnull().sum()"
   ]
  },
  {
   "cell_type": "code",
   "execution_count": 15,
   "id": "93c20bb9-fe04-4953-817e-3a7793740456",
   "metadata": {
    "collapsed": true,
    "jupyter": {
     "outputs_hidden": true
    },
    "scrolled": true
   },
   "outputs": [
    {
     "data": {
      "text/plain": [
       "outcome                         0.000000\n",
       "month                           0.000000\n",
       "MMWR week                       0.000000\n",
       "Age group                       0.000000\n",
       "Vaccine product                 0.000000\n",
       "Vaccinated with outcome         0.000000\n",
       "Fully vaccinated population     0.000000\n",
       "Unvaccinated with outcome       0.000000\n",
       "Unvaccinated population         0.000000\n",
       "Crude vax IR                    0.000000\n",
       "Crude unvax IR                  0.000000\n",
       "Crude IRR                       7.165305\n",
       "Age adjusted vax IR            62.036455\n",
       "Age adjusted unvax IR          62.036455\n",
       "Age adjusted IRR               62.036455\n",
       "Continuity correction           0.000000\n",
       "dtype: float64"
      ]
     },
     "execution_count": 15,
     "metadata": {},
     "output_type": "execute_result"
    }
   ],
   "source": [
    "# % of missing values in each column: number of missing values/total values * 100\n",
    "raw.isnull().sum()/len(raw)*100"
   ]
  },
  {
   "cell_type": "code",
   "execution_count": 10,
   "id": "e5405da2-d718-4c5b-95ab-1672b4ee9a03",
   "metadata": {
    "collapsed": true,
    "jupyter": {
     "outputs_hidden": true
    }
   },
   "outputs": [
    {
     "name": "stdout",
     "output_type": "stream",
     "text": [
      "Invalid entries:\n",
      "Empty DataFrame\n",
      "Columns: [outcome, month, MMWR week, Age group, Vaccine product, Vaccinated with outcome, Fully vaccinated population, Unvaccinated with outcome, Unvaccinated population, Crude vax IR, Crude unvax IR, Crude IRR, Age adjusted vax IR, Age adjusted unvax IR, Age adjusted IRR, Continuity correction]\n",
      "Index: []\n",
      "Unique values after cleaning: ['case' 'death']\n"
     ]
    }
   ],
   "source": [
    "# Check for invalid entries in the outcome column\n",
    "valid_values = ['case', 'death']\n",
    "invalid_entries = raw[~raw['outcome'].isin(valid_values)]\n",
    "\n",
    "# Display rows with invalid entries (if any)\n",
    "print(\"Invalid entries:\")\n",
    "print(invalid_entries)\n",
    "\n",
    "# Remove rows with invalid entries\n",
    "clean = raw[raw['outcome'].isin(valid_values)].copy()\n",
    "\n",
    "# Verify the cleaning process\n",
    "print(\"Unique values after cleaning:\", clean['outcome'].unique())"
   ]
  },
  {
   "cell_type": "code",
   "execution_count": 11,
   "id": "1c2df6be-05f0-4a05-ae66-e2b188ed8d69",
   "metadata": {
    "collapsed": true,
    "jupyter": {
     "outputs_hidden": true,
     "source_hidden": true
    }
   },
   "outputs": [
    {
     "name": "stdout",
     "output_type": "stream",
     "text": [
      "Invalid entries in 'month' column:\n",
      "     outcome     month  MMWR week     Age group Vaccine product  \\\n",
      "0       case  APR 2021     202114         12-17       all_types   \n",
      "1       case  APR 2021     202114         18-29       all_types   \n",
      "2       case  APR 2021     202114         30-49       all_types   \n",
      "3       case  APR 2021     202114         50-64       all_types   \n",
      "4       case  APR 2021     202114         65-79       all_types   \n",
      "...      ...       ...        ...           ...             ...   \n",
      "1586   death  AUG 2022     202235           80+       all_types   \n",
      "1587   death  AUG 2022     202235  all_ages_adj       all_types   \n",
      "1588   death  AUG 2022     202235  all_ages_adj         Janssen   \n",
      "1589   death  AUG 2022     202235  all_ages_adj         Moderna   \n",
      "1590   death  AUG 2022     202235  all_ages_adj          Pfizer   \n",
      "\n",
      "      Vaccinated with outcome  Fully vaccinated population  \\\n",
      "0                           8                 3.688700e+04   \n",
      "1                         674                 2.543093e+06   \n",
      "2                        1847                 7.428405e+06   \n",
      "3                        1558                 7.487444e+06   \n",
      "4                        1672                 1.439810e+07   \n",
      "...                       ...                          ...   \n",
      "1586                      328                 7.078966e+06   \n",
      "1587                      603                 1.428525e+08   \n",
      "1588                       33                 1.075017e+07   \n",
      "1589                      286                 4.941886e+07   \n",
      "1590                      280                 8.263597e+07   \n",
      "\n",
      "      Unvaccinated with outcome  Unvaccinated population  Crude vax IR  \\\n",
      "0                         30785              17556462.00     21.687858   \n",
      "1                         76736              31091322.00     26.503160   \n",
      "2                         98436              41074337.00     24.864019   \n",
      "3                         50324              22948569.00     20.808169   \n",
      "4                         14880               7675907.00     11.612644   \n",
      "...                         ...                      ...           ...   \n",
      "1586                        172                963095.40      4.633445   \n",
      "1587                        398              50965568.85      0.422114   \n",
      "1588                        398              50965568.85      0.306972   \n",
      "1589                        398              50965568.85      0.578726   \n",
      "1590                        398              50965568.85      0.338836   \n",
      "\n",
      "      Crude unvax IR  Crude IRR  Age adjusted vax IR  Age adjusted unvax IR  \\\n",
      "0         175.348541   8.085102                  NaN                    NaN   \n",
      "1         246.808418   9.312415                  NaN                    NaN   \n",
      "2         239.653290   9.638558                  NaN                    NaN   \n",
      "3         219.290362  10.538667                  NaN                    NaN   \n",
      "4         193.853313  16.693297                  NaN                    NaN   \n",
      "...              ...        ...                  ...                    ...   \n",
      "1586       17.859082   3.854385                  NaN                    NaN   \n",
      "1587        0.780919   1.850021             0.287258               1.605239   \n",
      "1588        0.780919   2.543944             0.317448               1.605239   \n",
      "1589        0.780919   1.349376             0.294841               1.605239   \n",
      "1590        0.780919   2.304715             0.277278               1.605239   \n",
      "\n",
      "      Age adjusted IRR  Continuity correction  \n",
      "0                  NaN                      0  \n",
      "1                  NaN                      0  \n",
      "2                  NaN                      0  \n",
      "3                  NaN                      0  \n",
      "4                  NaN                      0  \n",
      "...                ...                    ...  \n",
      "1586               NaN                      1  \n",
      "1587          5.588152                      1  \n",
      "1588          5.056694                      1  \n",
      "1589          5.444415                      1  \n",
      "1590          5.789287                      1  \n",
      "\n",
      "[1591 rows x 16 columns]\n",
      "Number of invalid entries: 1591\n",
      "Unique values after cleaning: ['APR 2021' 'MAY 2021' 'JUN 2021' 'JUL 2021' 'AUG 2021' 'SEP 2021'\n",
      " 'OCT 2021' 'NOV 2021' 'DEC 2021' 'JAN 2022' 'FEB 2022' 'MAR 2022'\n",
      " 'APR 2022' 'MAY 2022' 'JUN 2022' 'JUL 2022' 'AUG 2022' 'SEP 2022']\n"
     ]
    }
   ],
   "source": [
    "# Check for invalid entries in the month column.\n",
    "# Define a valid pattern for month-year\n",
    "def is_valid_month(value):\n",
    "    return bool(re.match(r\"^(Jan|Feb|Mar|Apr|May|June|July|Aug|Sept|Oct|Nov|Dec)(2021|2022)$\", value))\n",
    "\n",
    "# Identify invalid entries\n",
    "invalid_months = raw[~raw['month'].apply(is_valid_month)]\n",
    "\n",
    "# Display invalid entries\n",
    "print(\"Invalid entries in 'month' column:\")\n",
    "print(invalid_months)\n",
    "\n",
    "# Count invalid entries\n",
    "print(f\"Number of invalid entries: {len(invalid_months)}\")\n",
    "\n",
    "# Remove rows with invalid entries\n",
    "clean[clean['month'].isin(valid_values)].copy()\n",
    "\n",
    "# Verify the cleaning process\n",
    "print(\"Unique values after cleaning:\", clean['month'].unique())"
   ]
  },
  {
   "cell_type": "code",
   "execution_count": 12,
   "id": "e17c0d0b-aa15-4f08-9830-e897f8baf275",
   "metadata": {
    "collapsed": true,
    "jupyter": {
     "outputs_hidden": true
    },
    "scrolled": true
   },
   "outputs": [
    {
     "data": {
      "text/html": [
       "<div>\n",
       "<style scoped>\n",
       "    .dataframe tbody tr th:only-of-type {\n",
       "        vertical-align: middle;\n",
       "    }\n",
       "\n",
       "    .dataframe tbody tr th {\n",
       "        vertical-align: top;\n",
       "    }\n",
       "\n",
       "    .dataframe thead th {\n",
       "        text-align: right;\n",
       "    }\n",
       "</style>\n",
       "<table border=\"1\" class=\"dataframe\">\n",
       "  <thead>\n",
       "    <tr style=\"text-align: right;\">\n",
       "      <th></th>\n",
       "      <th>outcome</th>\n",
       "      <th>month</th>\n",
       "      <th>MMWR week</th>\n",
       "      <th>Age group</th>\n",
       "      <th>Vaccine product</th>\n",
       "      <th>Vaccinated with outcome</th>\n",
       "      <th>Fully vaccinated population</th>\n",
       "      <th>Unvaccinated with outcome</th>\n",
       "      <th>Unvaccinated population</th>\n",
       "      <th>Crude vax IR</th>\n",
       "      <th>Crude unvax IR</th>\n",
       "      <th>Crude IRR</th>\n",
       "      <th>Age adjusted vax IR</th>\n",
       "      <th>Age adjusted unvax IR</th>\n",
       "      <th>Age adjusted IRR</th>\n",
       "      <th>Continuity correction</th>\n",
       "    </tr>\n",
       "  </thead>\n",
       "  <tbody>\n",
       "    <tr>\n",
       "      <th>0</th>\n",
       "      <td>case</td>\n",
       "      <td>APR 2021</td>\n",
       "      <td>202114</td>\n",
       "      <td>12-17</td>\n",
       "      <td>all_types</td>\n",
       "      <td>8</td>\n",
       "      <td>3.688700e+04</td>\n",
       "      <td>30785</td>\n",
       "      <td>17556462.00</td>\n",
       "      <td>21.687858</td>\n",
       "      <td>175.348541</td>\n",
       "      <td>8.085102</td>\n",
       "      <td>NaN</td>\n",
       "      <td>NaN</td>\n",
       "      <td>NaN</td>\n",
       "      <td>0</td>\n",
       "    </tr>\n",
       "    <tr>\n",
       "      <th>1</th>\n",
       "      <td>case</td>\n",
       "      <td>APR 2021</td>\n",
       "      <td>202114</td>\n",
       "      <td>18-29</td>\n",
       "      <td>all_types</td>\n",
       "      <td>674</td>\n",
       "      <td>2.543093e+06</td>\n",
       "      <td>76736</td>\n",
       "      <td>31091322.00</td>\n",
       "      <td>26.503160</td>\n",
       "      <td>246.808418</td>\n",
       "      <td>9.312415</td>\n",
       "      <td>NaN</td>\n",
       "      <td>NaN</td>\n",
       "      <td>NaN</td>\n",
       "      <td>0</td>\n",
       "    </tr>\n",
       "    <tr>\n",
       "      <th>2</th>\n",
       "      <td>case</td>\n",
       "      <td>APR 2021</td>\n",
       "      <td>202114</td>\n",
       "      <td>30-49</td>\n",
       "      <td>all_types</td>\n",
       "      <td>1847</td>\n",
       "      <td>7.428405e+06</td>\n",
       "      <td>98436</td>\n",
       "      <td>41074337.00</td>\n",
       "      <td>24.864019</td>\n",
       "      <td>239.653290</td>\n",
       "      <td>9.638558</td>\n",
       "      <td>NaN</td>\n",
       "      <td>NaN</td>\n",
       "      <td>NaN</td>\n",
       "      <td>0</td>\n",
       "    </tr>\n",
       "    <tr>\n",
       "      <th>3</th>\n",
       "      <td>case</td>\n",
       "      <td>APR 2021</td>\n",
       "      <td>202114</td>\n",
       "      <td>50-64</td>\n",
       "      <td>all_types</td>\n",
       "      <td>1558</td>\n",
       "      <td>7.487444e+06</td>\n",
       "      <td>50324</td>\n",
       "      <td>22948569.00</td>\n",
       "      <td>20.808169</td>\n",
       "      <td>219.290362</td>\n",
       "      <td>10.538667</td>\n",
       "      <td>NaN</td>\n",
       "      <td>NaN</td>\n",
       "      <td>NaN</td>\n",
       "      <td>0</td>\n",
       "    </tr>\n",
       "    <tr>\n",
       "      <th>4</th>\n",
       "      <td>case</td>\n",
       "      <td>APR 2021</td>\n",
       "      <td>202114</td>\n",
       "      <td>65-79</td>\n",
       "      <td>all_types</td>\n",
       "      <td>1672</td>\n",
       "      <td>1.439810e+07</td>\n",
       "      <td>14880</td>\n",
       "      <td>7675907.00</td>\n",
       "      <td>11.612644</td>\n",
       "      <td>193.853313</td>\n",
       "      <td>16.693297</td>\n",
       "      <td>NaN</td>\n",
       "      <td>NaN</td>\n",
       "      <td>NaN</td>\n",
       "      <td>0</td>\n",
       "    </tr>\n",
       "    <tr>\n",
       "      <th>...</th>\n",
       "      <td>...</td>\n",
       "      <td>...</td>\n",
       "      <td>...</td>\n",
       "      <td>...</td>\n",
       "      <td>...</td>\n",
       "      <td>...</td>\n",
       "      <td>...</td>\n",
       "      <td>...</td>\n",
       "      <td>...</td>\n",
       "      <td>...</td>\n",
       "      <td>...</td>\n",
       "      <td>...</td>\n",
       "      <td>...</td>\n",
       "      <td>...</td>\n",
       "      <td>...</td>\n",
       "      <td>...</td>\n",
       "    </tr>\n",
       "    <tr>\n",
       "      <th>1586</th>\n",
       "      <td>death</td>\n",
       "      <td>AUG 2022</td>\n",
       "      <td>202235</td>\n",
       "      <td>80+</td>\n",
       "      <td>all_types</td>\n",
       "      <td>328</td>\n",
       "      <td>7.078966e+06</td>\n",
       "      <td>172</td>\n",
       "      <td>963095.40</td>\n",
       "      <td>4.633445</td>\n",
       "      <td>17.859082</td>\n",
       "      <td>3.854385</td>\n",
       "      <td>NaN</td>\n",
       "      <td>NaN</td>\n",
       "      <td>NaN</td>\n",
       "      <td>1</td>\n",
       "    </tr>\n",
       "    <tr>\n",
       "      <th>1587</th>\n",
       "      <td>death</td>\n",
       "      <td>AUG 2022</td>\n",
       "      <td>202235</td>\n",
       "      <td>all_ages_adj</td>\n",
       "      <td>all_types</td>\n",
       "      <td>603</td>\n",
       "      <td>1.428525e+08</td>\n",
       "      <td>398</td>\n",
       "      <td>50965568.85</td>\n",
       "      <td>0.422114</td>\n",
       "      <td>0.780919</td>\n",
       "      <td>1.850021</td>\n",
       "      <td>0.287258</td>\n",
       "      <td>1.605239</td>\n",
       "      <td>5.588152</td>\n",
       "      <td>1</td>\n",
       "    </tr>\n",
       "    <tr>\n",
       "      <th>1588</th>\n",
       "      <td>death</td>\n",
       "      <td>AUG 2022</td>\n",
       "      <td>202235</td>\n",
       "      <td>all_ages_adj</td>\n",
       "      <td>Janssen</td>\n",
       "      <td>33</td>\n",
       "      <td>1.075017e+07</td>\n",
       "      <td>398</td>\n",
       "      <td>50965568.85</td>\n",
       "      <td>0.306972</td>\n",
       "      <td>0.780919</td>\n",
       "      <td>2.543944</td>\n",
       "      <td>0.317448</td>\n",
       "      <td>1.605239</td>\n",
       "      <td>5.056694</td>\n",
       "      <td>1</td>\n",
       "    </tr>\n",
       "    <tr>\n",
       "      <th>1589</th>\n",
       "      <td>death</td>\n",
       "      <td>AUG 2022</td>\n",
       "      <td>202235</td>\n",
       "      <td>all_ages_adj</td>\n",
       "      <td>Moderna</td>\n",
       "      <td>286</td>\n",
       "      <td>4.941886e+07</td>\n",
       "      <td>398</td>\n",
       "      <td>50965568.85</td>\n",
       "      <td>0.578726</td>\n",
       "      <td>0.780919</td>\n",
       "      <td>1.349376</td>\n",
       "      <td>0.294841</td>\n",
       "      <td>1.605239</td>\n",
       "      <td>5.444415</td>\n",
       "      <td>1</td>\n",
       "    </tr>\n",
       "    <tr>\n",
       "      <th>1590</th>\n",
       "      <td>death</td>\n",
       "      <td>AUG 2022</td>\n",
       "      <td>202235</td>\n",
       "      <td>all_ages_adj</td>\n",
       "      <td>Pfizer</td>\n",
       "      <td>280</td>\n",
       "      <td>8.263597e+07</td>\n",
       "      <td>398</td>\n",
       "      <td>50965568.85</td>\n",
       "      <td>0.338836</td>\n",
       "      <td>0.780919</td>\n",
       "      <td>2.304715</td>\n",
       "      <td>0.277278</td>\n",
       "      <td>1.605239</td>\n",
       "      <td>5.789287</td>\n",
       "      <td>1</td>\n",
       "    </tr>\n",
       "  </tbody>\n",
       "</table>\n",
       "<p>1591 rows × 16 columns</p>\n",
       "</div>"
      ],
      "text/plain": [
       "     outcome     month  MMWR week     Age group Vaccine product  \\\n",
       "0       case  APR 2021     202114         12-17       all_types   \n",
       "1       case  APR 2021     202114         18-29       all_types   \n",
       "2       case  APR 2021     202114         30-49       all_types   \n",
       "3       case  APR 2021     202114         50-64       all_types   \n",
       "4       case  APR 2021     202114         65-79       all_types   \n",
       "...      ...       ...        ...           ...             ...   \n",
       "1586   death  AUG 2022     202235           80+       all_types   \n",
       "1587   death  AUG 2022     202235  all_ages_adj       all_types   \n",
       "1588   death  AUG 2022     202235  all_ages_adj         Janssen   \n",
       "1589   death  AUG 2022     202235  all_ages_adj         Moderna   \n",
       "1590   death  AUG 2022     202235  all_ages_adj          Pfizer   \n",
       "\n",
       "      Vaccinated with outcome  Fully vaccinated population  \\\n",
       "0                           8                 3.688700e+04   \n",
       "1                         674                 2.543093e+06   \n",
       "2                        1847                 7.428405e+06   \n",
       "3                        1558                 7.487444e+06   \n",
       "4                        1672                 1.439810e+07   \n",
       "...                       ...                          ...   \n",
       "1586                      328                 7.078966e+06   \n",
       "1587                      603                 1.428525e+08   \n",
       "1588                       33                 1.075017e+07   \n",
       "1589                      286                 4.941886e+07   \n",
       "1590                      280                 8.263597e+07   \n",
       "\n",
       "      Unvaccinated with outcome  Unvaccinated population  Crude vax IR  \\\n",
       "0                         30785              17556462.00     21.687858   \n",
       "1                         76736              31091322.00     26.503160   \n",
       "2                         98436              41074337.00     24.864019   \n",
       "3                         50324              22948569.00     20.808169   \n",
       "4                         14880               7675907.00     11.612644   \n",
       "...                         ...                      ...           ...   \n",
       "1586                        172                963095.40      4.633445   \n",
       "1587                        398              50965568.85      0.422114   \n",
       "1588                        398              50965568.85      0.306972   \n",
       "1589                        398              50965568.85      0.578726   \n",
       "1590                        398              50965568.85      0.338836   \n",
       "\n",
       "      Crude unvax IR  Crude IRR  Age adjusted vax IR  Age adjusted unvax IR  \\\n",
       "0         175.348541   8.085102                  NaN                    NaN   \n",
       "1         246.808418   9.312415                  NaN                    NaN   \n",
       "2         239.653290   9.638558                  NaN                    NaN   \n",
       "3         219.290362  10.538667                  NaN                    NaN   \n",
       "4         193.853313  16.693297                  NaN                    NaN   \n",
       "...              ...        ...                  ...                    ...   \n",
       "1586       17.859082   3.854385                  NaN                    NaN   \n",
       "1587        0.780919   1.850021             0.287258               1.605239   \n",
       "1588        0.780919   2.543944             0.317448               1.605239   \n",
       "1589        0.780919   1.349376             0.294841               1.605239   \n",
       "1590        0.780919   2.304715             0.277278               1.605239   \n",
       "\n",
       "      Age adjusted IRR  Continuity correction  \n",
       "0                  NaN                      0  \n",
       "1                  NaN                      0  \n",
       "2                  NaN                      0  \n",
       "3                  NaN                      0  \n",
       "4                  NaN                      0  \n",
       "...                ...                    ...  \n",
       "1586               NaN                      1  \n",
       "1587          5.588152                      1  \n",
       "1588          5.056694                      1  \n",
       "1589          5.444415                      1  \n",
       "1590          5.789287                      1  \n",
       "\n",
       "[1591 rows x 16 columns]"
      ]
     },
     "execution_count": 12,
     "metadata": {},
     "output_type": "execute_result"
    }
   ],
   "source": [
    "clean"
   ]
  },
  {
   "cell_type": "code",
   "execution_count": null,
   "id": "54db4ae9-bef0-46ad-bdeb-dc6a39216342",
   "metadata": {},
   "outputs": [],
   "source": [
    "# Save clean to csv file\n",
    "clean.to_csv(\"clean_data_1.csv\", index=False)"
   ]
  },
  {
   "cell_type": "code",
   "execution_count": 16,
   "id": "f8fd8a1b-9c56-432a-83fc-adcffb043fa8",
   "metadata": {
    "collapsed": true,
    "jupyter": {
     "outputs_hidden": true
    }
   },
   "outputs": [
    {
     "name": "stdout",
     "output_type": "stream",
     "text": [
      "     outcome     month  MMWR week     Age group Vaccine product  \\\n",
      "0       case  APR 2021     202114         12-17       all_types   \n",
      "1       case  APR 2021     202114         18-29       all_types   \n",
      "2       case  APR 2021     202114         30-49       all_types   \n",
      "3       case  APR 2021     202114         50-64       all_types   \n",
      "4       case  APR 2021     202114         65-79       all_types   \n",
      "...      ...       ...        ...           ...             ...   \n",
      "1586   death  AUG 2022     202235           80+       all_types   \n",
      "1587   death  AUG 2022     202235  all_ages_adj       all_types   \n",
      "1588   death  AUG 2022     202235  all_ages_adj         Janssen   \n",
      "1589   death  AUG 2022     202235  all_ages_adj         Moderna   \n",
      "1590   death  AUG 2022     202235  all_ages_adj          Pfizer   \n",
      "\n",
      "      Vaccinated with outcome  Fully vaccinated population  \\\n",
      "0                           8                 3.688700e+04   \n",
      "1                         674                 2.543093e+06   \n",
      "2                        1847                 7.428405e+06   \n",
      "3                        1558                 7.487444e+06   \n",
      "4                        1672                 1.439810e+07   \n",
      "...                       ...                          ...   \n",
      "1586                      328                 7.078966e+06   \n",
      "1587                      603                 1.428525e+08   \n",
      "1588                       33                 1.075017e+07   \n",
      "1589                      286                 4.941886e+07   \n",
      "1590                      280                 8.263597e+07   \n",
      "\n",
      "      Unvaccinated with outcome  Unvaccinated population  Crude vax IR  \\\n",
      "0                         30785              17556462.00     21.687858   \n",
      "1                         76736              31091322.00     26.503160   \n",
      "2                         98436              41074337.00     24.864019   \n",
      "3                         50324              22948569.00     20.808169   \n",
      "4                         14880               7675907.00     11.612644   \n",
      "...                         ...                      ...           ...   \n",
      "1586                        172                963095.40      4.633445   \n",
      "1587                        398              50965568.85      0.422114   \n",
      "1588                        398              50965568.85      0.306972   \n",
      "1589                        398              50965568.85      0.578726   \n",
      "1590                        398              50965568.85      0.338836   \n",
      "\n",
      "      Crude unvax IR  Crude IRR  Continuity correction  \n",
      "0         175.348541   8.085102                      0  \n",
      "1         246.808418   9.312415                      0  \n",
      "2         239.653290   9.638558                      0  \n",
      "3         219.290362  10.538667                      0  \n",
      "4         193.853313  16.693297                      0  \n",
      "...              ...        ...                    ...  \n",
      "1586       17.859082   3.854385                      1  \n",
      "1587        0.780919   1.850021                      1  \n",
      "1588        0.780919   2.543944                      1  \n",
      "1589        0.780919   1.349376                      1  \n",
      "1590        0.780919   2.304715                      1  \n",
      "\n",
      "[1591 rows x 13 columns]\n"
     ]
    }
   ],
   "source": [
    "clean = pd.read_csv(\"clean/clean_data_1.csv\")\n",
    "print(clean)"
   ]
  },
  {
   "cell_type": "code",
   "execution_count": 17,
   "id": "666dd2fb-0b23-4f5d-a7bc-b32fc3043123",
   "metadata": {},
   "outputs": [
    {
     "name": "stdout",
     "output_type": "stream",
     "text": [
      "['12-17' '18-29' '30-49' '50-64' '65-79' '80+' 'all_ages_adj' '5-11']\n"
     ]
    }
   ],
   "source": [
    "# checking for invalid age groups\n",
    "unique_age_groups = clean['Age group'].unique()\n",
    "print(unique_age_groups)"
   ]
  },
  {
   "cell_type": "code",
   "execution_count": 18,
   "id": "ea794d63-d575-4045-be24-ab0604075cbb",
   "metadata": {
    "collapsed": true,
    "jupyter": {
     "outputs_hidden": true
    }
   },
   "outputs": [
    {
     "name": "stdout",
     "output_type": "stream",
     "text": [
      "Unexpected Age group values:\n",
      "[]\n",
      "Number of unexpected age groups: 0\n"
     ]
    }
   ],
   "source": [
    "# valid age group intervals \n",
    "expected_age_groups = unique_age_groups = [\n",
    "    \"12-17\", \"18-29\", \"30-49\", \"50-64\", \"65-79\", \"80+\", \"5-11\", \"all_ages_adj\"\n",
    "]\n",
    "\n",
    "# Check if all values in the 'Age group' column are valid\n",
    "unexpected_age_groups = clean[~clean['Age group'].isin(expected_age_groups)]\n",
    "\n",
    "print(\"Unexpected Age group values:\")\n",
    "print(unexpected_age_groups['Age group'].unique())\n",
    "\n",
    "# Number of unexpected age groups\n",
    "print(f\"Number of unexpected age groups: {len(unexpected_age_groups)}\")"
   ]
  },
  {
   "cell_type": "code",
   "execution_count": 19,
   "id": "b58c809a-f3d2-4918-97d4-a71ebb535569",
   "metadata": {
    "collapsed": true,
    "jupyter": {
     "outputs_hidden": true
    }
   },
   "outputs": [
    {
     "name": "stdout",
     "output_type": "stream",
     "text": [
      "     outcome     month  MMWR week     Age group Vaccine product  \\\n",
      "0       case  APR 2021     202114         12-17       all_types   \n",
      "1       case  APR 2021     202114         18-29       all_types   \n",
      "2       case  APR 2021     202114         30-49       all_types   \n",
      "3       case  APR 2021     202114         50-64       all_types   \n",
      "4       case  APR 2021     202114         65-79       all_types   \n",
      "...      ...       ...        ...           ...             ...   \n",
      "1586   death  AUG 2022     202235           80+       all_types   \n",
      "1587   death  AUG 2022     202235  all_ages_adj       all_types   \n",
      "1588   death  AUG 2022     202235  all_ages_adj         Janssen   \n",
      "1589   death  AUG 2022     202235  all_ages_adj         Moderna   \n",
      "1590   death  AUG 2022     202235  all_ages_adj          Pfizer   \n",
      "\n",
      "      Vaccinated with outcome  Fully vaccinated population  \\\n",
      "0                           8                 3.688700e+04   \n",
      "1                         674                 2.543093e+06   \n",
      "2                        1847                 7.428405e+06   \n",
      "3                        1558                 7.487444e+06   \n",
      "4                        1672                 1.439810e+07   \n",
      "...                       ...                          ...   \n",
      "1586                      328                 7.078966e+06   \n",
      "1587                      603                 1.428525e+08   \n",
      "1588                       33                 1.075017e+07   \n",
      "1589                      286                 4.941886e+07   \n",
      "1590                      280                 8.263597e+07   \n",
      "\n",
      "      Unvaccinated with outcome  Unvaccinated population  Crude vax IR  \\\n",
      "0                         30785              17556462.00     21.687858   \n",
      "1                         76736              31091322.00     26.503160   \n",
      "2                         98436              41074337.00     24.864019   \n",
      "3                         50324              22948569.00     20.808169   \n",
      "4                         14880               7675907.00     11.612644   \n",
      "...                         ...                      ...           ...   \n",
      "1586                        172                963095.40      4.633445   \n",
      "1587                        398              50965568.85      0.422114   \n",
      "1588                        398              50965568.85      0.306972   \n",
      "1589                        398              50965568.85      0.578726   \n",
      "1590                        398              50965568.85      0.338836   \n",
      "\n",
      "      Crude unvax IR  Crude IRR  Continuity correction  \n",
      "0         175.348541   8.085102                      0  \n",
      "1         246.808418   9.312415                      0  \n",
      "2         239.653290   9.638558                      0  \n",
      "3         219.290362  10.538667                      0  \n",
      "4         193.853313  16.693297                      0  \n",
      "...              ...        ...                    ...  \n",
      "1586       17.859082   3.854385                      1  \n",
      "1587        0.780919   1.850021                      1  \n",
      "1588        0.780919   2.543944                      1  \n",
      "1589        0.780919   1.349376                      1  \n",
      "1590        0.780919   2.304715                      1  \n",
      "\n",
      "[1591 rows x 13 columns]\n"
     ]
    }
   ],
   "source": [
    "## Age adjusted vax IR, Age adjusted unvax IR, and Age adjusted IRR have a high % of missing values. \n",
    "## As they are important for the analysis, we will replace them by age group metrics.\n",
    "clean = raw.drop([\"Age adjusted vax IR\", \"Age adjusted unvax IR\", \"Age adjusted IRR\"], axis=1)\n",
    "print(clean)"
   ]
  },
  {
   "cell_type": "code",
   "execution_count": 20,
   "id": "dc28467b-86b7-4690-b310-f1eab6afbae1",
   "metadata": {
    "collapsed": true,
    "jupyter": {
     "outputs_hidden": true
    }
   },
   "outputs": [
    {
     "data": {
      "text/html": [
       "<div>\n",
       "<style scoped>\n",
       "    .dataframe tbody tr th:only-of-type {\n",
       "        vertical-align: middle;\n",
       "    }\n",
       "\n",
       "    .dataframe tbody tr th {\n",
       "        vertical-align: top;\n",
       "    }\n",
       "\n",
       "    .dataframe thead th {\n",
       "        text-align: right;\n",
       "    }\n",
       "</style>\n",
       "<table border=\"1\" class=\"dataframe\">\n",
       "  <thead>\n",
       "    <tr style=\"text-align: right;\">\n",
       "      <th></th>\n",
       "      <th>outcome</th>\n",
       "      <th>month</th>\n",
       "      <th>MMWR week</th>\n",
       "      <th>Age group</th>\n",
       "      <th>Vaccine product</th>\n",
       "      <th>Vaccinated with outcome</th>\n",
       "      <th>Fully vaccinated population</th>\n",
       "      <th>Unvaccinated with outcome</th>\n",
       "      <th>Unvaccinated population</th>\n",
       "      <th>Crude vax IR</th>\n",
       "      <th>Crude unvax IR</th>\n",
       "      <th>Crude IRR</th>\n",
       "      <th>Continuity correction</th>\n",
       "    </tr>\n",
       "  </thead>\n",
       "  <tbody>\n",
       "    <tr>\n",
       "      <th>0</th>\n",
       "      <td>case</td>\n",
       "      <td>APR 2021</td>\n",
       "      <td>202114</td>\n",
       "      <td>12-17</td>\n",
       "      <td>all_types</td>\n",
       "      <td>8</td>\n",
       "      <td>36887.0</td>\n",
       "      <td>30785</td>\n",
       "      <td>17556462.0</td>\n",
       "      <td>21.687858</td>\n",
       "      <td>175.348541</td>\n",
       "      <td>8.085102</td>\n",
       "      <td>0</td>\n",
       "    </tr>\n",
       "    <tr>\n",
       "      <th>1</th>\n",
       "      <td>case</td>\n",
       "      <td>APR 2021</td>\n",
       "      <td>202114</td>\n",
       "      <td>18-29</td>\n",
       "      <td>all_types</td>\n",
       "      <td>674</td>\n",
       "      <td>2543093.0</td>\n",
       "      <td>76736</td>\n",
       "      <td>31091322.0</td>\n",
       "      <td>26.503160</td>\n",
       "      <td>246.808418</td>\n",
       "      <td>9.312415</td>\n",
       "      <td>0</td>\n",
       "    </tr>\n",
       "    <tr>\n",
       "      <th>2</th>\n",
       "      <td>case</td>\n",
       "      <td>APR 2021</td>\n",
       "      <td>202114</td>\n",
       "      <td>30-49</td>\n",
       "      <td>all_types</td>\n",
       "      <td>1847</td>\n",
       "      <td>7428405.0</td>\n",
       "      <td>98436</td>\n",
       "      <td>41074337.0</td>\n",
       "      <td>24.864019</td>\n",
       "      <td>239.653290</td>\n",
       "      <td>9.638558</td>\n",
       "      <td>0</td>\n",
       "    </tr>\n",
       "    <tr>\n",
       "      <th>3</th>\n",
       "      <td>case</td>\n",
       "      <td>APR 2021</td>\n",
       "      <td>202114</td>\n",
       "      <td>50-64</td>\n",
       "      <td>all_types</td>\n",
       "      <td>1558</td>\n",
       "      <td>7487444.0</td>\n",
       "      <td>50324</td>\n",
       "      <td>22948569.0</td>\n",
       "      <td>20.808169</td>\n",
       "      <td>219.290362</td>\n",
       "      <td>10.538667</td>\n",
       "      <td>0</td>\n",
       "    </tr>\n",
       "    <tr>\n",
       "      <th>4</th>\n",
       "      <td>case</td>\n",
       "      <td>APR 2021</td>\n",
       "      <td>202114</td>\n",
       "      <td>65-79</td>\n",
       "      <td>all_types</td>\n",
       "      <td>1672</td>\n",
       "      <td>14398099.0</td>\n",
       "      <td>14880</td>\n",
       "      <td>7675907.0</td>\n",
       "      <td>11.612644</td>\n",
       "      <td>193.853313</td>\n",
       "      <td>16.693297</td>\n",
       "      <td>0</td>\n",
       "    </tr>\n",
       "  </tbody>\n",
       "</table>\n",
       "</div>"
      ],
      "text/plain": [
       "  outcome     month  MMWR week Age group Vaccine product  \\\n",
       "0    case  APR 2021     202114     12-17       all_types   \n",
       "1    case  APR 2021     202114     18-29       all_types   \n",
       "2    case  APR 2021     202114     30-49       all_types   \n",
       "3    case  APR 2021     202114     50-64       all_types   \n",
       "4    case  APR 2021     202114     65-79       all_types   \n",
       "\n",
       "   Vaccinated with outcome  Fully vaccinated population  \\\n",
       "0                        8                      36887.0   \n",
       "1                      674                    2543093.0   \n",
       "2                     1847                    7428405.0   \n",
       "3                     1558                    7487444.0   \n",
       "4                     1672                   14398099.0   \n",
       "\n",
       "   Unvaccinated with outcome  Unvaccinated population  Crude vax IR  \\\n",
       "0                      30785               17556462.0     21.687858   \n",
       "1                      76736               31091322.0     26.503160   \n",
       "2                      98436               41074337.0     24.864019   \n",
       "3                      50324               22948569.0     20.808169   \n",
       "4                      14880                7675907.0     11.612644   \n",
       "\n",
       "   Crude unvax IR  Crude IRR  Continuity correction  \n",
       "0      175.348541   8.085102                      0  \n",
       "1      246.808418   9.312415                      0  \n",
       "2      239.653290   9.638558                      0  \n",
       "3      219.290362  10.538667                      0  \n",
       "4      193.853313  16.693297                      0  "
      ]
     },
     "execution_count": 20,
     "metadata": {},
     "output_type": "execute_result"
    }
   ],
   "source": [
    "clean.head()"
   ]
  },
  {
   "cell_type": "code",
   "execution_count": 27,
   "id": "d2bb0270-c25e-42b7-9c7e-0f42551a746b",
   "metadata": {},
   "outputs": [],
   "source": [
    "## Filling \"Crude IRR\" as % of missing values is 7.1653:\n",
    "## Calculate mean of this column and fill the missing values with it."
   ]
  },
  {
   "cell_type": "code",
   "execution_count": 21,
   "id": "e697d872-9ab7-4cd5-881b-67ce8cfcd136",
   "metadata": {},
   "outputs": [],
   "source": [
    "clean = pd.read_csv(\"clean/clean_data_1.csv\")"
   ]
  },
  {
   "cell_type": "code",
   "execution_count": 24,
   "id": "6e011a6f-567e-4deb-8d37-8018ec336b22",
   "metadata": {},
   "outputs": [
    {
     "name": "stdout",
     "output_type": "stream",
     "text": [
      "7.014692613974949\n"
     ]
    }
   ],
   "source": [
    "# calculate the mean of the Crude IRR column\n",
    "mean_value = clean[\"Crude IRR\"].mean()\n",
    "print(mean_value)"
   ]
  },
  {
   "cell_type": "code",
   "execution_count": 23,
   "id": "17e2c21b-60d2-48e2-8c45-214f14df74a9",
   "metadata": {},
   "outputs": [],
   "source": [
    "## fillna\n",
    "clean.fillna({\"Crude IRR\": mean_value}, inplace=True)"
   ]
  },
  {
   "cell_type": "code",
   "execution_count": 18,
   "id": "17ef17dd-fdf8-4c0f-90bb-8a1e2c777c75",
   "metadata": {
    "collapsed": true,
    "jupyter": {
     "outputs_hidden": true
    }
   },
   "outputs": [
    {
     "data": {
      "text/plain": [
       "outcome                        0\n",
       "month                          0\n",
       "MMWR week                      0\n",
       "Age group                      0\n",
       "Vaccine product                0\n",
       "Vaccinated with outcome        0\n",
       "Fully vaccinated population    0\n",
       "Unvaccinated with outcome      0\n",
       "Unvaccinated population        0\n",
       "Crude vax IR                   0\n",
       "Crude unvax IR                 0\n",
       "Crude IRR                      0\n",
       "Continuity correction          0\n",
       "dtype: int64"
      ]
     },
     "execution_count": 18,
     "metadata": {},
     "output_type": "execute_result"
    }
   ],
   "source": [
    "clean.isnull().sum()"
   ]
  },
  {
   "cell_type": "code",
   "execution_count": 19,
   "id": "44d89d10-c9aa-4e3c-896e-1362be8ecc7c",
   "metadata": {
    "collapsed": true,
    "jupyter": {
     "outputs_hidden": true
    }
   },
   "outputs": [
    {
     "data": {
      "text/plain": [
       "Index(['outcome', 'month', 'MMWR week', 'Age group', 'Vaccine product',\n",
       "       'Vaccinated with outcome', 'Fully vaccinated population',\n",
       "       'Unvaccinated with outcome', 'Unvaccinated population', 'Crude vax IR',\n",
       "       'Crude unvax IR', 'Crude IRR', 'Continuity correction'],\n",
       "      dtype='object')"
      ]
     },
     "execution_count": 19,
     "metadata": {},
     "output_type": "execute_result"
    }
   ],
   "source": [
    "clean.columns"
   ]
  },
  {
   "cell_type": "markdown",
   "id": "e9d0684d-c162-4d75-ae2a-58df92afe2b4",
   "metadata": {},
   "source": [
    "DUPLICATES"
   ]
  },
  {
   "cell_type": "code",
   "execution_count": 85,
   "id": "33579ef2-dde1-4ce6-95ce-c6ae23bc118f",
   "metadata": {
    "collapsed": true,
    "jupyter": {
     "outputs_hidden": true
    }
   },
   "outputs": [
    {
     "data": {
      "text/plain": [
       "0       False\n",
       "1       False\n",
       "2       False\n",
       "3       False\n",
       "4       False\n",
       "        ...  \n",
       "1586    False\n",
       "1587    False\n",
       "1588    False\n",
       "1589    False\n",
       "1590    False\n",
       "Length: 1591, dtype: bool"
      ]
     },
     "execution_count": 85,
     "metadata": {},
     "output_type": "execute_result"
    }
   ],
   "source": [
    "clean.duplicated()"
   ]
  },
  {
   "cell_type": "code",
   "execution_count": 86,
   "id": "c3235a1a-4d02-4004-9c56-e7e47a138c99",
   "metadata": {},
   "outputs": [
    {
     "data": {
      "text/plain": [
       "np.int64(0)"
      ]
     },
     "execution_count": 86,
     "metadata": {},
     "output_type": "execute_result"
    }
   ],
   "source": [
    "clean.duplicated().sum()"
   ]
  },
  {
   "cell_type": "code",
   "execution_count": 87,
   "id": "05e3dada-37fe-45c1-ad45-2528cbd6bae7",
   "metadata": {},
   "outputs": [
    {
     "data": {
      "text/plain": [
       "0"
      ]
     },
     "execution_count": 87,
     "metadata": {},
     "output_type": "execute_result"
    }
   ],
   "source": [
    "duplicate_count = int(clean.duplicated().sum())\n",
    "duplicate_count"
   ]
  },
  {
   "cell_type": "markdown",
   "id": "38e3470f-618b-4f10-ac6a-84c681ed0f27",
   "metadata": {},
   "source": [
    "DATETIME"
   ]
  },
  {
   "cell_type": "code",
   "execution_count": 25,
   "id": "aad4cac4-4cd5-494d-bf00-eaa04df9c984",
   "metadata": {
    "collapsed": true,
    "jupyter": {
     "outputs_hidden": true
    }
   },
   "outputs": [
    {
     "name": "stderr",
     "output_type": "stream",
     "text": [
      "C:\\Users\\weare\\AppData\\Local\\Temp\\ipykernel_3372\\2522053795.py:1: UserWarning: Could not infer format, so each element will be parsed individually, falling back to `dateutil`. To ensure parsing is consistent and as-expected, please specify a format.\n",
      "  clean[\"month\"] = pd.to_datetime(clean[\"month\"])\n"
     ]
    }
   ],
   "source": [
    "clean[\"month\"] = pd.to_datetime(clean[\"month\"])"
   ]
  },
  {
   "cell_type": "code",
   "execution_count": 26,
   "id": "cbb39ba3-b0bc-43d2-b423-862f46cdffe8",
   "metadata": {
    "collapsed": true,
    "jupyter": {
     "outputs_hidden": true
    }
   },
   "outputs": [
    {
     "name": "stdout",
     "output_type": "stream",
     "text": [
      "<class 'pandas.core.frame.DataFrame'>\n",
      "RangeIndex: 1591 entries, 0 to 1590\n",
      "Data columns (total 13 columns):\n",
      " #   Column                       Non-Null Count  Dtype         \n",
      "---  ------                       --------------  -----         \n",
      " 0   outcome                      1591 non-null   object        \n",
      " 1   month                        1591 non-null   datetime64[ns]\n",
      " 2   MMWR week                    1591 non-null   int64         \n",
      " 3   Age group                    1591 non-null   object        \n",
      " 4   Vaccine product              1591 non-null   object        \n",
      " 5   Vaccinated with outcome      1591 non-null   int64         \n",
      " 6   Fully vaccinated population  1591 non-null   float64       \n",
      " 7   Unvaccinated with outcome    1591 non-null   int64         \n",
      " 8   Unvaccinated population      1591 non-null   float64       \n",
      " 9   Crude vax IR                 1591 non-null   float64       \n",
      " 10  Crude unvax IR               1591 non-null   float64       \n",
      " 11  Crude IRR                    1591 non-null   float64       \n",
      " 12  Continuity correction        1591 non-null   int64         \n",
      "dtypes: datetime64[ns](1), float64(5), int64(4), object(3)\n",
      "memory usage: 161.7+ KB\n"
     ]
    }
   ],
   "source": [
    "clean.info()"
   ]
  },
  {
   "cell_type": "code",
   "execution_count": 107,
   "id": "968d5620-8689-44cb-aced-c1199a147d6f",
   "metadata": {},
   "outputs": [
    {
     "name": "stdout",
     "output_type": "stream",
     "text": [
      "Number of case rows: 812\n"
     ]
    }
   ],
   "source": [
    "case_rows = clean[clean[\"outcome\"] == \"case\"].shape[0]\n",
    "print(\"Number of case rows:\", case_rows)"
   ]
  },
  {
   "cell_type": "code",
   "execution_count": 110,
   "id": "6a0e6926-4479-4f48-869c-0136b607a4d1",
   "metadata": {},
   "outputs": [
    {
     "name": "stdout",
     "output_type": "stream",
     "text": [
      "Number of death rows: 779\n"
     ]
    }
   ],
   "source": [
    "death_rows = clean[clean[\"outcome\"] == \"death\"].shape[0]\n",
    "print(\"Number of death rows:\", death_rows)"
   ]
  },
  {
   "cell_type": "code",
   "execution_count": null,
   "id": "644d64db-c3a5-4fcf-bcd1-7116dcca8a2e",
   "metadata": {},
   "outputs": [],
   "source": [
    "source = \"clean_data_1.csv\"\n",
    "destination = \"clean/\"\n",
    "shutil.move(source, destination)"
   ]
  },
  {
   "cell_type": "code",
   "execution_count": null,
   "id": "5f84f0d2-a3fa-4232-90bf-affbcf6be22d",
   "metadata": {},
   "outputs": [],
   "source": []
  },
  {
   "cell_type": "markdown",
   "id": "2554f50d-2937-4289-8315-e0b6fc148613",
   "metadata": {},
   "source": [
    "**CLEANING County_Level_of_community_Transmission.csv** (second dataset)"
   ]
  },
  {
   "cell_type": "code",
   "execution_count": 27,
   "id": "2bcd30fa-a840-43a8-a9f8-2ef14ddd6d7a",
   "metadata": {},
   "outputs": [],
   "source": [
    "raw = pd.read_csv(\"raw/County_Level_of_community_Transmission.csv\")"
   ]
  },
  {
   "cell_type": "code",
   "execution_count": 28,
   "id": "3d4057dd-c82b-4def-8d75-4b2597ef373c",
   "metadata": {
    "collapsed": true,
    "jupyter": {
     "outputs_hidden": true
    }
   },
   "outputs": [
    {
     "name": "stdout",
     "output_type": "stream",
     "text": [
      "           state_name        county_name  fips_code        date  \\\n",
      "0               Texas        Hays County      48209  01/27/2020   \n",
      "1               Idaho         Gem County      16045  01/27/2020   \n",
      "2            Nebraska        Boyd County      31015  10/15/2020   \n",
      "3               Texas        Knox County      48275  11/03/2020   \n",
      "4               Idaho   Nez Perce County      16069  11/03/2020   \n",
      "...               ...                ...        ...         ...   \n",
      "3225217     Louisiana  Assumption Parish      22007  10/18/2022   \n",
      "3225218  South Dakota        Hyde County      46069  10/18/2022   \n",
      "3225219         Texas      Loving County      48301  10/18/2022   \n",
      "3225220      Virginia     Lynchburg City      51680  10/18/2022   \n",
      "3225221       Wyoming    Converse County      56009  10/18/2022   \n",
      "\n",
      "        cases_per_100K_7_day_count_change  \\\n",
      "0                                   0.000   \n",
      "1                                   0.000   \n",
      "2                              suppressed   \n",
      "3                                 354.803   \n",
      "4                                 544.447   \n",
      "...                                   ...   \n",
      "3225217                        suppressed   \n",
      "3225218                             0.000   \n",
      "3225219                        suppressed   \n",
      "3225220                            26.770   \n",
      "3225221                        suppressed   \n",
      "\n",
      "         percent_test_results_reported_positive_last_7_days  \\\n",
      "0                                                      NaN    \n",
      "1                                                      NaN    \n",
      "2                                                    45.00    \n",
      "3                                                      NaN    \n",
      "4                                                    27.68    \n",
      "...                                                    ...    \n",
      "3225217                                               0.00    \n",
      "3225218                                                NaN    \n",
      "3225219                                              14.29    \n",
      "3225220                                               8.01    \n",
      "3225221                                               5.19    \n",
      "\n",
      "        community_transmission_level  \n",
      "0                                NaN  \n",
      "1                                NaN  \n",
      "2                               high  \n",
      "3                               high  \n",
      "4                               high  \n",
      "...                              ...  \n",
      "3225217                          low  \n",
      "3225218                          low  \n",
      "3225219                         high  \n",
      "3225220                  substantial  \n",
      "3225221                     moderate  \n",
      "\n",
      "[3225222 rows x 7 columns]\n"
     ]
    }
   ],
   "source": [
    "print(raw)"
   ]
  },
  {
   "cell_type": "code",
   "execution_count": 69,
   "id": "56e262d8-c406-4387-8058-ac1685545905",
   "metadata": {
    "collapsed": true,
    "jupyter": {
     "outputs_hidden": true
    },
    "scrolled": true
   },
   "outputs": [
    {
     "name": "stdout",
     "output_type": "stream",
     "text": [
      "<class 'pandas.core.frame.DataFrame'>\n",
      "RangeIndex: 3225222 entries, 0 to 3225221\n",
      "Data columns (total 7 columns):\n",
      " #   Column                                              Dtype  \n",
      "---  ------                                              -----  \n",
      " 0   state_name                                          object \n",
      " 1   county_name                                         object \n",
      " 2   fips_code                                           int64  \n",
      " 3   date                                                object \n",
      " 4   cases_per_100K_7_day_count_change                   object \n",
      " 5   percent_test_results_reported_positive_last_7_days  float64\n",
      " 6   community_transmission_level                        object \n",
      "dtypes: float64(1), int64(1), object(5)\n",
      "memory usage: 172.2+ MB\n"
     ]
    }
   ],
   "source": [
    "raw.info()"
   ]
  },
  {
   "cell_type": "code",
   "execution_count": 91,
   "id": "64bf9ccf-48e9-4a20-af0e-1254c2459ef8",
   "metadata": {},
   "outputs": [],
   "source": [
    "# fips_code does not seem important comlumn, drop fips_code\n",
    "clean = raw.drop([\"fips_code\"], axis=1)\n",
    "clean.to_csv(\"clean_data_2.csv\", index=False)"
   ]
  },
  {
   "cell_type": "code",
   "execution_count": 92,
   "id": "81e4612f-7bdb-4982-b7bb-fe9b0f7a9b2a",
   "metadata": {
    "collapsed": true,
    "jupyter": {
     "outputs_hidden": true
    }
   },
   "outputs": [
    {
     "name": "stdout",
     "output_type": "stream",
     "text": [
      "           state_name        county_name        date  \\\n",
      "0               Texas        Hays County  01/27/2020   \n",
      "1               Idaho         Gem County  01/27/2020   \n",
      "2            Nebraska        Boyd County  10/15/2020   \n",
      "3               Texas        Knox County  11/03/2020   \n",
      "4               Idaho   Nez Perce County  11/03/2020   \n",
      "...               ...                ...         ...   \n",
      "3225217     Louisiana  Assumption Parish  10/18/2022   \n",
      "3225218  South Dakota        Hyde County  10/18/2022   \n",
      "3225219         Texas      Loving County  10/18/2022   \n",
      "3225220      Virginia     Lynchburg City  10/18/2022   \n",
      "3225221       Wyoming    Converse County  10/18/2022   \n",
      "\n",
      "        cases_per_100K_7_day_count_change  \\\n",
      "0                                   0.000   \n",
      "1                                   0.000   \n",
      "2                              suppressed   \n",
      "3                                 354.803   \n",
      "4                                 544.447   \n",
      "...                                   ...   \n",
      "3225217                        suppressed   \n",
      "3225218                             0.000   \n",
      "3225219                        suppressed   \n",
      "3225220                            26.770   \n",
      "3225221                        suppressed   \n",
      "\n",
      "         percent_test_results_reported_positive_last_7_days  \\\n",
      "0                                                      NaN    \n",
      "1                                                      NaN    \n",
      "2                                                    45.00    \n",
      "3                                                      NaN    \n",
      "4                                                    27.68    \n",
      "...                                                    ...    \n",
      "3225217                                               0.00    \n",
      "3225218                                                NaN    \n",
      "3225219                                              14.29    \n",
      "3225220                                               8.01    \n",
      "3225221                                               5.19    \n",
      "\n",
      "        community_transmission_level  \n",
      "0                                NaN  \n",
      "1                                NaN  \n",
      "2                               high  \n",
      "3                               high  \n",
      "4                               high  \n",
      "...                              ...  \n",
      "3225217                          low  \n",
      "3225218                          low  \n",
      "3225219                         high  \n",
      "3225220                  substantial  \n",
      "3225221                     moderate  \n",
      "\n",
      "[3225222 rows x 6 columns]\n"
     ]
    }
   ],
   "source": [
    "print(clean)"
   ]
  },
  {
   "cell_type": "code",
   "execution_count": 73,
   "id": "30cbfd7c-1d4f-465c-847b-82ad9012073c",
   "metadata": {
    "collapsed": true,
    "jupyter": {
     "outputs_hidden": true
    }
   },
   "outputs": [
    {
     "data": {
      "text/html": [
       "<div>\n",
       "<style scoped>\n",
       "    .dataframe tbody tr th:only-of-type {\n",
       "        vertical-align: middle;\n",
       "    }\n",
       "\n",
       "    .dataframe tbody tr th {\n",
       "        vertical-align: top;\n",
       "    }\n",
       "\n",
       "    .dataframe thead th {\n",
       "        text-align: right;\n",
       "    }\n",
       "</style>\n",
       "<table border=\"1\" class=\"dataframe\">\n",
       "  <thead>\n",
       "    <tr style=\"text-align: right;\">\n",
       "      <th></th>\n",
       "      <th>percent_test_results_reported_positive_last_7_days</th>\n",
       "    </tr>\n",
       "  </thead>\n",
       "  <tbody>\n",
       "    <tr>\n",
       "      <th>count</th>\n",
       "      <td>2.823884e+06</td>\n",
       "    </tr>\n",
       "    <tr>\n",
       "      <th>mean</th>\n",
       "      <td>1.154418e+01</td>\n",
       "    </tr>\n",
       "    <tr>\n",
       "      <th>std</th>\n",
       "      <td>1.076036e+01</td>\n",
       "    </tr>\n",
       "    <tr>\n",
       "      <th>min</th>\n",
       "      <td>0.000000e+00</td>\n",
       "    </tr>\n",
       "    <tr>\n",
       "      <th>25%</th>\n",
       "      <td>3.790000e+00</td>\n",
       "    </tr>\n",
       "    <tr>\n",
       "      <th>50%</th>\n",
       "      <td>8.640000e+00</td>\n",
       "    </tr>\n",
       "    <tr>\n",
       "      <th>75%</th>\n",
       "      <td>1.618000e+01</td>\n",
       "    </tr>\n",
       "    <tr>\n",
       "      <th>max</th>\n",
       "      <td>1.000000e+02</td>\n",
       "    </tr>\n",
       "  </tbody>\n",
       "</table>\n",
       "</div>"
      ],
      "text/plain": [
       "       percent_test_results_reported_positive_last_7_days\n",
       "count                                       2.823884e+06 \n",
       "mean                                        1.154418e+01 \n",
       "std                                         1.076036e+01 \n",
       "min                                         0.000000e+00 \n",
       "25%                                         3.790000e+00 \n",
       "50%                                         8.640000e+00 \n",
       "75%                                         1.618000e+01 \n",
       "max                                         1.000000e+02 "
      ]
     },
     "execution_count": 73,
     "metadata": {},
     "output_type": "execute_result"
    }
   ],
   "source": [
    "clean.describe()"
   ]
  },
  {
   "cell_type": "code",
   "execution_count": 74,
   "id": "17e219c7-4970-43b2-ab30-fff466f19a49",
   "metadata": {},
   "outputs": [],
   "source": [
    "# clean.describe() does not calculate metrics in column cases_per_100K_7_day_count_change \n",
    "# because there are non-numerical entries in this column.\n",
    "# so, convert non-numeric to numeric.\n",
    "clean['cases_per_100K_7_day_count_change'] = pd.to_numeric(clean['cases_per_100K_7_day_count_change'], \n",
    "errors = 'coerce')"
   ]
  },
  {
   "cell_type": "code",
   "execution_count": 75,
   "id": "86a89c17-be45-4f0f-8cc2-b47f8f9d5bc6",
   "metadata": {
    "collapsed": true,
    "jupyter": {
     "outputs_hidden": true
    }
   },
   "outputs": [
    {
     "data": {
      "text/html": [
       "<div>\n",
       "<style scoped>\n",
       "    .dataframe tbody tr th:only-of-type {\n",
       "        vertical-align: middle;\n",
       "    }\n",
       "\n",
       "    .dataframe tbody tr th {\n",
       "        vertical-align: top;\n",
       "    }\n",
       "\n",
       "    .dataframe thead th {\n",
       "        text-align: right;\n",
       "    }\n",
       "</style>\n",
       "<table border=\"1\" class=\"dataframe\">\n",
       "  <thead>\n",
       "    <tr style=\"text-align: right;\">\n",
       "      <th></th>\n",
       "      <th>cases_per_100K_7_day_count_change</th>\n",
       "      <th>percent_test_results_reported_positive_last_7_days</th>\n",
       "    </tr>\n",
       "  </thead>\n",
       "  <tbody>\n",
       "    <tr>\n",
       "      <th>count</th>\n",
       "      <td>2.468979e+06</td>\n",
       "      <td>2.823884e+06</td>\n",
       "    </tr>\n",
       "    <tr>\n",
       "      <th>mean</th>\n",
       "      <td>1.898672e+02</td>\n",
       "      <td>1.154418e+01</td>\n",
       "    </tr>\n",
       "    <tr>\n",
       "      <th>std</th>\n",
       "      <td>2.016008e+02</td>\n",
       "      <td>1.076036e+01</td>\n",
       "    </tr>\n",
       "    <tr>\n",
       "      <th>min</th>\n",
       "      <td>-9.018800e+02</td>\n",
       "      <td>0.000000e+00</td>\n",
       "    </tr>\n",
       "    <tr>\n",
       "      <th>25%</th>\n",
       "      <td>3.879500e+01</td>\n",
       "      <td>3.790000e+00</td>\n",
       "    </tr>\n",
       "    <tr>\n",
       "      <th>50%</th>\n",
       "      <td>1.277070e+02</td>\n",
       "      <td>8.640000e+00</td>\n",
       "    </tr>\n",
       "    <tr>\n",
       "      <th>75%</th>\n",
       "      <td>2.730585e+02</td>\n",
       "      <td>1.618000e+01</td>\n",
       "    </tr>\n",
       "    <tr>\n",
       "      <th>max</th>\n",
       "      <td>9.999970e+02</td>\n",
       "      <td>1.000000e+02</td>\n",
       "    </tr>\n",
       "  </tbody>\n",
       "</table>\n",
       "</div>"
      ],
      "text/plain": [
       "       cases_per_100K_7_day_count_change  \\\n",
       "count                       2.468979e+06   \n",
       "mean                        1.898672e+02   \n",
       "std                         2.016008e+02   \n",
       "min                        -9.018800e+02   \n",
       "25%                         3.879500e+01   \n",
       "50%                         1.277070e+02   \n",
       "75%                         2.730585e+02   \n",
       "max                         9.999970e+02   \n",
       "\n",
       "       percent_test_results_reported_positive_last_7_days  \n",
       "count                                       2.823884e+06   \n",
       "mean                                        1.154418e+01   \n",
       "std                                         1.076036e+01   \n",
       "min                                         0.000000e+00   \n",
       "25%                                         3.790000e+00   \n",
       "50%                                         8.640000e+00   \n",
       "75%                                         1.618000e+01   \n",
       "max                                         1.000000e+02   "
      ]
     },
     "execution_count": 75,
     "metadata": {},
     "output_type": "execute_result"
    }
   ],
   "source": [
    "clean.describe()"
   ]
  },
  {
   "cell_type": "markdown",
   "id": "5cea5931-7bcd-4276-8d79-0fb7c9f53eba",
   "metadata": {
    "jupyter": {
     "source_hidden": true
    }
   },
   "source": [
    "Interpretation\n",
    "\n",
    "Cases_per_100K_7_day_count_change\n",
    "\n",
    "count: 2,468,979 valid non-null values. \n",
    "mean: The average 7-day case count change per 100,000 people is 189.87. \n",
    "std: The standard deviation is 201.60, indicating significant variability in the case count changes. \n",
    "min: The lowest change is -901.88 cases, which could indicate a large decrease in cases during a 7-day period. \n",
    "Percentiles: 25%: 38.80 (25% of the data is below this value). 50% (median): 127.71 (half the data is below this value). \n",
    "             75%: 273.06 (25% of the data is above this value). max: 999.997 cases per 100,000, likely indicating a very high increase.\n",
    "\n",
    "Percent_test_results_reported_positive_last_7_days\n",
    "\n",
    "count: 2,823,884 valid non-NaN values. \n",
    "mean: The average positivity rate over the last 7 days is 11.54%. \n",
    "std: The standard deviation is 10.76%, indicating some variation in positivity rates. \n",
    "min: The lowest positivity rate is 0%, indicating areas with no positive cases in the last 7 days. \n",
    "Percentiles: 25%: 3.79%. 50% (median): 8.64%. 75%: 16.18%. max: 100%, suggesting some areas are reporting exclusively positive results.\n",
    "\n",
    "A positivity rate of 100% may indicate areas where testing is limited or only symptomatic individuals are being tested. \n",
    "The wide range from 0% to 100% suggests a significant disparity in how COVID-19 impacts different regions."
   ]
  },
  {
   "cell_type": "code",
   "execution_count": 81,
   "id": "d8233cf6-9f34-4aed-b006-858a00d40559",
   "metadata": {
    "collapsed": true,
    "jupyter": {
     "outputs_hidden": true
    }
   },
   "outputs": [
    {
     "name": "stdout",
     "output_type": "stream",
     "text": [
      "<class 'pandas.core.frame.DataFrame'>\n",
      "RangeIndex: 3225222 entries, 0 to 3225221\n",
      "Data columns (total 6 columns):\n",
      " #   Column                                              Dtype         \n",
      "---  ------                                              -----         \n",
      " 0   state_name                                          object        \n",
      " 1   county_name                                         object        \n",
      " 2   date                                                datetime64[ns]\n",
      " 3   cases_per_100K_7_day_count_change                   float64       \n",
      " 4   percent_test_results_reported_positive_last_7_days  float64       \n",
      " 5   community_transmission_level                        object        \n",
      "dtypes: datetime64[ns](1), float64(2), object(3)\n",
      "memory usage: 147.6+ MB\n"
     ]
    }
   ],
   "source": [
    "clean.info()"
   ]
  },
  {
   "cell_type": "code",
   "execution_count": 30,
   "id": "4d00c70e-9125-4482-8fc0-47af6e7a0341",
   "metadata": {},
   "outputs": [
    {
     "ename": "KeyError",
     "evalue": "'cases_per_100K_7_day_count_change'",
     "output_type": "error",
     "traceback": [
      "\u001b[1;31m---------------------------------------------------------------------------\u001b[0m",
      "\u001b[1;31mKeyError\u001b[0m                                  Traceback (most recent call last)",
      "File \u001b[1;32m~\\AppData\\Local\\Programs\\Python\\Python312\\Lib\\site-packages\\pandas\\core\\indexes\\base.py:3805\u001b[0m, in \u001b[0;36mIndex.get_loc\u001b[1;34m(self, key)\u001b[0m\n\u001b[0;32m   3804\u001b[0m \u001b[38;5;28;01mtry\u001b[39;00m:\n\u001b[1;32m-> 3805\u001b[0m     \u001b[38;5;28;01mreturn\u001b[39;00m \u001b[38;5;28;43mself\u001b[39;49m\u001b[38;5;241;43m.\u001b[39;49m\u001b[43m_engine\u001b[49m\u001b[38;5;241;43m.\u001b[39;49m\u001b[43mget_loc\u001b[49m\u001b[43m(\u001b[49m\u001b[43mcasted_key\u001b[49m\u001b[43m)\u001b[49m\n\u001b[0;32m   3806\u001b[0m \u001b[38;5;28;01mexcept\u001b[39;00m \u001b[38;5;167;01mKeyError\u001b[39;00m \u001b[38;5;28;01mas\u001b[39;00m err:\n",
      "File \u001b[1;32mindex.pyx:167\u001b[0m, in \u001b[0;36mpandas._libs.index.IndexEngine.get_loc\u001b[1;34m()\u001b[0m\n",
      "File \u001b[1;32mindex.pyx:196\u001b[0m, in \u001b[0;36mpandas._libs.index.IndexEngine.get_loc\u001b[1;34m()\u001b[0m\n",
      "File \u001b[1;32mpandas\\\\_libs\\\\hashtable_class_helper.pxi:7081\u001b[0m, in \u001b[0;36mpandas._libs.hashtable.PyObjectHashTable.get_item\u001b[1;34m()\u001b[0m\n",
      "File \u001b[1;32mpandas\\\\_libs\\\\hashtable_class_helper.pxi:7089\u001b[0m, in \u001b[0;36mpandas._libs.hashtable.PyObjectHashTable.get_item\u001b[1;34m()\u001b[0m\n",
      "\u001b[1;31mKeyError\u001b[0m: 'cases_per_100K_7_day_count_change'",
      "\nThe above exception was the direct cause of the following exception:\n",
      "\u001b[1;31mKeyError\u001b[0m                                  Traceback (most recent call last)",
      "Cell \u001b[1;32mIn[30], line 2\u001b[0m\n\u001b[0;32m      1\u001b[0m clean[\u001b[38;5;124m'\u001b[39m\u001b[38;5;124mcases_per_100K_7_day_count_change\u001b[39m\u001b[38;5;124m'\u001b[39m] \u001b[38;5;241m=\u001b[39m pd\u001b[38;5;241m.\u001b[39mto_numeric(\n\u001b[1;32m----> 2\u001b[0m     \u001b[43mclean\u001b[49m\u001b[43m[\u001b[49m\u001b[38;5;124;43m'\u001b[39;49m\u001b[38;5;124;43mcases_per_100K_7_day_count_change\u001b[39;49m\u001b[38;5;124;43m'\u001b[39;49m\u001b[43m]\u001b[49m, errors\u001b[38;5;241m=\u001b[39m\u001b[38;5;124m'\u001b[39m\u001b[38;5;124mcoerce\u001b[39m\u001b[38;5;124m'\u001b[39m\n\u001b[0;32m      3\u001b[0m )\u001b[38;5;241m.\u001b[39mfillna(\u001b[38;5;241m0\u001b[39m)\n\u001b[0;32m      4\u001b[0m \u001b[38;5;28mprint\u001b[39m(clean[cases_per_100K_7_day_count_change])\n",
      "File \u001b[1;32m~\\AppData\\Local\\Programs\\Python\\Python312\\Lib\\site-packages\\pandas\\core\\frame.py:4102\u001b[0m, in \u001b[0;36mDataFrame.__getitem__\u001b[1;34m(self, key)\u001b[0m\n\u001b[0;32m   4100\u001b[0m \u001b[38;5;28;01mif\u001b[39;00m \u001b[38;5;28mself\u001b[39m\u001b[38;5;241m.\u001b[39mcolumns\u001b[38;5;241m.\u001b[39mnlevels \u001b[38;5;241m>\u001b[39m \u001b[38;5;241m1\u001b[39m:\n\u001b[0;32m   4101\u001b[0m     \u001b[38;5;28;01mreturn\u001b[39;00m \u001b[38;5;28mself\u001b[39m\u001b[38;5;241m.\u001b[39m_getitem_multilevel(key)\n\u001b[1;32m-> 4102\u001b[0m indexer \u001b[38;5;241m=\u001b[39m \u001b[38;5;28;43mself\u001b[39;49m\u001b[38;5;241;43m.\u001b[39;49m\u001b[43mcolumns\u001b[49m\u001b[38;5;241;43m.\u001b[39;49m\u001b[43mget_loc\u001b[49m\u001b[43m(\u001b[49m\u001b[43mkey\u001b[49m\u001b[43m)\u001b[49m\n\u001b[0;32m   4103\u001b[0m \u001b[38;5;28;01mif\u001b[39;00m is_integer(indexer):\n\u001b[0;32m   4104\u001b[0m     indexer \u001b[38;5;241m=\u001b[39m [indexer]\n",
      "File \u001b[1;32m~\\AppData\\Local\\Programs\\Python\\Python312\\Lib\\site-packages\\pandas\\core\\indexes\\base.py:3812\u001b[0m, in \u001b[0;36mIndex.get_loc\u001b[1;34m(self, key)\u001b[0m\n\u001b[0;32m   3807\u001b[0m     \u001b[38;5;28;01mif\u001b[39;00m \u001b[38;5;28misinstance\u001b[39m(casted_key, \u001b[38;5;28mslice\u001b[39m) \u001b[38;5;129;01mor\u001b[39;00m (\n\u001b[0;32m   3808\u001b[0m         \u001b[38;5;28misinstance\u001b[39m(casted_key, abc\u001b[38;5;241m.\u001b[39mIterable)\n\u001b[0;32m   3809\u001b[0m         \u001b[38;5;129;01mand\u001b[39;00m \u001b[38;5;28many\u001b[39m(\u001b[38;5;28misinstance\u001b[39m(x, \u001b[38;5;28mslice\u001b[39m) \u001b[38;5;28;01mfor\u001b[39;00m x \u001b[38;5;129;01min\u001b[39;00m casted_key)\n\u001b[0;32m   3810\u001b[0m     ):\n\u001b[0;32m   3811\u001b[0m         \u001b[38;5;28;01mraise\u001b[39;00m InvalidIndexError(key)\n\u001b[1;32m-> 3812\u001b[0m     \u001b[38;5;28;01mraise\u001b[39;00m \u001b[38;5;167;01mKeyError\u001b[39;00m(key) \u001b[38;5;28;01mfrom\u001b[39;00m \u001b[38;5;21;01merr\u001b[39;00m\n\u001b[0;32m   3813\u001b[0m \u001b[38;5;28;01mexcept\u001b[39;00m \u001b[38;5;167;01mTypeError\u001b[39;00m:\n\u001b[0;32m   3814\u001b[0m     \u001b[38;5;66;03m# If we have a listlike key, _check_indexing_error will raise\u001b[39;00m\n\u001b[0;32m   3815\u001b[0m     \u001b[38;5;66;03m#  InvalidIndexError. Otherwise we fall through and re-raise\u001b[39;00m\n\u001b[0;32m   3816\u001b[0m     \u001b[38;5;66;03m#  the TypeError.\u001b[39;00m\n\u001b[0;32m   3817\u001b[0m     \u001b[38;5;28mself\u001b[39m\u001b[38;5;241m.\u001b[39m_check_indexing_error(key)\n",
      "\u001b[1;31mKeyError\u001b[0m: 'cases_per_100K_7_day_count_change'"
     ]
    }
   ],
   "source": [
    "clean['cases_per_100K_7_day_count_change'] = pd.to_numeric(\n",
    "    clean['cases_per_100K_7_day_count_change'], errors='coerce'\n",
    ").fillna(0)\n",
    "print(clean[cases_per_100K_7_day_count_change])"
   ]
  },
  {
   "cell_type": "code",
   "execution_count": 31,
   "id": "7ab5a160-fcea-4963-abac-d87542d685d2",
   "metadata": {},
   "outputs": [
    {
     "name": "stdout",
     "output_type": "stream",
     "text": [
      "Column 'cases_per_100K_7_day_count_change' not found in DataFrame.\n"
     ]
    }
   ],
   "source": [
    "if 'cases_per_100K_7_day_count_change' in clean.columns:\n",
    "    print(clean['cases_per_100K_7_day_count_change'])\n",
    "else:\n",
    "    print(\"Column 'cases_per_100K_7_day_count_change' not found in DataFrame.\")"
   ]
  },
  {
   "cell_type": "markdown",
   "id": "7df460f0-7301-45ee-8f7f-c941bb964d39",
   "metadata": {},
   "source": [
    "CONVERTING DATE"
   ]
  },
  {
   "cell_type": "code",
   "execution_count": 80,
   "id": "36279d0e-3787-499f-9020-d86075589504",
   "metadata": {},
   "outputs": [],
   "source": [
    "# convert date column into a datetime object.\n",
    "clean['date'] = pd.to_datetime(clean['date'], format='%m/%d/%Y', errors='coerce')"
   ]
  },
  {
   "cell_type": "markdown",
   "id": "e9e26550-7247-4fc2-a9a3-fe0f4d9f174f",
   "metadata": {},
   "source": [
    "MISSING VALUES"
   ]
  },
  {
   "cell_type": "code",
   "execution_count": 82,
   "id": "285d3676-9c1d-4590-8fd5-1bb890ba43e7",
   "metadata": {
    "collapsed": true,
    "jupyter": {
     "outputs_hidden": true
    }
   },
   "outputs": [
    {
     "data": {
      "text/html": [
       "<div>\n",
       "<style scoped>\n",
       "    .dataframe tbody tr th:only-of-type {\n",
       "        vertical-align: middle;\n",
       "    }\n",
       "\n",
       "    .dataframe tbody tr th {\n",
       "        vertical-align: top;\n",
       "    }\n",
       "\n",
       "    .dataframe thead th {\n",
       "        text-align: right;\n",
       "    }\n",
       "</style>\n",
       "<table border=\"1\" class=\"dataframe\">\n",
       "  <thead>\n",
       "    <tr style=\"text-align: right;\">\n",
       "      <th></th>\n",
       "      <th>state_name</th>\n",
       "      <th>county_name</th>\n",
       "      <th>date</th>\n",
       "      <th>cases_per_100K_7_day_count_change</th>\n",
       "      <th>percent_test_results_reported_positive_last_7_days</th>\n",
       "      <th>community_transmission_level</th>\n",
       "    </tr>\n",
       "  </thead>\n",
       "  <tbody>\n",
       "    <tr>\n",
       "      <th>0</th>\n",
       "      <td>False</td>\n",
       "      <td>False</td>\n",
       "      <td>False</td>\n",
       "      <td>False</td>\n",
       "      <td>True</td>\n",
       "      <td>True</td>\n",
       "    </tr>\n",
       "    <tr>\n",
       "      <th>1</th>\n",
       "      <td>False</td>\n",
       "      <td>False</td>\n",
       "      <td>False</td>\n",
       "      <td>False</td>\n",
       "      <td>True</td>\n",
       "      <td>True</td>\n",
       "    </tr>\n",
       "    <tr>\n",
       "      <th>2</th>\n",
       "      <td>False</td>\n",
       "      <td>False</td>\n",
       "      <td>False</td>\n",
       "      <td>False</td>\n",
       "      <td>False</td>\n",
       "      <td>False</td>\n",
       "    </tr>\n",
       "    <tr>\n",
       "      <th>3</th>\n",
       "      <td>False</td>\n",
       "      <td>False</td>\n",
       "      <td>False</td>\n",
       "      <td>False</td>\n",
       "      <td>True</td>\n",
       "      <td>False</td>\n",
       "    </tr>\n",
       "    <tr>\n",
       "      <th>4</th>\n",
       "      <td>False</td>\n",
       "      <td>False</td>\n",
       "      <td>False</td>\n",
       "      <td>False</td>\n",
       "      <td>False</td>\n",
       "      <td>False</td>\n",
       "    </tr>\n",
       "    <tr>\n",
       "      <th>...</th>\n",
       "      <td>...</td>\n",
       "      <td>...</td>\n",
       "      <td>...</td>\n",
       "      <td>...</td>\n",
       "      <td>...</td>\n",
       "      <td>...</td>\n",
       "    </tr>\n",
       "    <tr>\n",
       "      <th>3225217</th>\n",
       "      <td>False</td>\n",
       "      <td>False</td>\n",
       "      <td>False</td>\n",
       "      <td>False</td>\n",
       "      <td>False</td>\n",
       "      <td>False</td>\n",
       "    </tr>\n",
       "    <tr>\n",
       "      <th>3225218</th>\n",
       "      <td>False</td>\n",
       "      <td>False</td>\n",
       "      <td>False</td>\n",
       "      <td>False</td>\n",
       "      <td>True</td>\n",
       "      <td>False</td>\n",
       "    </tr>\n",
       "    <tr>\n",
       "      <th>3225219</th>\n",
       "      <td>False</td>\n",
       "      <td>False</td>\n",
       "      <td>False</td>\n",
       "      <td>False</td>\n",
       "      <td>False</td>\n",
       "      <td>False</td>\n",
       "    </tr>\n",
       "    <tr>\n",
       "      <th>3225220</th>\n",
       "      <td>False</td>\n",
       "      <td>False</td>\n",
       "      <td>False</td>\n",
       "      <td>False</td>\n",
       "      <td>False</td>\n",
       "      <td>False</td>\n",
       "    </tr>\n",
       "    <tr>\n",
       "      <th>3225221</th>\n",
       "      <td>False</td>\n",
       "      <td>False</td>\n",
       "      <td>False</td>\n",
       "      <td>False</td>\n",
       "      <td>False</td>\n",
       "      <td>False</td>\n",
       "    </tr>\n",
       "  </tbody>\n",
       "</table>\n",
       "<p>3225222 rows × 6 columns</p>\n",
       "</div>"
      ],
      "text/plain": [
       "         state_name  county_name   date  cases_per_100K_7_day_count_change  \\\n",
       "0             False        False  False                              False   \n",
       "1             False        False  False                              False   \n",
       "2             False        False  False                              False   \n",
       "3             False        False  False                              False   \n",
       "4             False        False  False                              False   \n",
       "...             ...          ...    ...                                ...   \n",
       "3225217       False        False  False                              False   \n",
       "3225218       False        False  False                              False   \n",
       "3225219       False        False  False                              False   \n",
       "3225220       False        False  False                              False   \n",
       "3225221       False        False  False                              False   \n",
       "\n",
       "         percent_test_results_reported_positive_last_7_days  \\\n",
       "0                                                     True    \n",
       "1                                                     True    \n",
       "2                                                    False    \n",
       "3                                                     True    \n",
       "4                                                    False    \n",
       "...                                                    ...    \n",
       "3225217                                              False    \n",
       "3225218                                               True    \n",
       "3225219                                              False    \n",
       "3225220                                              False    \n",
       "3225221                                              False    \n",
       "\n",
       "         community_transmission_level  \n",
       "0                                True  \n",
       "1                                True  \n",
       "2                               False  \n",
       "3                               False  \n",
       "4                               False  \n",
       "...                               ...  \n",
       "3225217                         False  \n",
       "3225218                         False  \n",
       "3225219                         False  \n",
       "3225220                         False  \n",
       "3225221                         False  \n",
       "\n",
       "[3225222 rows x 6 columns]"
      ]
     },
     "execution_count": 82,
     "metadata": {},
     "output_type": "execute_result"
    }
   ],
   "source": [
    "clean.isnull()"
   ]
  },
  {
   "cell_type": "code",
   "execution_count": 89,
   "id": "89da27ed-dfd1-466c-971c-b647f88f32d3",
   "metadata": {
    "collapsed": true,
    "jupyter": {
     "outputs_hidden": true
    }
   },
   "outputs": [
    {
     "data": {
      "text/plain": [
       "state_name                                              2662\n",
       "county_name                                             2662\n",
       "date                                                       0\n",
       "cases_per_100K_7_day_count_change                          0\n",
       "percent_test_results_reported_positive_last_7_days    401338\n",
       "community_transmission_level                           22661\n",
       "dtype: int64"
      ]
     },
     "execution_count": 89,
     "metadata": {},
     "output_type": "execute_result"
    }
   ],
   "source": [
    "clean.isnull().sum()"
   ]
  },
  {
   "cell_type": "code",
   "execution_count": 85,
   "id": "cef01801-366a-4072-8556-b5a3443e2810",
   "metadata": {
    "collapsed": true,
    "jupyter": {
     "outputs_hidden": true
    }
   },
   "outputs": [
    {
     "data": {
      "text/plain": [
       "state_name                                             0.082537\n",
       "county_name                                            0.082537\n",
       "date                                                   0.000000\n",
       "cases_per_100K_7_day_count_change                      0.000000\n",
       "percent_test_results_reported_positive_last_7_days    12.443733\n",
       "community_transmission_level                           0.702618\n",
       "dtype: float64"
      ]
     },
     "execution_count": 85,
     "metadata": {},
     "output_type": "execute_result"
    }
   ],
   "source": [
    "# % of missing values in each column = number of missing values/total values * 100\n",
    "clean.isnull().sum()/len(clean) * 100"
   ]
  },
  {
   "cell_type": "code",
   "execution_count": 93,
   "id": "73742c34-d785-4b36-a5ca-6f928e9f8d72",
   "metadata": {},
   "outputs": [],
   "source": [
    "# Because the % of missing values is low in state_name column, \n",
    "# We'll fillin with a placeholder 'unknown'instead of mode.\n",
    "clean.fillna({\"state_name\": \"unknown\"}, inplace=True)"
   ]
  },
  {
   "cell_type": "code",
   "execution_count": 94,
   "id": "e98d90b3-a144-4745-9918-c93c6aa55841",
   "metadata": {},
   "outputs": [],
   "source": [
    "# Do the same for county_name column. \n",
    "clean.fillna({\"county_name\": \"unknown\"}, inplace=True)"
   ]
  },
  {
   "cell_type": "code",
   "execution_count": 103,
   "id": "9af270c6-d956-41c9-b914-52633fec1698",
   "metadata": {
    "collapsed": true,
    "jupyter": {
     "outputs_hidden": true
    }
   },
   "outputs": [
    {
     "data": {
      "text/plain": [
       "state_name                                            0\n",
       "county_name                                           0\n",
       "date                                                  0\n",
       "cases_per_100K_7_day_count_change                     0\n",
       "percent_test_results_reported_positive_last_7_days    0\n",
       "community_transmission_level                          0\n",
       "dtype: int64"
      ]
     },
     "execution_count": 103,
     "metadata": {},
     "output_type": "execute_result"
    }
   ],
   "source": [
    "clean.isnull().sum()"
   ]
  },
  {
   "cell_type": "code",
   "execution_count": 97,
   "id": "f78a7938-4244-4654-8455-3a48e3c07559",
   "metadata": {},
   "outputs": [
    {
     "name": "stdout",
     "output_type": "stream",
     "text": [
      "8.64\n"
     ]
    }
   ],
   "source": [
    "# Filling column 'percent_test_results_reported_positive_last_7_days'.\n",
    "# This column has numeric values. We'll fillin with a median_value.\n",
    "median_value = clean[\"percent_test_results_reported_positive_last_7_days\"].median()\n",
    "print(median_value)\n",
    "clean.fillna({\"percent_test_results_reported_positive_last_7_days\": 8.64}, inplace=True)"
   ]
  },
  {
   "cell_type": "code",
   "execution_count": 102,
   "id": "b300bbc6-aabb-4921-a293-6105ef323e2c",
   "metadata": {},
   "outputs": [
    {
     "name": "stdout",
     "output_type": "stream",
     "text": [
      "high\n"
     ]
    }
   ],
   "source": [
    "# Filling column 'community_transmission_level' with a mode.\n",
    "# we use iloc[0] just in case there are more than one mode.\n",
    "mode_value = clean[\"community_transmission_level\"].mode().iloc[0]\n",
    "print(mode_value)\n",
    "clean.fillna({\"community_transmission_level\": \"mode_value\"}, inplace=True)"
   ]
  },
  {
   "cell_type": "markdown",
   "id": "1c74ddbb-6b12-4e74-9573-5e467e0cfa20",
   "metadata": {},
   "source": [
    "CHECKING DUPLICATES"
   ]
  },
  {
   "cell_type": "code",
   "execution_count": 104,
   "id": "6b163c4b-f94c-4d7b-91cf-9c34c6a21de5",
   "metadata": {},
   "outputs": [
    {
     "data": {
      "text/plain": [
       "2658"
      ]
     },
     "execution_count": 104,
     "metadata": {},
     "output_type": "execute_result"
    }
   ],
   "source": [
    "clean.duplicated().sum()\n",
    "duplicat_count = int(clean.duplicated().sum())\n",
    "duplicat_count"
   ]
  },
  {
   "cell_type": "code",
   "execution_count": 105,
   "id": "3248b960-0fdb-4c23-980f-7086bda9101a",
   "metadata": {
    "collapsed": true,
    "jupyter": {
     "outputs_hidden": true
    }
   },
   "outputs": [
    {
     "name": "stdout",
     "output_type": "stream",
     "text": [
      "       state_name county_name        date cases_per_100K_7_day_count_change  \\\n",
      "148       unknown     unknown  10/17/2022                             0.000   \n",
      "260       unknown     unknown  10/17/2022                             0.000   \n",
      "307       unknown     unknown  10/17/2022                             0.000   \n",
      "327       unknown     unknown  10/17/2022                             0.000   \n",
      "391       unknown     unknown  10/17/2022                             0.000   \n",
      "...           ...         ...         ...                               ...   \n",
      "790316    unknown     unknown  10/17/2022                             0.000   \n",
      "790317    unknown     unknown  10/17/2022                             0.000   \n",
      "790318    unknown     unknown  10/17/2022                             0.000   \n",
      "790319    unknown     unknown  10/17/2022                             0.000   \n",
      "790320    unknown     unknown  10/17/2022                             0.000   \n",
      "\n",
      "        percent_test_results_reported_positive_last_7_days  \\\n",
      "148                                                  8.64    \n",
      "260                                                  8.64    \n",
      "307                                                  8.64    \n",
      "327                                                  8.64    \n",
      "391                                                  8.64    \n",
      "...                                                   ...    \n",
      "790316                                               8.64    \n",
      "790317                                               8.64    \n",
      "790318                                               8.64    \n",
      "790319                                               8.64    \n",
      "790320                                               8.64    \n",
      "\n",
      "       community_transmission_level  \n",
      "148                        moderate  \n",
      "260                            high  \n",
      "307                        moderate  \n",
      "327                            high  \n",
      "391                            high  \n",
      "...                             ...  \n",
      "790316                         high  \n",
      "790317                         high  \n",
      "790318                         high  \n",
      "790319                          low  \n",
      "790320                          low  \n",
      "\n",
      "[2658 rows x 6 columns]\n"
     ]
    }
   ],
   "source": [
    "duplicated_rows = clean[clean.duplicated()]\n",
    "print(duplicated_rows)"
   ]
  },
  {
   "cell_type": "code",
   "execution_count": null,
   "id": "acfeb740-2f0f-481a-9c7b-e9e728350db8",
   "metadata": {},
   "outputs": [],
   "source": [
    "# Ignore duplicate because these rows are not really duplicated. They are filled with the same values(int, or object)."
   ]
  },
  {
   "cell_type": "code",
   "execution_count": 107,
   "id": "c827ee02-f403-4067-a840-dee6c27aa872",
   "metadata": {},
   "outputs": [
    {
     "data": {
      "text/plain": [
       "'clean/clean_data_2.csv'"
      ]
     },
     "execution_count": 107,
     "metadata": {},
     "output_type": "execute_result"
    }
   ],
   "source": [
    "source = \"clean_data_2.csv\"\n",
    "destination = \"clean/\"\n",
    "shutil.move(source, destination)"
   ]
  },
  {
   "cell_type": "code",
   "execution_count": null,
   "id": "a62dceaf-e570-459a-bfd8-47e6f97160f4",
   "metadata": {},
   "outputs": [],
   "source": []
  }
 ],
 "metadata": {
  "kernelspec": {
   "display_name": "Python 3 (ipykernel)",
   "language": "python",
   "name": "python3"
  },
  "language_info": {
   "codemirror_mode": {
    "name": "ipython",
    "version": 3
   },
   "file_extension": ".py",
   "mimetype": "text/x-python",
   "name": "python",
   "nbconvert_exporter": "python",
   "pygments_lexer": "ipython3",
   "version": "3.12.4"
  }
 },
 "nbformat": 4,
 "nbformat_minor": 5
}
