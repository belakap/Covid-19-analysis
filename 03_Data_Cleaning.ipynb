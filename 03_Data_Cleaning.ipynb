{
 "cells": [
  {
   "cell_type": "markdown",
   "id": "6595cc0b-7acc-429a-92af-35e28eb801c0",
   "metadata": {},
   "source": [
    "**CLEANING Rates_of_Cases_or_Deaths.csv** (First dataset)"
   ]
  },
  {
   "cell_type": "code",
   "execution_count": 3,
   "id": "65c005f5-73ea-402b-963c-fc51d5019a45",
   "metadata": {},
   "outputs": [],
   "source": [
    "import pandas as pd\n",
    "import shutil\n",
    "import re\n",
    "import numpy as np"
   ]
  },
  {
   "cell_type": "code",
   "execution_count": 2,
   "id": "146b0d49-693c-4a0f-8571-37eb8186b21c",
   "metadata": {},
   "outputs": [],
   "source": [
    "raw = pd.read_csv(\"Data/raw/Rates_of_Cases_or_Deaths.csv\")"
   ]
  },
  {
   "cell_type": "code",
   "execution_count": 3,
   "id": "8c2aa0e4-de34-4b32-9bd5-2d9956031952",
   "metadata": {
    "collapsed": true,
    "jupyter": {
     "outputs_hidden": true
    },
    "scrolled": true
   },
   "outputs": [
    {
     "name": "stdout",
     "output_type": "stream",
     "text": [
      "     outcome     month  MMWR week     Age group Vaccine product  \\\n",
      "0       case  APR 2021     202114         12-17       all_types   \n",
      "1       case  APR 2021     202114         18-29       all_types   \n",
      "2       case  APR 2021     202114         30-49       all_types   \n",
      "3       case  APR 2021     202114         50-64       all_types   \n",
      "4       case  APR 2021     202114         65-79       all_types   \n",
      "...      ...       ...        ...           ...             ...   \n",
      "1586   death  AUG 2022     202235           80+       all_types   \n",
      "1587   death  AUG 2022     202235  all_ages_adj       all_types   \n",
      "1588   death  AUG 2022     202235  all_ages_adj         Janssen   \n",
      "1589   death  AUG 2022     202235  all_ages_adj         Moderna   \n",
      "1590   death  AUG 2022     202235  all_ages_adj          Pfizer   \n",
      "\n",
      "      Vaccinated with outcome  Fully vaccinated population  \\\n",
      "0                           8                 3.688700e+04   \n",
      "1                         674                 2.543093e+06   \n",
      "2                        1847                 7.428405e+06   \n",
      "3                        1558                 7.487444e+06   \n",
      "4                        1672                 1.439810e+07   \n",
      "...                       ...                          ...   \n",
      "1586                      328                 7.078966e+06   \n",
      "1587                      603                 1.428525e+08   \n",
      "1588                       33                 1.075017e+07   \n",
      "1589                      286                 4.941886e+07   \n",
      "1590                      280                 8.263597e+07   \n",
      "\n",
      "      Unvaccinated with outcome  Unvaccinated population  Crude vax IR  \\\n",
      "0                         30785              17556462.00     21.687858   \n",
      "1                         76736              31091322.00     26.503160   \n",
      "2                         98436              41074337.00     24.864019   \n",
      "3                         50324              22948569.00     20.808169   \n",
      "4                         14880               7675907.00     11.612644   \n",
      "...                         ...                      ...           ...   \n",
      "1586                        172                963095.40      4.633445   \n",
      "1587                        398              50965568.85      0.422114   \n",
      "1588                        398              50965568.85      0.306972   \n",
      "1589                        398              50965568.85      0.578726   \n",
      "1590                        398              50965568.85      0.338836   \n",
      "\n",
      "      Crude unvax IR  Crude IRR  Age adjusted vax IR  Age adjusted unvax IR  \\\n",
      "0         175.348541   8.085102                  NaN                    NaN   \n",
      "1         246.808418   9.312415                  NaN                    NaN   \n",
      "2         239.653290   9.638558                  NaN                    NaN   \n",
      "3         219.290362  10.538667                  NaN                    NaN   \n",
      "4         193.853313  16.693297                  NaN                    NaN   \n",
      "...              ...        ...                  ...                    ...   \n",
      "1586       17.859082   3.854385                  NaN                    NaN   \n",
      "1587        0.780919   1.850021             0.287258               1.605239   \n",
      "1588        0.780919   2.543944             0.317448               1.605239   \n",
      "1589        0.780919   1.349376             0.294841               1.605239   \n",
      "1590        0.780919   2.304715             0.277278               1.605239   \n",
      "\n",
      "      Age adjusted IRR  Continuity correction  \n",
      "0                  NaN                      0  \n",
      "1                  NaN                      0  \n",
      "2                  NaN                      0  \n",
      "3                  NaN                      0  \n",
      "4                  NaN                      0  \n",
      "...                ...                    ...  \n",
      "1586               NaN                      1  \n",
      "1587          5.588152                      1  \n",
      "1588          5.056694                      1  \n",
      "1589          5.444415                      1  \n",
      "1590          5.789287                      1  \n",
      "\n",
      "[1591 rows x 16 columns]\n"
     ]
    }
   ],
   "source": [
    "print(raw)"
   ]
  },
  {
   "cell_type": "markdown",
   "id": "d0f179d2-baa8-4491-aa5e-f8abcf2fb8ea",
   "metadata": {},
   "source": [
    "HANDLING MISSING AND INVALID DATA"
   ]
  },
  {
   "cell_type": "code",
   "execution_count": 7,
   "id": "dc66e0ed-bae5-4875-baa5-d4cc9976aefb",
   "metadata": {
    "collapsed": true,
    "jupyter": {
     "outputs_hidden": true
    }
   },
   "outputs": [
    {
     "data": {
      "text/html": [
       "<div>\n",
       "<style scoped>\n",
       "    .dataframe tbody tr th:only-of-type {\n",
       "        vertical-align: middle;\n",
       "    }\n",
       "\n",
       "    .dataframe tbody tr th {\n",
       "        vertical-align: top;\n",
       "    }\n",
       "\n",
       "    .dataframe thead th {\n",
       "        text-align: right;\n",
       "    }\n",
       "</style>\n",
       "<table border=\"1\" class=\"dataframe\">\n",
       "  <thead>\n",
       "    <tr style=\"text-align: right;\">\n",
       "      <th></th>\n",
       "      <th>outcome</th>\n",
       "      <th>month</th>\n",
       "      <th>MMWR week</th>\n",
       "      <th>Age group</th>\n",
       "      <th>Vaccine product</th>\n",
       "      <th>Vaccinated with outcome</th>\n",
       "      <th>Fully vaccinated population</th>\n",
       "      <th>Unvaccinated with outcome</th>\n",
       "      <th>Unvaccinated population</th>\n",
       "      <th>Crude vax IR</th>\n",
       "      <th>Crude unvax IR</th>\n",
       "      <th>Crude IRR</th>\n",
       "      <th>Age adjusted vax IR</th>\n",
       "      <th>Age adjusted unvax IR</th>\n",
       "      <th>Age adjusted IRR</th>\n",
       "      <th>Continuity correction</th>\n",
       "    </tr>\n",
       "  </thead>\n",
       "  <tbody>\n",
       "    <tr>\n",
       "      <th>0</th>\n",
       "      <td>False</td>\n",
       "      <td>False</td>\n",
       "      <td>False</td>\n",
       "      <td>False</td>\n",
       "      <td>False</td>\n",
       "      <td>False</td>\n",
       "      <td>False</td>\n",
       "      <td>False</td>\n",
       "      <td>False</td>\n",
       "      <td>False</td>\n",
       "      <td>False</td>\n",
       "      <td>False</td>\n",
       "      <td>True</td>\n",
       "      <td>True</td>\n",
       "      <td>True</td>\n",
       "      <td>False</td>\n",
       "    </tr>\n",
       "    <tr>\n",
       "      <th>1</th>\n",
       "      <td>False</td>\n",
       "      <td>False</td>\n",
       "      <td>False</td>\n",
       "      <td>False</td>\n",
       "      <td>False</td>\n",
       "      <td>False</td>\n",
       "      <td>False</td>\n",
       "      <td>False</td>\n",
       "      <td>False</td>\n",
       "      <td>False</td>\n",
       "      <td>False</td>\n",
       "      <td>False</td>\n",
       "      <td>True</td>\n",
       "      <td>True</td>\n",
       "      <td>True</td>\n",
       "      <td>False</td>\n",
       "    </tr>\n",
       "    <tr>\n",
       "      <th>2</th>\n",
       "      <td>False</td>\n",
       "      <td>False</td>\n",
       "      <td>False</td>\n",
       "      <td>False</td>\n",
       "      <td>False</td>\n",
       "      <td>False</td>\n",
       "      <td>False</td>\n",
       "      <td>False</td>\n",
       "      <td>False</td>\n",
       "      <td>False</td>\n",
       "      <td>False</td>\n",
       "      <td>False</td>\n",
       "      <td>True</td>\n",
       "      <td>True</td>\n",
       "      <td>True</td>\n",
       "      <td>False</td>\n",
       "    </tr>\n",
       "    <tr>\n",
       "      <th>3</th>\n",
       "      <td>False</td>\n",
       "      <td>False</td>\n",
       "      <td>False</td>\n",
       "      <td>False</td>\n",
       "      <td>False</td>\n",
       "      <td>False</td>\n",
       "      <td>False</td>\n",
       "      <td>False</td>\n",
       "      <td>False</td>\n",
       "      <td>False</td>\n",
       "      <td>False</td>\n",
       "      <td>False</td>\n",
       "      <td>True</td>\n",
       "      <td>True</td>\n",
       "      <td>True</td>\n",
       "      <td>False</td>\n",
       "    </tr>\n",
       "    <tr>\n",
       "      <th>4</th>\n",
       "      <td>False</td>\n",
       "      <td>False</td>\n",
       "      <td>False</td>\n",
       "      <td>False</td>\n",
       "      <td>False</td>\n",
       "      <td>False</td>\n",
       "      <td>False</td>\n",
       "      <td>False</td>\n",
       "      <td>False</td>\n",
       "      <td>False</td>\n",
       "      <td>False</td>\n",
       "      <td>False</td>\n",
       "      <td>True</td>\n",
       "      <td>True</td>\n",
       "      <td>True</td>\n",
       "      <td>False</td>\n",
       "    </tr>\n",
       "    <tr>\n",
       "      <th>...</th>\n",
       "      <td>...</td>\n",
       "      <td>...</td>\n",
       "      <td>...</td>\n",
       "      <td>...</td>\n",
       "      <td>...</td>\n",
       "      <td>...</td>\n",
       "      <td>...</td>\n",
       "      <td>...</td>\n",
       "      <td>...</td>\n",
       "      <td>...</td>\n",
       "      <td>...</td>\n",
       "      <td>...</td>\n",
       "      <td>...</td>\n",
       "      <td>...</td>\n",
       "      <td>...</td>\n",
       "      <td>...</td>\n",
       "    </tr>\n",
       "    <tr>\n",
       "      <th>1586</th>\n",
       "      <td>False</td>\n",
       "      <td>False</td>\n",
       "      <td>False</td>\n",
       "      <td>False</td>\n",
       "      <td>False</td>\n",
       "      <td>False</td>\n",
       "      <td>False</td>\n",
       "      <td>False</td>\n",
       "      <td>False</td>\n",
       "      <td>False</td>\n",
       "      <td>False</td>\n",
       "      <td>False</td>\n",
       "      <td>True</td>\n",
       "      <td>True</td>\n",
       "      <td>True</td>\n",
       "      <td>False</td>\n",
       "    </tr>\n",
       "    <tr>\n",
       "      <th>1587</th>\n",
       "      <td>False</td>\n",
       "      <td>False</td>\n",
       "      <td>False</td>\n",
       "      <td>False</td>\n",
       "      <td>False</td>\n",
       "      <td>False</td>\n",
       "      <td>False</td>\n",
       "      <td>False</td>\n",
       "      <td>False</td>\n",
       "      <td>False</td>\n",
       "      <td>False</td>\n",
       "      <td>False</td>\n",
       "      <td>False</td>\n",
       "      <td>False</td>\n",
       "      <td>False</td>\n",
       "      <td>False</td>\n",
       "    </tr>\n",
       "    <tr>\n",
       "      <th>1588</th>\n",
       "      <td>False</td>\n",
       "      <td>False</td>\n",
       "      <td>False</td>\n",
       "      <td>False</td>\n",
       "      <td>False</td>\n",
       "      <td>False</td>\n",
       "      <td>False</td>\n",
       "      <td>False</td>\n",
       "      <td>False</td>\n",
       "      <td>False</td>\n",
       "      <td>False</td>\n",
       "      <td>False</td>\n",
       "      <td>False</td>\n",
       "      <td>False</td>\n",
       "      <td>False</td>\n",
       "      <td>False</td>\n",
       "    </tr>\n",
       "    <tr>\n",
       "      <th>1589</th>\n",
       "      <td>False</td>\n",
       "      <td>False</td>\n",
       "      <td>False</td>\n",
       "      <td>False</td>\n",
       "      <td>False</td>\n",
       "      <td>False</td>\n",
       "      <td>False</td>\n",
       "      <td>False</td>\n",
       "      <td>False</td>\n",
       "      <td>False</td>\n",
       "      <td>False</td>\n",
       "      <td>False</td>\n",
       "      <td>False</td>\n",
       "      <td>False</td>\n",
       "      <td>False</td>\n",
       "      <td>False</td>\n",
       "    </tr>\n",
       "    <tr>\n",
       "      <th>1590</th>\n",
       "      <td>False</td>\n",
       "      <td>False</td>\n",
       "      <td>False</td>\n",
       "      <td>False</td>\n",
       "      <td>False</td>\n",
       "      <td>False</td>\n",
       "      <td>False</td>\n",
       "      <td>False</td>\n",
       "      <td>False</td>\n",
       "      <td>False</td>\n",
       "      <td>False</td>\n",
       "      <td>False</td>\n",
       "      <td>False</td>\n",
       "      <td>False</td>\n",
       "      <td>False</td>\n",
       "      <td>False</td>\n",
       "    </tr>\n",
       "  </tbody>\n",
       "</table>\n",
       "<p>1591 rows × 16 columns</p>\n",
       "</div>"
      ],
      "text/plain": [
       "      outcome  month  MMWR week  Age group  Vaccine product  \\\n",
       "0       False  False      False      False            False   \n",
       "1       False  False      False      False            False   \n",
       "2       False  False      False      False            False   \n",
       "3       False  False      False      False            False   \n",
       "4       False  False      False      False            False   \n",
       "...       ...    ...        ...        ...              ...   \n",
       "1586    False  False      False      False            False   \n",
       "1587    False  False      False      False            False   \n",
       "1588    False  False      False      False            False   \n",
       "1589    False  False      False      False            False   \n",
       "1590    False  False      False      False            False   \n",
       "\n",
       "      Vaccinated with outcome  Fully vaccinated population  \\\n",
       "0                       False                        False   \n",
       "1                       False                        False   \n",
       "2                       False                        False   \n",
       "3                       False                        False   \n",
       "4                       False                        False   \n",
       "...                       ...                          ...   \n",
       "1586                    False                        False   \n",
       "1587                    False                        False   \n",
       "1588                    False                        False   \n",
       "1589                    False                        False   \n",
       "1590                    False                        False   \n",
       "\n",
       "      Unvaccinated with outcome  Unvaccinated population  Crude vax IR  \\\n",
       "0                         False                    False         False   \n",
       "1                         False                    False         False   \n",
       "2                         False                    False         False   \n",
       "3                         False                    False         False   \n",
       "4                         False                    False         False   \n",
       "...                         ...                      ...           ...   \n",
       "1586                      False                    False         False   \n",
       "1587                      False                    False         False   \n",
       "1588                      False                    False         False   \n",
       "1589                      False                    False         False   \n",
       "1590                      False                    False         False   \n",
       "\n",
       "      Crude unvax IR  Crude IRR  Age adjusted vax IR  Age adjusted unvax IR  \\\n",
       "0              False      False                 True                   True   \n",
       "1              False      False                 True                   True   \n",
       "2              False      False                 True                   True   \n",
       "3              False      False                 True                   True   \n",
       "4              False      False                 True                   True   \n",
       "...              ...        ...                  ...                    ...   \n",
       "1586           False      False                 True                   True   \n",
       "1587           False      False                False                  False   \n",
       "1588           False      False                False                  False   \n",
       "1589           False      False                False                  False   \n",
       "1590           False      False                False                  False   \n",
       "\n",
       "      Age adjusted IRR  Continuity correction  \n",
       "0                 True                  False  \n",
       "1                 True                  False  \n",
       "2                 True                  False  \n",
       "3                 True                  False  \n",
       "4                 True                  False  \n",
       "...                ...                    ...  \n",
       "1586              True                  False  \n",
       "1587             False                  False  \n",
       "1588             False                  False  \n",
       "1589             False                  False  \n",
       "1590             False                  False  \n",
       "\n",
       "[1591 rows x 16 columns]"
      ]
     },
     "execution_count": 7,
     "metadata": {},
     "output_type": "execute_result"
    }
   ],
   "source": [
    "# number of missing values(data)\n",
    "raw.isnull()"
   ]
  },
  {
   "cell_type": "code",
   "execution_count": 8,
   "id": "5f13dede-d1a1-4642-bc67-0bd3e7cf7951",
   "metadata": {
    "collapsed": true,
    "jupyter": {
     "outputs_hidden": true
    }
   },
   "outputs": [
    {
     "data": {
      "text/plain": [
       "outcome                          0\n",
       "month                            0\n",
       "MMWR week                        0\n",
       "Age group                        0\n",
       "Vaccine product                  0\n",
       "Vaccinated with outcome          0\n",
       "Fully vaccinated population      0\n",
       "Unvaccinated with outcome        0\n",
       "Unvaccinated population          0\n",
       "Crude vax IR                     0\n",
       "Crude unvax IR                   0\n",
       "Crude IRR                      114\n",
       "Age adjusted vax IR            987\n",
       "Age adjusted unvax IR          987\n",
       "Age adjusted IRR               987\n",
       "Continuity correction            0\n",
       "dtype: int64"
      ]
     },
     "execution_count": 8,
     "metadata": {},
     "output_type": "execute_result"
    }
   ],
   "source": [
    "raw.isnull().sum()"
   ]
  },
  {
   "cell_type": "code",
   "execution_count": 9,
   "id": "93c20bb9-fe04-4953-817e-3a7793740456",
   "metadata": {
    "collapsed": true,
    "jupyter": {
     "outputs_hidden": true
    },
    "scrolled": true
   },
   "outputs": [
    {
     "data": {
      "text/plain": [
       "outcome                         0.000000\n",
       "month                           0.000000\n",
       "MMWR week                       0.000000\n",
       "Age group                       0.000000\n",
       "Vaccine product                 0.000000\n",
       "Vaccinated with outcome         0.000000\n",
       "Fully vaccinated population     0.000000\n",
       "Unvaccinated with outcome       0.000000\n",
       "Unvaccinated population         0.000000\n",
       "Crude vax IR                    0.000000\n",
       "Crude unvax IR                  0.000000\n",
       "Crude IRR                       7.165305\n",
       "Age adjusted vax IR            62.036455\n",
       "Age adjusted unvax IR          62.036455\n",
       "Age adjusted IRR               62.036455\n",
       "Continuity correction           0.000000\n",
       "dtype: float64"
      ]
     },
     "execution_count": 9,
     "metadata": {},
     "output_type": "execute_result"
    }
   ],
   "source": [
    "# % of missing values in each column: number of missing values/total values * 100\n",
    "raw.isnull().sum()/len(raw)*100"
   ]
  },
  {
   "cell_type": "code",
   "execution_count": 40,
   "id": "0eaa9a35-e96b-44a5-8345-1dd2ddfcffda",
   "metadata": {
    "collapsed": true,
    "jupyter": {
     "outputs_hidden": true
    },
    "scrolled": true
   },
   "outputs": [
    {
     "name": "stdout",
     "output_type": "stream",
     "text": [
      "     outcome     month  MMWR week     Age group Vaccine product  \\\n",
      "0       case  APR 2021     202114         12-17       all_types   \n",
      "1       case  APR 2021     202114         18-29       all_types   \n",
      "2       case  APR 2021     202114         30-49       all_types   \n",
      "3       case  APR 2021     202114         50-64       all_types   \n",
      "4       case  APR 2021     202114         65-79       all_types   \n",
      "...      ...       ...        ...           ...             ...   \n",
      "1586   death  AUG 2022     202235           80+       all_types   \n",
      "1587   death  AUG 2022     202235  all_ages_adj       all_types   \n",
      "1588   death  AUG 2022     202235  all_ages_adj         Janssen   \n",
      "1589   death  AUG 2022     202235  all_ages_adj         Moderna   \n",
      "1590   death  AUG 2022     202235  all_ages_adj          Pfizer   \n",
      "\n",
      "      Vaccinated with outcome  Fully vaccinated population  \\\n",
      "0                           8                 3.688700e+04   \n",
      "1                         674                 2.543093e+06   \n",
      "2                        1847                 7.428405e+06   \n",
      "3                        1558                 7.487444e+06   \n",
      "4                        1672                 1.439810e+07   \n",
      "...                       ...                          ...   \n",
      "1586                      328                 7.078966e+06   \n",
      "1587                      603                 1.428525e+08   \n",
      "1588                       33                 1.075017e+07   \n",
      "1589                      286                 4.941886e+07   \n",
      "1590                      280                 8.263597e+07   \n",
      "\n",
      "      Unvaccinated with outcome  Unvaccinated population  Crude vax IR  \\\n",
      "0                         30785              17556462.00     21.687858   \n",
      "1                         76736              31091322.00     26.503160   \n",
      "2                         98436              41074337.00     24.864019   \n",
      "3                         50324              22948569.00     20.808169   \n",
      "4                         14880               7675907.00     11.612644   \n",
      "...                         ...                      ...           ...   \n",
      "1586                        172                963095.40      4.633445   \n",
      "1587                        398              50965568.85      0.422114   \n",
      "1588                        398              50965568.85      0.306972   \n",
      "1589                        398              50965568.85      0.578726   \n",
      "1590                        398              50965568.85      0.338836   \n",
      "\n",
      "      Crude unvax IR  Crude IRR  Continuity correction  \n",
      "0         175.348541   8.085102                      0  \n",
      "1         246.808418   9.312415                      0  \n",
      "2         239.653290   9.638558                      0  \n",
      "3         219.290362  10.538667                      0  \n",
      "4         193.853313  16.693297                      0  \n",
      "...              ...        ...                    ...  \n",
      "1586       17.859082   3.854385                      1  \n",
      "1587        0.780919   1.850021                      1  \n",
      "1588        0.780919   2.543944                      1  \n",
      "1589        0.780919   1.349376                      1  \n",
      "1590        0.780919   2.304715                      1  \n",
      "\n",
      "[1591 rows x 13 columns]\n"
     ]
    }
   ],
   "source": [
    "## Age adjusted vax IR, Age adjusted unvax IR, and Age adjusted IRR have a high % of missing values. \n",
    "## We will delete them. As they are important for the analysis, we will replace them by age group metrics.\n",
    "clean = raw.drop([\"Age adjusted vax IR\", \"Age adjusted unvax IR\", \"Age adjusted IRR\"], axis=1)\n",
    "print(clean)"
   ]
  },
  {
   "cell_type": "code",
   "execution_count": 41,
   "id": "97ec0451-e536-4d89-bda4-ce75e0270e85",
   "metadata": {},
   "outputs": [],
   "source": [
    "# Save clean to csv file\n",
    "clean.to_csv(\"clean_data_1.csv\", index=False)"
   ]
  },
  {
   "cell_type": "code",
   "execution_count": 47,
   "id": "021928dd-d1fa-4582-b2ac-5c27cf7d292b",
   "metadata": {},
   "outputs": [
    {
     "data": {
      "text/plain": [
       "'Data/clean/clean_data_1.csv'"
      ]
     },
     "execution_count": 47,
     "metadata": {},
     "output_type": "execute_result"
    }
   ],
   "source": [
    "source = \"clean_data_1.csv\"\n",
    "destination = \"Data/clean/\"\n",
    "shutil.move(source, destination)"
   ]
  },
  {
   "cell_type": "code",
   "execution_count": 5,
   "id": "c2864f49-ac52-4abc-bc41-541a77ab26b3",
   "metadata": {},
   "outputs": [],
   "source": [
    "clean = pd.read_csv(\"Data/clean/clean_data_1.csv\")"
   ]
  },
  {
   "cell_type": "code",
   "execution_count": 22,
   "id": "fb27ef45-8836-4418-b1c3-5e42eba3abec",
   "metadata": {},
   "outputs": [
    {
     "name": "stdout",
     "output_type": "stream",
     "text": [
      "7.014692613974949\n"
     ]
    }
   ],
   "source": [
    "## Filling \"Crude IRR\" as % of missing values is 7.1653:\n",
    "## Calculate mean of this column and fill the missing values with the mean.\n",
    "mean_value = clean[\"Crude IRR\"].mean()\n",
    "print(mean_value)"
   ]
  },
  {
   "cell_type": "code",
   "execution_count": 23,
   "id": "46726a56-a559-4bf3-80ee-31f3b5a370a0",
   "metadata": {},
   "outputs": [
    {
     "name": "stdout",
     "output_type": "stream",
     "text": [
      "114\n",
      "Empty DataFrame\n",
      "Columns: [outcome, month, MMWR week, Age group, Vaccine product, Vaccinated with outcome, Fully vaccinated population, Unvaccinated with outcome, Unvaccinated population, Crude vax IR, Crude unvax IR, Crude IRR, Continuity correction]\n",
      "Index: []\n"
     ]
    }
   ],
   "source": [
    "# standardize missing values and fillin\n",
    "clean['Crude IRR'] = clean['Crude IRR'].replace(['', ' ', 'NA', 'N/A', 'null'], np.nan)\n",
    "print(clean['Crude IRR'].isnull().sum()) \n",
    "mean_value = clean['Crude IRR'].astype(float).mean()  # Ensure the column is numeric\n",
    "clean['Crude IRR'] = clean['Crude IRR'].fillna(mean_value)\n",
    "clean.to_csv('clean_data_1_updated.csv', index=False)\n",
    "\n",
    "# Verify again in pandas\n",
    "print(clean[clean['Crude IRR'].isnull()])  # Should return an empty DataFrame"
   ]
  },
  {
   "cell_type": "code",
   "execution_count": 24,
   "id": "a49d653a-68e6-4db9-bf89-63aaa4798ec4",
   "metadata": {},
   "outputs": [
    {
     "data": {
      "text/plain": [
       "'Data/clean/clean_data_1_updated.csv'"
      ]
     },
     "execution_count": 24,
     "metadata": {},
     "output_type": "execute_result"
    }
   ],
   "source": [
    "source = \"clean_data_1_updated.csv\"\n",
    "destination = \"Data/clean/\"\n",
    "shutil.move(source, destination)"
   ]
  },
  {
   "cell_type": "code",
   "execution_count": 51,
   "id": "94d91ef0-32e7-46a8-9de1-d9060bd81391",
   "metadata": {
    "collapsed": true,
    "jupyter": {
     "outputs_hidden": true
    }
   },
   "outputs": [
    {
     "data": {
      "text/plain": [
       "outcome                        0\n",
       "month                          0\n",
       "MMWR week                      0\n",
       "Age group                      0\n",
       "Vaccine product                0\n",
       "Vaccinated with outcome        0\n",
       "Fully vaccinated population    0\n",
       "Unvaccinated with outcome      0\n",
       "Unvaccinated population        0\n",
       "Crude vax IR                   0\n",
       "Crude unvax IR                 0\n",
       "Crude IRR                      0\n",
       "Continuity correction          0\n",
       "dtype: int64"
      ]
     },
     "execution_count": 51,
     "metadata": {},
     "output_type": "execute_result"
    }
   ],
   "source": [
    "clean.isnull().sum()"
   ]
  },
  {
   "cell_type": "code",
   "execution_count": 57,
   "id": "e5405da2-d718-4c5b-95ab-1672b4ee9a03",
   "metadata": {
    "collapsed": true,
    "jupyter": {
     "outputs_hidden": true,
     "source_hidden": true
    }
   },
   "outputs": [
    {
     "name": "stdout",
     "output_type": "stream",
     "text": [
      "Invalid entries:\n",
      "Empty DataFrame\n",
      "Columns: [outcome, month, MMWR week, Age group, Vaccine product, Vaccinated with outcome, Fully vaccinated population, Unvaccinated with outcome, Unvaccinated population, Crude vax IR, Crude unvax IR, Crude IRR, Continuity correction]\n",
      "Index: []\n",
      "Unique values after cleaning: ['case' 'death']\n"
     ]
    }
   ],
   "source": [
    "# Check for invalid entries in the outcome column\n",
    "valid_values = ['case', 'death']\n",
    "invalid_entries = clean[~clean['outcome'].isin(valid_values)]\n",
    "\n",
    "# Display rows with invalid entries (if any)\n",
    "print(\"Invalid entries:\")\n",
    "print(invalid_entries)\n",
    "\n",
    "# Remove rows with invalid entries\n",
    "clean[clean['outcome'].isin(valid_values)].copy()\n",
    "\n",
    "# Verify the cleaning process\n",
    "print(\"Unique values after cleaning:\", clean['outcome'].unique())"
   ]
  },
  {
   "cell_type": "code",
   "execution_count": 58,
   "id": "1c2df6be-05f0-4a05-ae66-e2b188ed8d69",
   "metadata": {
    "collapsed": true,
    "jupyter": {
     "outputs_hidden": true
    }
   },
   "outputs": [
    {
     "name": "stdout",
     "output_type": "stream",
     "text": [
      "Invalid entries in 'month' column:\n",
      "     outcome     month  MMWR week     Age group Vaccine product  \\\n",
      "0       case  APR 2021     202114         12-17       all_types   \n",
      "1       case  APR 2021     202114         18-29       all_types   \n",
      "2       case  APR 2021     202114         30-49       all_types   \n",
      "3       case  APR 2021     202114         50-64       all_types   \n",
      "4       case  APR 2021     202114         65-79       all_types   \n",
      "...      ...       ...        ...           ...             ...   \n",
      "1586   death  AUG 2022     202235           80+       all_types   \n",
      "1587   death  AUG 2022     202235  all_ages_adj       all_types   \n",
      "1588   death  AUG 2022     202235  all_ages_adj         Janssen   \n",
      "1589   death  AUG 2022     202235  all_ages_adj         Moderna   \n",
      "1590   death  AUG 2022     202235  all_ages_adj          Pfizer   \n",
      "\n",
      "      Vaccinated with outcome  Fully vaccinated population  \\\n",
      "0                           8                 3.688700e+04   \n",
      "1                         674                 2.543093e+06   \n",
      "2                        1847                 7.428405e+06   \n",
      "3                        1558                 7.487444e+06   \n",
      "4                        1672                 1.439810e+07   \n",
      "...                       ...                          ...   \n",
      "1586                      328                 7.078966e+06   \n",
      "1587                      603                 1.428525e+08   \n",
      "1588                       33                 1.075017e+07   \n",
      "1589                      286                 4.941886e+07   \n",
      "1590                      280                 8.263597e+07   \n",
      "\n",
      "      Unvaccinated with outcome  Unvaccinated population  Crude vax IR  \\\n",
      "0                         30785              17556462.00     21.687858   \n",
      "1                         76736              31091322.00     26.503160   \n",
      "2                         98436              41074337.00     24.864019   \n",
      "3                         50324              22948569.00     20.808169   \n",
      "4                         14880               7675907.00     11.612644   \n",
      "...                         ...                      ...           ...   \n",
      "1586                        172                963095.40      4.633445   \n",
      "1587                        398              50965568.85      0.422114   \n",
      "1588                        398              50965568.85      0.306972   \n",
      "1589                        398              50965568.85      0.578726   \n",
      "1590                        398              50965568.85      0.338836   \n",
      "\n",
      "      Crude unvax IR  Crude IRR  Continuity correction  \n",
      "0         175.348541   8.085102                      0  \n",
      "1         246.808418   9.312415                      0  \n",
      "2         239.653290   9.638558                      0  \n",
      "3         219.290362  10.538667                      0  \n",
      "4         193.853313  16.693297                      0  \n",
      "...              ...        ...                    ...  \n",
      "1586       17.859082   3.854385                      1  \n",
      "1587        0.780919   1.850021                      1  \n",
      "1588        0.780919   2.543944                      1  \n",
      "1589        0.780919   1.349376                      1  \n",
      "1590        0.780919   2.304715                      1  \n",
      "\n",
      "[1591 rows x 13 columns]\n",
      "Number of invalid entries: 1591\n",
      "Unique values after cleaning: ['APR 2021' 'MAY 2021' 'JUN 2021' 'JUL 2021' 'AUG 2021' 'SEP 2021'\n",
      " 'OCT 2021' 'NOV 2021' 'DEC 2021' 'JAN 2022' 'FEB 2022' 'MAR 2022'\n",
      " 'APR 2022' 'MAY 2022' 'JUN 2022' 'JUL 2022' 'AUG 2022' 'SEP 2022']\n"
     ]
    }
   ],
   "source": [
    "# Check for invalid entries in the month column.\n",
    "# Define a valid pattern for month-year\n",
    "def is_valid_month(value):\n",
    "    return bool(re.match(r\"^(Jan|Feb|Mar|Apr|May|June|July|Aug|Sept|Oct|Nov|Dec)(2021|2022)$\", value))\n",
    "\n",
    "# Identify invalid entries\n",
    "invalid_months = clean[~clean['month'].apply(is_valid_month)]\n",
    "\n",
    "# Display invalid entries\n",
    "print(\"Invalid entries in 'month' column:\")\n",
    "print(invalid_months)\n",
    "\n",
    "# Count invalid entries\n",
    "print(f\"Number of invalid entries: {len(invalid_months)}\")\n",
    "\n",
    "# Remove rows with invalid entries\n",
    "clean[clean['month'].isin(valid_values)].copy()\n",
    "\n",
    "# Verify the cleaning process\n",
    "print(\"Unique values after cleaning:\", clean['month'].unique())"
   ]
  },
  {
   "cell_type": "code",
   "execution_count": 59,
   "id": "666dd2fb-0b23-4f5d-a7bc-b32fc3043123",
   "metadata": {},
   "outputs": [
    {
     "name": "stdout",
     "output_type": "stream",
     "text": [
      "['12-17' '18-29' '30-49' '50-64' '65-79' '80+' 'all_ages_adj' '5-11']\n"
     ]
    }
   ],
   "source": [
    "# checking for invalid age groups\n",
    "unique_age_groups = clean['Age group'].unique()\n",
    "print(unique_age_groups)"
   ]
  },
  {
   "cell_type": "code",
   "execution_count": 60,
   "id": "ea794d63-d575-4045-be24-ab0604075cbb",
   "metadata": {},
   "outputs": [
    {
     "name": "stdout",
     "output_type": "stream",
     "text": [
      "Unexpected Age group values:\n",
      "[]\n",
      "Number of unexpected age groups: 0\n"
     ]
    }
   ],
   "source": [
    "# valid age group intervals \n",
    "expected_age_groups = unique_age_groups = [\n",
    "    \"12-17\", \"18-29\", \"30-49\", \"50-64\", \"65-79\", \"80+\", \"5-11\", \"all_ages_adj\"\n",
    "]\n",
    "\n",
    "# Check if all values in the 'Age group' column are valid\n",
    "unexpected_age_groups = clean[~clean['Age group'].isin(expected_age_groups)]\n",
    "\n",
    "print(\"Unexpected Age group values:\")\n",
    "print(unexpected_age_groups['Age group'].unique())\n",
    "\n",
    "# Number of unexpected age groups\n",
    "print(f\"Number of unexpected age groups: {len(unexpected_age_groups)}\")"
   ]
  },
  {
   "cell_type": "code",
   "execution_count": null,
   "id": "91553668-ea8b-49be-81c3-88fe3b141c84",
   "metadata": {},
   "outputs": [],
   "source": []
  },
  {
   "cell_type": "markdown",
   "id": "e9d0684d-c162-4d75-ae2a-58df92afe2b4",
   "metadata": {},
   "source": [
    "DUPLICATES"
   ]
  },
  {
   "cell_type": "code",
   "execution_count": 61,
   "id": "33579ef2-dde1-4ce6-95ce-c6ae23bc118f",
   "metadata": {
    "collapsed": true,
    "jupyter": {
     "outputs_hidden": true
    }
   },
   "outputs": [
    {
     "data": {
      "text/plain": [
       "0       False\n",
       "1       False\n",
       "2       False\n",
       "3       False\n",
       "4       False\n",
       "        ...  \n",
       "1586    False\n",
       "1587    False\n",
       "1588    False\n",
       "1589    False\n",
       "1590    False\n",
       "Length: 1591, dtype: bool"
      ]
     },
     "execution_count": 61,
     "metadata": {},
     "output_type": "execute_result"
    }
   ],
   "source": [
    "clean.duplicated()"
   ]
  },
  {
   "cell_type": "code",
   "execution_count": 62,
   "id": "c3235a1a-4d02-4004-9c56-e7e47a138c99",
   "metadata": {},
   "outputs": [
    {
     "data": {
      "text/plain": [
       "np.int64(0)"
      ]
     },
     "execution_count": 62,
     "metadata": {},
     "output_type": "execute_result"
    }
   ],
   "source": [
    "clean.duplicated().sum()"
   ]
  },
  {
   "cell_type": "code",
   "execution_count": 63,
   "id": "05e3dada-37fe-45c1-ad45-2528cbd6bae7",
   "metadata": {},
   "outputs": [
    {
     "data": {
      "text/plain": [
       "0"
      ]
     },
     "execution_count": 63,
     "metadata": {},
     "output_type": "execute_result"
    }
   ],
   "source": [
    "duplicate_count = int(clean.duplicated().sum())\n",
    "duplicate_count"
   ]
  },
  {
   "cell_type": "markdown",
   "id": "38e3470f-618b-4f10-ac6a-84c681ed0f27",
   "metadata": {},
   "source": [
    "DATETIME"
   ]
  },
  {
   "cell_type": "code",
   "execution_count": 64,
   "id": "6901507e-319c-43d9-acf1-5fcf2356fc20",
   "metadata": {
    "collapsed": true,
    "jupyter": {
     "outputs_hidden": true
    }
   },
   "outputs": [
    {
     "name": "stdout",
     "output_type": "stream",
     "text": [
      "<class 'pandas.core.frame.DataFrame'>\n",
      "RangeIndex: 1591 entries, 0 to 1590\n",
      "Data columns (total 13 columns):\n",
      " #   Column                       Non-Null Count  Dtype  \n",
      "---  ------                       --------------  -----  \n",
      " 0   outcome                      1591 non-null   object \n",
      " 1   month                        1591 non-null   object \n",
      " 2   MMWR week                    1591 non-null   int64  \n",
      " 3   Age group                    1591 non-null   object \n",
      " 4   Vaccine product              1591 non-null   object \n",
      " 5   Vaccinated with outcome      1591 non-null   int64  \n",
      " 6   Fully vaccinated population  1591 non-null   float64\n",
      " 7   Unvaccinated with outcome    1591 non-null   int64  \n",
      " 8   Unvaccinated population      1591 non-null   float64\n",
      " 9   Crude vax IR                 1591 non-null   float64\n",
      " 10  Crude unvax IR               1591 non-null   float64\n",
      " 11  Crude IRR                    1477 non-null   float64\n",
      " 12  Continuity correction        1591 non-null   int64  \n",
      "dtypes: float64(5), int64(4), object(4)\n",
      "memory usage: 161.7+ KB\n"
     ]
    }
   ],
   "source": [
    "clean.info()"
   ]
  },
  {
   "cell_type": "code",
   "execution_count": 7,
   "id": "aad4cac4-4cd5-494d-bf00-eaa04df9c984",
   "metadata": {},
   "outputs": [],
   "source": [
    "clean[\"month\"] = pd.to_datetime(clean[\"month\"], format='%m-%Y')"
   ]
  },
  {
   "cell_type": "code",
   "execution_count": 8,
   "id": "cbb39ba3-b0bc-43d2-b423-862f46cdffe8",
   "metadata": {},
   "outputs": [
    {
     "name": "stdout",
     "output_type": "stream",
     "text": [
      "<class 'pandas.core.frame.DataFrame'>\n",
      "RangeIndex: 1591 entries, 0 to 1590\n",
      "Data columns (total 13 columns):\n",
      " #   Column                       Non-Null Count  Dtype         \n",
      "---  ------                       --------------  -----         \n",
      " 0   outcome                      1591 non-null   object        \n",
      " 1   month                        1591 non-null   datetime64[ns]\n",
      " 2   MMWR week                    1591 non-null   int64         \n",
      " 3   Age group                    1591 non-null   object        \n",
      " 4   Vaccine product              1591 non-null   object        \n",
      " 5   Vaccinated with outcome      1591 non-null   int64         \n",
      " 6   Fully vaccinated population  1591 non-null   float64       \n",
      " 7   Unvaccinated with outcome    1591 non-null   int64         \n",
      " 8   Unvaccinated population      1591 non-null   float64       \n",
      " 9   Crude vax IR                 1591 non-null   float64       \n",
      " 10  Crude unvax IR               1591 non-null   float64       \n",
      " 11  Crude IRR                    1477 non-null   float64       \n",
      " 12  Continuity correction        1591 non-null   int64         \n",
      "dtypes: datetime64[ns](1), float64(5), int64(4), object(3)\n",
      "memory usage: 161.7+ KB\n"
     ]
    }
   ],
   "source": [
    "clean.info()"
   ]
  },
  {
   "cell_type": "code",
   "execution_count": null,
   "id": "2ab122a3-27f3-4592-b246-db1eec221bf0",
   "metadata": {},
   "outputs": [],
   "source": []
  },
  {
   "cell_type": "code",
   "execution_count": null,
   "id": "99dc5c08-c93c-4eb5-a613-7e83d7f67117",
   "metadata": {},
   "outputs": [],
   "source": []
  },
  {
   "cell_type": "markdown",
   "id": "2554f50d-2937-4289-8315-e0b6fc148613",
   "metadata": {},
   "source": [
    "**CLEANING County_Level_of_community_Transmission.csv** (second dataset)"
   ]
  },
  {
   "cell_type": "code",
   "execution_count": 25,
   "id": "2bcd30fa-a840-43a8-a9f8-2ef14ddd6d7a",
   "metadata": {},
   "outputs": [],
   "source": [
    "raw = pd.read_csv(\"Data/raw/County_Level_of_community_Transmission.csv\")"
   ]
  },
  {
   "cell_type": "code",
   "execution_count": 26,
   "id": "3d4057dd-c82b-4def-8d75-4b2597ef373c",
   "metadata": {
    "collapsed": true,
    "jupyter": {
     "outputs_hidden": true
    }
   },
   "outputs": [
    {
     "name": "stdout",
     "output_type": "stream",
     "text": [
      "           state_name        county_name  fips_code        date  \\\n",
      "0               Texas     Jackson County      48239  01/27/2020   \n",
      "1            Nebraska     Buffalo County      31019  01/27/2020   \n",
      "2            Illinois       Coles County      17029  01/27/2020   \n",
      "3                Iowa         Ida County      19093  01/27/2020   \n",
      "4           Tennessee        Knox County      47093  02/05/2020   \n",
      "...               ...                ...        ...         ...   \n",
      "3225217     Louisiana  Assumption Parish      22007  10/18/2022   \n",
      "3225218  South Dakota        Hyde County      46069  10/18/2022   \n",
      "3225219         Texas      Loving County      48301  10/18/2022   \n",
      "3225220      Virginia     Lynchburg City      51680  10/18/2022   \n",
      "3225221       Wyoming    Converse County      56009  10/18/2022   \n",
      "\n",
      "        cases_per_100K_7_day_count_change  \\\n",
      "0                                   0.000   \n",
      "1                                   0.000   \n",
      "2                                   0.000   \n",
      "3                                   0.000   \n",
      "4                                   0.000   \n",
      "...                                   ...   \n",
      "3225217                        suppressed   \n",
      "3225218                             0.000   \n",
      "3225219                        suppressed   \n",
      "3225220                            26.770   \n",
      "3225221                        suppressed   \n",
      "\n",
      "         percent_test_results_reported_positive_last_7_days  \\\n",
      "0                                                      NaN    \n",
      "1                                                      NaN    \n",
      "2                                                      NaN    \n",
      "3                                                      NaN    \n",
      "4                                                      NaN    \n",
      "...                                                    ...    \n",
      "3225217                                               0.00    \n",
      "3225218                                                NaN    \n",
      "3225219                                              14.29    \n",
      "3225220                                               8.01    \n",
      "3225221                                               5.19    \n",
      "\n",
      "        community_transmission_level  \n",
      "0                                NaN  \n",
      "1                                NaN  \n",
      "2                                NaN  \n",
      "3                                NaN  \n",
      "4                                low  \n",
      "...                              ...  \n",
      "3225217                          low  \n",
      "3225218                          low  \n",
      "3225219                         high  \n",
      "3225220                  substantial  \n",
      "3225221                     moderate  \n",
      "\n",
      "[3225222 rows x 7 columns]\n"
     ]
    }
   ],
   "source": [
    "print(raw)"
   ]
  },
  {
   "cell_type": "code",
   "execution_count": 27,
   "id": "56e262d8-c406-4387-8058-ac1685545905",
   "metadata": {
    "collapsed": true,
    "jupyter": {
     "outputs_hidden": true
    },
    "scrolled": true
   },
   "outputs": [
    {
     "name": "stdout",
     "output_type": "stream",
     "text": [
      "<class 'pandas.core.frame.DataFrame'>\n",
      "RangeIndex: 3225222 entries, 0 to 3225221\n",
      "Data columns (total 7 columns):\n",
      " #   Column                                              Dtype  \n",
      "---  ------                                              -----  \n",
      " 0   state_name                                          object \n",
      " 1   county_name                                         object \n",
      " 2   fips_code                                           int64  \n",
      " 3   date                                                object \n",
      " 4   cases_per_100K_7_day_count_change                   object \n",
      " 5   percent_test_results_reported_positive_last_7_days  float64\n",
      " 6   community_transmission_level                        object \n",
      "dtypes: float64(1), int64(1), object(5)\n",
      "memory usage: 172.2+ MB\n"
     ]
    }
   ],
   "source": [
    "raw.info()"
   ]
  },
  {
   "cell_type": "code",
   "execution_count": 73,
   "id": "30cbfd7c-1d4f-465c-847b-82ad9012073c",
   "metadata": {
    "collapsed": true,
    "jupyter": {
     "outputs_hidden": true
    }
   },
   "outputs": [
    {
     "data": {
      "text/html": [
       "<div>\n",
       "<style scoped>\n",
       "    .dataframe tbody tr th:only-of-type {\n",
       "        vertical-align: middle;\n",
       "    }\n",
       "\n",
       "    .dataframe tbody tr th {\n",
       "        vertical-align: top;\n",
       "    }\n",
       "\n",
       "    .dataframe thead th {\n",
       "        text-align: right;\n",
       "    }\n",
       "</style>\n",
       "<table border=\"1\" class=\"dataframe\">\n",
       "  <thead>\n",
       "    <tr style=\"text-align: right;\">\n",
       "      <th></th>\n",
       "      <th>percent_test_results_reported_positive_last_7_days</th>\n",
       "    </tr>\n",
       "  </thead>\n",
       "  <tbody>\n",
       "    <tr>\n",
       "      <th>count</th>\n",
       "      <td>2.823884e+06</td>\n",
       "    </tr>\n",
       "    <tr>\n",
       "      <th>mean</th>\n",
       "      <td>1.154418e+01</td>\n",
       "    </tr>\n",
       "    <tr>\n",
       "      <th>std</th>\n",
       "      <td>1.076036e+01</td>\n",
       "    </tr>\n",
       "    <tr>\n",
       "      <th>min</th>\n",
       "      <td>0.000000e+00</td>\n",
       "    </tr>\n",
       "    <tr>\n",
       "      <th>25%</th>\n",
       "      <td>3.790000e+00</td>\n",
       "    </tr>\n",
       "    <tr>\n",
       "      <th>50%</th>\n",
       "      <td>8.640000e+00</td>\n",
       "    </tr>\n",
       "    <tr>\n",
       "      <th>75%</th>\n",
       "      <td>1.618000e+01</td>\n",
       "    </tr>\n",
       "    <tr>\n",
       "      <th>max</th>\n",
       "      <td>1.000000e+02</td>\n",
       "    </tr>\n",
       "  </tbody>\n",
       "</table>\n",
       "</div>"
      ],
      "text/plain": [
       "       percent_test_results_reported_positive_last_7_days\n",
       "count                                       2.823884e+06 \n",
       "mean                                        1.154418e+01 \n",
       "std                                         1.076036e+01 \n",
       "min                                         0.000000e+00 \n",
       "25%                                         3.790000e+00 \n",
       "50%                                         8.640000e+00 \n",
       "75%                                         1.618000e+01 \n",
       "max                                         1.000000e+02 "
      ]
     },
     "execution_count": 73,
     "metadata": {},
     "output_type": "execute_result"
    }
   ],
   "source": [
    "raw.describe()"
   ]
  },
  {
   "cell_type": "code",
   "execution_count": 28,
   "id": "17e219c7-4970-43b2-ab30-fff466f19a49",
   "metadata": {},
   "outputs": [],
   "source": [
    "# raw.describe() does not calculate metrics in column cases_per_100K_7_day_count_change \n",
    "# because there are numerical and non-numerical entries in this column.\n",
    "# so, convert non-numeric to numeric.\n",
    "\n",
    "# Create a copy of the raw\n",
    "clean = raw.copy()  \n",
    "clean['cases_per_100K_7_day_count_change'] = pd.to_numeric(clean['cases_per_100K_7_day_count_change'], errors='coerce')"
   ]
  },
  {
   "cell_type": "code",
   "execution_count": 29,
   "id": "86a89c17-be45-4f0f-8cc2-b47f8f9d5bc6",
   "metadata": {},
   "outputs": [
    {
     "data": {
      "text/html": [
       "<div>\n",
       "<style scoped>\n",
       "    .dataframe tbody tr th:only-of-type {\n",
       "        vertical-align: middle;\n",
       "    }\n",
       "\n",
       "    .dataframe tbody tr th {\n",
       "        vertical-align: top;\n",
       "    }\n",
       "\n",
       "    .dataframe thead th {\n",
       "        text-align: right;\n",
       "    }\n",
       "</style>\n",
       "<table border=\"1\" class=\"dataframe\">\n",
       "  <thead>\n",
       "    <tr style=\"text-align: right;\">\n",
       "      <th></th>\n",
       "      <th>cases_per_100K_7_day_count_change</th>\n",
       "      <th>percent_test_results_reported_positive_last_7_days</th>\n",
       "    </tr>\n",
       "  </thead>\n",
       "  <tbody>\n",
       "    <tr>\n",
       "      <th>count</th>\n",
       "      <td>2.468979e+06</td>\n",
       "      <td>2.823884e+06</td>\n",
       "    </tr>\n",
       "    <tr>\n",
       "      <th>mean</th>\n",
       "      <td>1.898672e+02</td>\n",
       "      <td>1.154418e+01</td>\n",
       "    </tr>\n",
       "    <tr>\n",
       "      <th>std</th>\n",
       "      <td>2.016008e+02</td>\n",
       "      <td>1.076036e+01</td>\n",
       "    </tr>\n",
       "    <tr>\n",
       "      <th>min</th>\n",
       "      <td>-9.018800e+02</td>\n",
       "      <td>0.000000e+00</td>\n",
       "    </tr>\n",
       "    <tr>\n",
       "      <th>25%</th>\n",
       "      <td>3.879500e+01</td>\n",
       "      <td>3.790000e+00</td>\n",
       "    </tr>\n",
       "    <tr>\n",
       "      <th>50%</th>\n",
       "      <td>1.277070e+02</td>\n",
       "      <td>8.640000e+00</td>\n",
       "    </tr>\n",
       "    <tr>\n",
       "      <th>75%</th>\n",
       "      <td>2.730585e+02</td>\n",
       "      <td>1.618000e+01</td>\n",
       "    </tr>\n",
       "    <tr>\n",
       "      <th>max</th>\n",
       "      <td>9.999970e+02</td>\n",
       "      <td>1.000000e+02</td>\n",
       "    </tr>\n",
       "  </tbody>\n",
       "</table>\n",
       "</div>"
      ],
      "text/plain": [
       "       cases_per_100K_7_day_count_change  \\\n",
       "count                       2.468979e+06   \n",
       "mean                        1.898672e+02   \n",
       "std                         2.016008e+02   \n",
       "min                        -9.018800e+02   \n",
       "25%                         3.879500e+01   \n",
       "50%                         1.277070e+02   \n",
       "75%                         2.730585e+02   \n",
       "max                         9.999970e+02   \n",
       "\n",
       "       percent_test_results_reported_positive_last_7_days  \n",
       "count                                       2.823884e+06   \n",
       "mean                                        1.154418e+01   \n",
       "std                                         1.076036e+01   \n",
       "min                                         0.000000e+00   \n",
       "25%                                         3.790000e+00   \n",
       "50%                                         8.640000e+00   \n",
       "75%                                         1.618000e+01   \n",
       "max                                         1.000000e+02   "
      ]
     },
     "execution_count": 29,
     "metadata": {},
     "output_type": "execute_result"
    }
   ],
   "source": [
    "clean[['cases_per_100K_7_day_count_change', 'percent_test_results_reported_positive_last_7_days']].describe()"
   ]
  },
  {
   "cell_type": "markdown",
   "id": "5cea5931-7bcd-4276-8d79-0fb7c9f53eba",
   "metadata": {
    "jupyter": {
     "source_hidden": true
    }
   },
   "source": [
    "Interpretation\n",
    "\n",
    "Cases_per_100K_7_day_count_change\n",
    "\n",
    "count: 2,468,979 valid non-null values. \n",
    "mean: The average 7-day case count change per 100,000 people is 189.87. \n",
    "std: The standard deviation is 201.60, indicating significant variability in the case count changes. \n",
    "min: The lowest change is -901.88 cases, which could indicate a large decrease in cases during a 7-day period. \n",
    "Percentiles: 25%: 38.80 (25% of the data is below this value). 50% (median): 127.71 (half the data is below this value). \n",
    "             75%: 273.06 (25% of the data is above this value). max: 999.997 cases per 100,000, likely indicating a very high increase.\n",
    "\n",
    "Percent_test_results_reported_positive_last_7_days\n",
    "\n",
    "count: 2,823,884 valid non-NaN values. \n",
    "mean: The average positivity rate over the last 7 days is 11.54%. \n",
    "std: The standard deviation is 10.76%, indicating some variation in positivity rates. \n",
    "min: The lowest positivity rate is 0%, indicating areas with no positive cases in the last 7 days. \n",
    "Percentiles: 25%: 3.79%. 50% (median): 8.64%. 75%: 16.18%. max: 100%, suggesting some areas are reporting exclusively positive results.\n",
    "\n",
    "A positivity rate of 100% may indicate areas where testing is limited or only symptomatic individuals are being tested. \n",
    "The wide range from 0% to 100% suggests a significant disparity in how COVID-19 impacts different regions."
   ]
  },
  {
   "cell_type": "code",
   "execution_count": 30,
   "id": "6e2ee5df-4c1e-4509-b0bc-fd91da011d13",
   "metadata": {},
   "outputs": [],
   "source": [
    "clean.to_csv(\"clean_data_2.csv\", index=False)"
   ]
  },
  {
   "cell_type": "code",
   "execution_count": 3,
   "id": "20424e5e-c962-470f-8fa3-e342103b9b7b",
   "metadata": {},
   "outputs": [],
   "source": [
    "clean = pd.read_csv(\"Data/clean/clean_data_2.csv\")"
   ]
  },
  {
   "cell_type": "code",
   "execution_count": null,
   "id": "34012847-05b5-46e1-a3b1-7d490dffdee2",
   "metadata": {},
   "outputs": [],
   "source": [
    "source = \"clean_data_2.csv\"\n",
    "destination = \"Data/clean/\"\n",
    "shutil.move(source, destination)"
   ]
  },
  {
   "cell_type": "code",
   "execution_count": 32,
   "id": "d8233cf6-9f34-4aed-b006-858a00d40559",
   "metadata": {},
   "outputs": [
    {
     "name": "stdout",
     "output_type": "stream",
     "text": [
      "<class 'pandas.core.frame.DataFrame'>\n",
      "RangeIndex: 3225222 entries, 0 to 3225221\n",
      "Data columns (total 7 columns):\n",
      " #   Column                                              Dtype  \n",
      "---  ------                                              -----  \n",
      " 0   state_name                                          object \n",
      " 1   county_name                                         object \n",
      " 2   fips_code                                           int64  \n",
      " 3   date                                                object \n",
      " 4   cases_per_100K_7_day_count_change                   float64\n",
      " 5   percent_test_results_reported_positive_last_7_days  float64\n",
      " 6   community_transmission_level                        object \n",
      "dtypes: float64(2), int64(1), object(4)\n",
      "memory usage: 172.2+ MB\n"
     ]
    }
   ],
   "source": [
    "clean.info()"
   ]
  },
  {
   "cell_type": "code",
   "execution_count": null,
   "id": "b3282400-0232-46d7-95f4-b4fc26c852d9",
   "metadata": {},
   "outputs": [],
   "source": []
  },
  {
   "cell_type": "markdown",
   "id": "224d2b74-c744-4e3b-9153-046a753b2413",
   "metadata": {},
   "source": [
    "MISSING AND INVALIDE VALUES"
   ]
  },
  {
   "cell_type": "code",
   "execution_count": 37,
   "id": "6e84270d-82f1-4ca7-9c51-9e497fa655ca",
   "metadata": {},
   "outputs": [
    {
     "data": {
      "text/plain": [
       "state_name                                              2662\n",
       "county_name                                             2662\n",
       "fips_code                                                  0\n",
       "date                                                       0\n",
       "cases_per_100K_7_day_count_change                          0\n",
       "percent_test_results_reported_positive_last_7_days    401338\n",
       "community_transmission_level                           22661\n",
       "dtype: int64"
      ]
     },
     "execution_count": 37,
     "metadata": {},
     "output_type": "execute_result"
    }
   ],
   "source": [
    "clean.isnull().sum()"
   ]
  },
  {
   "cell_type": "code",
   "execution_count": null,
   "id": "22110ecf-4d92-4ae7-9121-f2641a337388",
   "metadata": {},
   "outputs": [],
   "source": [
    "# % of missing values in each column = number of missing values/total values * 100\n",
    "clean.isnull().sum()/len(clean) * 100"
   ]
  },
  {
   "cell_type": "code",
   "execution_count": 38,
   "id": "4d00c70e-9125-4482-8fc0-47af6e7a0341",
   "metadata": {},
   "outputs": [
    {
     "name": "stdout",
     "output_type": "stream",
     "text": [
      "0\n",
      "Empty DataFrame\n",
      "Columns: [state_name, county_name, fips_code, date, cases_per_100K_7_day_count_change, percent_test_results_reported_positive_last_7_days, community_transmission_level]\n",
      "Index: []\n"
     ]
    }
   ],
   "source": [
    "# 'cases_per_100K_7_day_count_change' column has numerical, non-numerical and missing values.\n",
    "# convert non-numerical to numerical and fillin missing values.\n",
    "\n",
    "# standardize missing values and fillin\n",
    "clean['cases_per_100K_7_day_count_change'] = clean['cases_per_100K_7_day_count_change'].replace(['', ' ', 'NA', 'N/A', 'null'], np.nan)\n",
    "print(clean['cases_per_100K_7_day_count_change'].isnull().sum())\n",
    "\n",
    "# make column totally numerical\n",
    "mean_value = clean['cases_per_100K_7_day_count_change'].astype(float).mean()\n",
    "clean['cases_per_100K_7_day_count_change'] = clean['cases_per_100K_7_day_count_change'].fillna(mean_value)\n",
    "clean.to_csv('clean_data_2_updated.csv', index=False)\n",
    "\n",
    "\n",
    "print(clean[clean['cases_per_100K_7_day_count_change'].isnull()]) \n"
   ]
  },
  {
   "cell_type": "code",
   "execution_count": 43,
   "id": "df75c3b9-5da4-4f69-827e-e85269455ae3",
   "metadata": {},
   "outputs": [
    {
     "name": "stdout",
     "output_type": "stream",
     "text": [
      "401338\n",
      "Empty DataFrame\n",
      "Columns: [state_name, county_name, fips_code, date, cases_per_100K_7_day_count_change, percent_test_results_reported_positive_last_7_days, community_transmission_level]\n",
      "Index: []\n"
     ]
    }
   ],
   "source": [
    "# standardize missing values and fillin column 'percent_test_results_reported_positive_last_7_days'\n",
    "clean['percent_test_results_reported_positive_last_7_days'] = clean[\n",
    "'percent_test_results_reported_positive_last_7_days'].replace(['', ' ', 'NA', 'N/A', 'null'], np.nan)\n",
    "print(clean['percent_test_results_reported_positive_last_7_days'].isnull().sum())\n",
    "\n",
    "# make column totally numerical and fillin with median value.\n",
    "median_value = clean['percent_test_results_reported_positive_last_7_days'].astype(float).mean()\n",
    "clean['percent_test_results_reported_positive_last_7_days'] = clean['percent_test_results_reported_positive_last_7_days'].fillna(mean_value)\n",
    "clean.to_csv('clean_data_2_updated.csv', index=False)\n",
    "\n",
    "\n",
    "print(clean[clean['percent_test_results_reported_positive_last_7_days'].isnull()])\n"
   ]
  },
  {
   "cell_type": "code",
   "execution_count": 44,
   "id": "5c4c8bb9-2fc4-457c-807e-0b4926d22025",
   "metadata": {},
   "outputs": [
    {
     "data": {
      "text/plain": [
       "'Data/clean/clean_data_2_updated.csv'"
      ]
     },
     "execution_count": 44,
     "metadata": {},
     "output_type": "execute_result"
    }
   ],
   "source": []
  },
  {
   "cell_type": "code",
   "execution_count": 45,
   "id": "ea77275f-c274-47eb-a7ab-ffafa4be03a9",
   "metadata": {},
   "outputs": [
    {
     "name": "stdout",
     "output_type": "stream",
     "text": [
      "22661\n",
      "Empty DataFrame\n",
      "Columns: [state_name, county_name, fips_code, date, cases_per_100K_7_day_count_change, percent_test_results_reported_positive_last_7_days, community_transmission_level]\n",
      "Index: []\n"
     ]
    }
   ],
   "source": [
    "# Standardize missing values\n",
    "clean['community_transmission_level'] = clean['community_transmission_level'].replace(['', ' ', 'NA', 'N/A', 'null'], np.nan)\n",
    "\n",
    "# Check for missing values\n",
    "print(clean['community_transmission_level'].isnull().sum())\n",
    "\n",
    "# Fill missing values with the mode (most frequent value)\n",
    "mode_value = clean['community_transmission_level'].mode().iloc[0]  # iloc in case there are more than one mode\n",
    "clean['community_transmission_level'] = clean['community_transmission_level'].fillna(mode_value)\n",
    "\n",
    "# Verify the column has no missing values\n",
    "print(clean[clean['community_transmission_level'].isnull()])  # Should return an empty DataFrame\n",
    "\n",
    "# Save the cleaned DataFrame to a CSV file\n",
    "clean.to_csv('clean_data_2_updated.csv', index=False)"
   ]
  },
  {
   "cell_type": "code",
   "execution_count": 47,
   "id": "796f317c-e0ac-4207-828c-2b55cadeec7d",
   "metadata": {},
   "outputs": [
    {
     "name": "stdout",
     "output_type": "stream",
     "text": [
      "2662\n",
      "Empty DataFrame\n",
      "Columns: [state_name, county_name, fips_code, date, cases_per_100K_7_day_count_change, percent_test_results_reported_positive_last_7_days, community_transmission_level]\n",
      "Index: []\n"
     ]
    }
   ],
   "source": [
    "# Standardize missing values\n",
    "clean['state_name'] = clean['state_name'].replace(['', ' ', 'NA', 'N/A', 'null'], np.nan)\n",
    "\n",
    "# Check for missing values\n",
    "print(clean['state_name'].isnull().sum())\n",
    "\n",
    "# Fill missing values with the mode (most frequent value)\n",
    "mode_value = clean['state_name'].mode().iloc[0]  # iloc in case there are more than one mode\n",
    "clean['state_name'] = clean['state_name'].fillna(mode_value)\n",
    "\n",
    "# Verify the column has no missing values\n",
    "print(clean[clean['state_name'].isnull()])  # Should return an empty DataFrame\n",
    "\n",
    "# Save the cleaned DataFrame to a CSV file\n",
    "clean.to_csv('clean_data_2_updated.csv', index=False)"
   ]
  },
  {
   "cell_type": "code",
   "execution_count": 49,
   "id": "e22fd2bc-2f44-4030-b566-abdb685622e9",
   "metadata": {},
   "outputs": [
    {
     "data": {
      "text/plain": [
       "'Data/clean/clean_data_2_updated.csv'"
      ]
     },
     "execution_count": 49,
     "metadata": {},
     "output_type": "execute_result"
    }
   ],
   "source": []
  },
  {
   "cell_type": "code",
   "execution_count": 50,
   "id": "2c322c73-52b0-4d76-a421-0c455e675103",
   "metadata": {},
   "outputs": [
    {
     "name": "stdout",
     "output_type": "stream",
     "text": [
      "2662\n",
      "Empty DataFrame\n",
      "Columns: [state_name, county_name, fips_code, date, cases_per_100K_7_day_count_change, percent_test_results_reported_positive_last_7_days, community_transmission_level]\n",
      "Index: []\n"
     ]
    }
   ],
   "source": [
    "# Standardize missing values\n",
    "clean['county_name'] = clean['county_name'].replace(['', ' ', 'NA', 'N/A', 'null'], np.nan)\n",
    "\n",
    "# Check for missing values\n",
    "print(clean['county_name'].isnull().sum())\n",
    "\n",
    "# Fill missing values with the mode (most frequent value)\n",
    "mode_value = clean['county_name'].mode().iloc[0]  # iloc in case there are more than one mode\n",
    "clean['county_name'] = clean['county_name'].fillna(mode_value)\n",
    "\n",
    "# Verify the column has no missing values\n",
    "print(clean[clean['county_name'].isnull()])  # Should return an empty DataFrame\n",
    "\n",
    "# Save the cleaned DataFrame to a CSV file\n",
    "clean.to_csv('clean_data_2_updated.csv', index=False)"
   ]
  },
  {
   "cell_type": "code",
   "execution_count": 52,
   "id": "7e30d54e-f085-4818-9746-36aa34ceada2",
   "metadata": {},
   "outputs": [
    {
     "data": {
      "text/plain": [
       "'Data/clean/clean_data_2_updated.csv'"
      ]
     },
     "execution_count": 52,
     "metadata": {},
     "output_type": "execute_result"
    }
   ],
   "source": [
    "source = \"clean_data_2_updated.csv\"\n",
    "destination = \"Data/clean/\"\n",
    "shutil.move(source, destination)"
   ]
  },
  {
   "cell_type": "code",
   "execution_count": null,
   "id": "e494f636-e222-49fd-bd11-65db7e2797d9",
   "metadata": {},
   "outputs": [],
   "source": []
  },
  {
   "cell_type": "markdown",
   "id": "7df460f0-7301-45ee-8f7f-c941bb964d39",
   "metadata": {},
   "source": [
    "CONVERTING DATE"
   ]
  },
  {
   "cell_type": "code",
   "execution_count": 136,
   "id": "36279d0e-3787-499f-9020-d86075589504",
   "metadata": {},
   "outputs": [],
   "source": [
    "# convert date column into a datetime object.\n",
    "clean['date'] = pd.to_datetime(clean['date'], format='%m/%d/%Y', errors='coerce')"
   ]
  },
  {
   "cell_type": "code",
   "execution_count": null,
   "id": "44206c43-41bf-440a-964c-f31478a9407e",
   "metadata": {},
   "outputs": [],
   "source": []
  },
  {
   "cell_type": "markdown",
   "id": "e9e26550-7247-4fc2-a9a3-fe0f4d9f174f",
   "metadata": {},
   "source": []
  },
  {
   "cell_type": "code",
   "execution_count": 139,
   "id": "73742c34-d785-4b36-a5ca-6f928e9f8d72",
   "metadata": {},
   "outputs": [],
   "source": [
    "# Because the % of missing values is low in state_name column, \n",
    "# We'll fillin with a placeholder 'unknown'instead of mode.\n",
    "clean.fillna({\"state_name\": \"unknown\"}, inplace=True)"
   ]
  },
  {
   "cell_type": "code",
   "execution_count": 140,
   "id": "e98d90b3-a144-4745-9918-c93c6aa55841",
   "metadata": {},
   "outputs": [],
   "source": [
    "# Do the same for county_name column. \n",
    "clean.fillna({\"county_name\": \"unknown\"}, inplace=True)"
   ]
  },
  {
   "cell_type": "code",
   "execution_count": 5,
   "id": "b300bbc6-aabb-4921-a293-6105ef323e2c",
   "metadata": {},
   "outputs": [
    {
     "name": "stdout",
     "output_type": "stream",
     "text": [
      "high\n"
     ]
    }
   ],
   "source": [
    "# Filling column 'community_transmission_level' with a mode.\n",
    "# we use iloc[0] just in case there are more than one mode.\n",
    "mode_value = clean[\"community_transmission_level\"].mode().iloc[0]\n",
    "print(mode_value)\n",
    "clean.fillna({\"community_transmission_level\": \"mode_value\"}, inplace=True)"
   ]
  },
  {
   "cell_type": "code",
   "execution_count": null,
   "id": "8b4bc8aa-dd0e-44b7-a7fe-f09fc375b5ad",
   "metadata": {},
   "outputs": [],
   "source": []
  },
  {
   "cell_type": "markdown",
   "id": "1c74ddbb-6b12-4e74-9573-5e467e0cfa20",
   "metadata": {},
   "source": [
    "CHECKING DUPLICATES"
   ]
  },
  {
   "cell_type": "code",
   "execution_count": 144,
   "id": "6b163c4b-f94c-4d7b-91cf-9c34c6a21de5",
   "metadata": {},
   "outputs": [
    {
     "data": {
      "text/plain": [
       "0"
      ]
     },
     "execution_count": 144,
     "metadata": {},
     "output_type": "execute_result"
    }
   ],
   "source": [
    "clean.duplicated().sum()\n",
    "duplicat_count = int(clean.duplicated().sum())\n",
    "duplicat_count"
   ]
  },
  {
   "cell_type": "code",
   "execution_count": 116,
   "id": "3248b960-0fdb-4c23-980f-7086bda9101a",
   "metadata": {},
   "outputs": [
    {
     "name": "stdout",
     "output_type": "stream",
     "text": [
      "Empty DataFrame\n",
      "Columns: [state_name, county_name, fips_code, date, cases_per_100K_7_day_count_change, percent_test_results_reported_positive_last_7_days, community_transmission_level]\n",
      "Index: []\n"
     ]
    }
   ],
   "source": [
    "duplicated_rows = clean[clean.duplicated()]\n",
    "print(duplicated_rows)"
   ]
  }
 ],
 "metadata": {
  "kernelspec": {
   "display_name": "Python 3 (ipykernel)",
   "language": "python",
   "name": "python3"
  },
  "language_info": {
   "codemirror_mode": {
    "name": "ipython",
    "version": 3
   },
   "file_extension": ".py",
   "mimetype": "text/x-python",
   "name": "python",
   "nbconvert_exporter": "python",
   "pygments_lexer": "ipython3",
   "version": "3.12.4"
  }
 },
 "nbformat": 4,
 "nbformat_minor": 5
}
