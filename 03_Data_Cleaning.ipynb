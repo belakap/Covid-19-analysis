{
 "cells": [
  {
   "cell_type": "markdown",
   "id": "966aa93e-37a3-4378-a4d3-8119d1acffb8",
   "metadata": {},
   "source": [
    "**CLEANING Rates_of_Cases_or_Deaths.csv** (First dataset)"
   ]
  },
  {
   "cell_type": "code",
   "execution_count": 1,
   "id": "51f67279-d8ed-4b3c-a696-e3df10b96b72",
   "metadata": {},
   "outputs": [],
   "source": [
    "import pandas as pd\n",
    "import shutil\n",
    "import re\n",
    "import numpy as np"
   ]
  },
  {
   "cell_type": "code",
   "execution_count": null,
   "id": "6be1e64c-2c2e-4bbb-8b18-ab1628da8b1c",
   "metadata": {},
   "outputs": [],
   "source": []
  },
  {
   "cell_type": "code",
   "execution_count": 2,
   "id": "9de04203-b1fb-4268-96dc-e4cd85b389dd",
   "metadata": {
    "collapsed": true,
    "jupyter": {
     "outputs_hidden": true
    }
   },
   "outputs": [
    {
     "name": "stdout",
     "output_type": "stream",
     "text": [
      "     outcome     month  MMWR week     Age group Vaccine product  \\\n",
      "0       case  APR 2021     202114         12-17       all_types   \n",
      "1       case  APR 2021     202114         18-29       all_types   \n",
      "2       case  APR 2021     202114         30-49       all_types   \n",
      "3       case  APR 2021     202114         50-64       all_types   \n",
      "4       case  APR 2021     202114         65-79       all_types   \n",
      "...      ...       ...        ...           ...             ...   \n",
      "1586   death  AUG 2022     202235           80+       all_types   \n",
      "1587   death  AUG 2022     202235  all_ages_adj       all_types   \n",
      "1588   death  AUG 2022     202235  all_ages_adj         Janssen   \n",
      "1589   death  AUG 2022     202235  all_ages_adj         Moderna   \n",
      "1590   death  AUG 2022     202235  all_ages_adj          Pfizer   \n",
      "\n",
      "      Vaccinated with outcome  Fully vaccinated population  \\\n",
      "0                           8                 3.688700e+04   \n",
      "1                         674                 2.543093e+06   \n",
      "2                        1847                 7.428405e+06   \n",
      "3                        1558                 7.487444e+06   \n",
      "4                        1672                 1.439810e+07   \n",
      "...                       ...                          ...   \n",
      "1586                      328                 7.078966e+06   \n",
      "1587                      603                 1.428525e+08   \n",
      "1588                       33                 1.075017e+07   \n",
      "1589                      286                 4.941886e+07   \n",
      "1590                      280                 8.263597e+07   \n",
      "\n",
      "      Unvaccinated with outcome  Unvaccinated population  Crude vax IR  \\\n",
      "0                         30785              17556462.00     21.687858   \n",
      "1                         76736              31091322.00     26.503160   \n",
      "2                         98436              41074337.00     24.864019   \n",
      "3                         50324              22948569.00     20.808169   \n",
      "4                         14880               7675907.00     11.612644   \n",
      "...                         ...                      ...           ...   \n",
      "1586                        172                963095.40      4.633445   \n",
      "1587                        398              50965568.85      0.422114   \n",
      "1588                        398              50965568.85      0.306972   \n",
      "1589                        398              50965568.85      0.578726   \n",
      "1590                        398              50965568.85      0.338836   \n",
      "\n",
      "      Crude unvax IR  Crude IRR  Age adjusted vax IR  Age adjusted unvax IR  \\\n",
      "0         175.348541   8.085102                  NaN                    NaN   \n",
      "1         246.808418   9.312415                  NaN                    NaN   \n",
      "2         239.653290   9.638558                  NaN                    NaN   \n",
      "3         219.290362  10.538667                  NaN                    NaN   \n",
      "4         193.853313  16.693297                  NaN                    NaN   \n",
      "...              ...        ...                  ...                    ...   \n",
      "1586       17.859082   3.854385                  NaN                    NaN   \n",
      "1587        0.780919   1.850021             0.287258               1.605239   \n",
      "1588        0.780919   2.543944             0.317448               1.605239   \n",
      "1589        0.780919   1.349376             0.294841               1.605239   \n",
      "1590        0.780919   2.304715             0.277278               1.605239   \n",
      "\n",
      "      Age adjusted IRR  Continuity correction  \n",
      "0                  NaN                      0  \n",
      "1                  NaN                      0  \n",
      "2                  NaN                      0  \n",
      "3                  NaN                      0  \n",
      "4                  NaN                      0  \n",
      "...                ...                    ...  \n",
      "1586               NaN                      1  \n",
      "1587          5.588152                      1  \n",
      "1588          5.056694                      1  \n",
      "1589          5.444415                      1  \n",
      "1590          5.789287                      1  \n",
      "\n",
      "[1591 rows x 16 columns]\n"
     ]
    }
   ],
   "source": [
    "raw = pd.read_csv(\"Data/raw/Rates_of_Cases_or_Deaths.csv\")\n",
    "print(raw)"
   ]
  },
  {
   "cell_type": "code",
   "execution_count": null,
   "id": "3ab796dc-708c-4d17-aaff-caede9827ea7",
   "metadata": {},
   "outputs": [],
   "source": []
  },
  {
   "cell_type": "markdown",
   "id": "e44673be-8766-4832-9f52-798ade934ce5",
   "metadata": {},
   "source": [
    "***DROPPING UNCESSARY COLUMNS***"
   ]
  },
  {
   "cell_type": "markdown",
   "id": "de1b29e5-65aa-455b-af6e-16d5f24a617b",
   "metadata": {},
   "source": [
    "For this analysis, the columns needed in the first dataset (Rates_of_Cases_or_Deaths.csv) are outcome', 'month', 'Age group', 'Vaccinated with outcome', and Unvaccinated with outcome. The other columns are to be dropped."
   ]
  },
  {
   "cell_type": "code",
   "execution_count": 3,
   "id": "d6497da6-d261-4962-8bf8-ebe3187e2fe0",
   "metadata": {
    "collapsed": true,
    "jupyter": {
     "outputs_hidden": true
    }
   },
   "outputs": [
    {
     "data": {
      "text/plain": [
       "Index(['outcome', 'month', 'MMWR week', 'Age group', 'Vaccine product',\n",
       "       'Vaccinated with outcome', 'Fully vaccinated population',\n",
       "       'Unvaccinated with outcome', 'Unvaccinated population', 'Crude vax IR',\n",
       "       'Crude unvax IR', 'Crude IRR', 'Age adjusted vax IR',\n",
       "       'Age adjusted unvax IR', 'Age adjusted IRR', 'Continuity correction'],\n",
       "      dtype='object')"
      ]
     },
     "execution_count": 3,
     "metadata": {},
     "output_type": "execute_result"
    }
   ],
   "source": [
    "raw.columns"
   ]
  },
  {
   "cell_type": "code",
   "execution_count": null,
   "id": "cda84fa5-e27b-43eb-bac5-ac10d326d4b9",
   "metadata": {},
   "outputs": [],
   "source": []
  },
  {
   "cell_type": "code",
   "execution_count": 6,
   "id": "75a07aec-fc49-457c-a605-1417803c230e",
   "metadata": {
    "collapsed": true,
    "jupyter": {
     "outputs_hidden": true
    }
   },
   "outputs": [
    {
     "name": "stdout",
     "output_type": "stream",
     "text": [
      "     outcome     month     Age group  Vaccinated with outcome  \\\n",
      "0       case  APR 2021         12-17                        8   \n",
      "1       case  APR 2021         18-29                      674   \n",
      "2       case  APR 2021         30-49                     1847   \n",
      "3       case  APR 2021         50-64                     1558   \n",
      "4       case  APR 2021         65-79                     1672   \n",
      "...      ...       ...           ...                      ...   \n",
      "1586   death  AUG 2022           80+                      328   \n",
      "1587   death  AUG 2022  all_ages_adj                      603   \n",
      "1588   death  AUG 2022  all_ages_adj                       33   \n",
      "1589   death  AUG 2022  all_ages_adj                      286   \n",
      "1590   death  AUG 2022  all_ages_adj                      280   \n",
      "\n",
      "      Unvaccinated with outcome  \n",
      "0                         30785  \n",
      "1                         76736  \n",
      "2                         98436  \n",
      "3                         50324  \n",
      "4                         14880  \n",
      "...                         ...  \n",
      "1586                        172  \n",
      "1587                        398  \n",
      "1588                        398  \n",
      "1589                        398  \n",
      "1590                        398  \n",
      "\n",
      "[1591 rows x 5 columns]\n"
     ]
    }
   ],
   "source": [
    "clean = raw.drop([\"MMWR week\", \"Vaccine product\", \"Fully vaccinated population\", \"Unvaccinated population\", \"Crude vax IR\",\n",
    "       \"Crude unvax IR\", \"Crude IRR\",\"Age adjusted vax IR\", \"Age adjusted unvax IR\", \"Age adjusted IRR\",\"Continuity correction\"], axis=1)\n",
    "print(clean)"
   ]
  },
  {
   "cell_type": "code",
   "execution_count": null,
   "id": "ea8e1353-77fb-4d02-977c-1040ff18a155",
   "metadata": {},
   "outputs": [],
   "source": []
  },
  {
   "cell_type": "code",
   "execution_count": 7,
   "id": "c840a37c-c497-4b6e-b289-163fdb36df1c",
   "metadata": {},
   "outputs": [],
   "source": [
    "# Save clean to csv file\n",
    "clean.to_csv(\"clean_data_1.csv\", index=False)"
   ]
  },
  {
   "cell_type": "code",
   "execution_count": null,
   "id": "9a42d312-0f6c-4266-a856-dbc411623208",
   "metadata": {},
   "outputs": [],
   "source": []
  },
  {
   "cell_type": "code",
   "execution_count": 14,
   "id": "3d4d9262-3a97-4a5c-8948-7e7d7ea48278",
   "metadata": {},
   "outputs": [
    {
     "data": {
      "text/plain": [
       "'Data/clean/clean_data_small.csv'"
      ]
     },
     "execution_count": 14,
     "metadata": {},
     "output_type": "execute_result"
    }
   ],
   "source": [
    "# Load the clean csv file to Data/clean/ folder\n",
    "source = \"clean_data_1.csv\"\n",
    "destination = \"Data/clean/\"\n",
    "shutil.move(source, destination)"
   ]
  },
  {
   "cell_type": "code",
   "execution_count": null,
   "id": "a800261a-55b3-4629-965b-1a29a41fc46b",
   "metadata": {},
   "outputs": [],
   "source": []
  },
  {
   "cell_type": "markdown",
   "id": "a256665b-2472-4d5c-9d5d-5f3ef55522e2",
   "metadata": {},
   "source": [
    "***HANDLING MISSING AND INVALID DATA***"
   ]
  },
  {
   "cell_type": "code",
   "execution_count": 8,
   "id": "19881d4e-69d3-4aa6-a78e-8ce354772581",
   "metadata": {},
   "outputs": [],
   "source": [
    "# Read the csv file\n",
    "clean = pd.read_csv(\"Data/clean/clean_data_1.csv\")"
   ]
  },
  {
   "cell_type": "code",
   "execution_count": null,
   "id": "133434b9-d09b-45f7-b0e9-3d470c97c3b4",
   "metadata": {},
   "outputs": [],
   "source": []
  },
  {
   "cell_type": "code",
   "execution_count": 9,
   "id": "115889e3-dd00-477e-83ff-7a91f2645f8d",
   "metadata": {},
   "outputs": [
    {
     "data": {
      "text/plain": [
       "outcome                      0\n",
       "month                        0\n",
       "Age group                    0\n",
       "Vaccinated with outcome      0\n",
       "Unvaccinated with outcome    0\n",
       "dtype: int64"
      ]
     },
     "execution_count": 9,
     "metadata": {},
     "output_type": "execute_result"
    }
   ],
   "source": [
    "# Check the null values\n",
    "clean.isnull().sum()"
   ]
  },
  {
   "cell_type": "markdown",
   "id": "526a4ef0-6461-4d44-8e9b-487d35c5ede2",
   "metadata": {},
   "source": [
    "*There is 0 null values in each column.*"
   ]
  },
  {
   "cell_type": "code",
   "execution_count": null,
   "id": "07cde390-da90-4b46-b3fc-d13b53cbf68e",
   "metadata": {},
   "outputs": [],
   "source": []
  },
  {
   "cell_type": "code",
   "execution_count": 10,
   "id": "2e6e8164-1086-4062-ae33-f734f37cfd5f",
   "metadata": {},
   "outputs": [
    {
     "name": "stdout",
     "output_type": "stream",
     "text": [
      "Number of invalid entries: 0\n",
      "Unique values after cleaning: ['case' 'death']\n"
     ]
    }
   ],
   "source": [
    "# Define a function to check for invalid entries in the \"outcome\" column\n",
    "\n",
    "def is_valid_outcome(value):\n",
    "    if pd.isna(value): \n",
    "        return False\n",
    "    return bool(re.match(r\"^(case|death)$\", str(value).strip()))  # Normalize value and check match\n",
    "\n",
    "# Filter invalid entries\n",
    "invalid_outcome = clean[~clean['outcome'].apply(is_valid_outcome)]\n",
    "\n",
    "# Count invalid entries\n",
    "print(f\"Number of invalid entries: {len(invalid_outcome)}\")\n",
    "\n",
    "# Verify the cleaning process\n",
    "print(\"Unique values after cleaning:\", clean['outcome'].unique())"
   ]
  },
  {
   "cell_type": "code",
   "execution_count": null,
   "id": "4494c493-4daa-48bf-bc18-c460baff24b1",
   "metadata": {},
   "outputs": [],
   "source": []
  },
  {
   "cell_type": "code",
   "execution_count": 12,
   "id": "97bda435-ace6-4711-ae1e-47170b176c1e",
   "metadata": {
    "collapsed": true,
    "jupyter": {
     "outputs_hidden": true
    },
    "scrolled": true
   },
   "outputs": [
    {
     "name": "stdout",
     "output_type": "stream",
     "text": [
      "Invalid entries in 'month' column:\n",
      "     outcome     month     Age group  Vaccinated with outcome  \\\n",
      "0       case  APR 2021         12-17                        8   \n",
      "1       case  APR 2021         18-29                      674   \n",
      "2       case  APR 2021         30-49                     1847   \n",
      "3       case  APR 2021         50-64                     1558   \n",
      "4       case  APR 2021         65-79                     1672   \n",
      "...      ...       ...           ...                      ...   \n",
      "1586   death  AUG 2022           80+                      328   \n",
      "1587   death  AUG 2022  all_ages_adj                      603   \n",
      "1588   death  AUG 2022  all_ages_adj                       33   \n",
      "1589   death  AUG 2022  all_ages_adj                      286   \n",
      "1590   death  AUG 2022  all_ages_adj                      280   \n",
      "\n",
      "      Unvaccinated with outcome  \n",
      "0                         30785  \n",
      "1                         76736  \n",
      "2                         98436  \n",
      "3                         50324  \n",
      "4                         14880  \n",
      "...                         ...  \n",
      "1586                        172  \n",
      "1587                        398  \n",
      "1588                        398  \n",
      "1589                        398  \n",
      "1590                        398  \n",
      "\n",
      "[1591 rows x 5 columns]\n",
      "Number of invalid entries: 1591\n",
      "Unique values after cleaning: ['APR 2021' 'MAY 2021' 'JUN 2021' 'JUL 2021' 'AUG 2021' 'SEP 2021'\n",
      " 'OCT 2021' 'NOV 2021' 'DEC 2021' 'JAN 2022' 'FEB 2022' 'MAR 2022'\n",
      " 'APR 2022' 'MAY 2022' 'JUN 2022' 'JUL 2022' 'AUG 2022' 'SEP 2022']\n"
     ]
    }
   ],
   "source": [
    "# Check for invalid entries in the month column.\n",
    "\n",
    "# Define a valid pattern for month-year\n",
    "def is_valid_month(value):\n",
    "    if pd.isna(value):\n",
    "        return False\n",
    "    return bool(re.match(r\"^(Jan|Feb|Mar|Apr|May|June|July|Aug|Sept|Oct|Nov|Dec)(2021|2022)$\", str(value).strip()))\n",
    "\n",
    "# Identify invalid entries\n",
    "invalid_month = clean[~clean['month'].apply(is_valid_month)]\n",
    "\n",
    "# Display invalid entries\n",
    "print(\"Invalid entries in 'month' column:\")\n",
    "print(invalid_month)\n",
    "\n",
    "# Count invalid entries\n",
    "print(f\"Number of invalid entries: {len(invalid_month)}\")\n",
    "\n",
    "# Verify the cleaning process\n",
    "print(\"Unique values after cleaning:\", clean['month'].unique())"
   ]
  },
  {
   "cell_type": "code",
   "execution_count": null,
   "id": "62de6c21-e7bb-4617-b14c-11d3601e4cd7",
   "metadata": {},
   "outputs": [],
   "source": []
  },
  {
   "cell_type": "code",
   "execution_count": 13,
   "id": "2ac68a1d-2724-486d-8e2d-ce00ea83af54",
   "metadata": {},
   "outputs": [
    {
     "name": "stdout",
     "output_type": "stream",
     "text": [
      "Unexpected Age group values:\n",
      "[]\n",
      "Number of unexpected age groups: 0\n",
      "['12-17', '18-29', '30-49', '50-64', '65-79', '80+', '5-11', 'all_ages_adj']\n"
     ]
    }
   ],
   "source": [
    "# checking for invalid values in age group column.\n",
    "\n",
    "unique_age_groups = clean['Age group'].unique()\n",
    "\n",
    "# valid age group intervals \n",
    "expected_age_groups = unique_age_groups = [\n",
    "    \"12-17\", \"18-29\", \"30-49\", \"50-64\", \"65-79\", \"80+\", \"5-11\", \"all_ages_adj\"\n",
    "]\n",
    "\n",
    "# Check if all values in the 'Age group' column are valid\n",
    "unexpected_age_groups = clean[~clean['Age group'].isin(expected_age_groups)]\n",
    "\n",
    "print(\"Unexpected Age group values:\")\n",
    "print(unexpected_age_groups['Age group'].unique())\n",
    "\n",
    "print(f\"Number of unexpected age groups: {len(unexpected_age_groups)}\")\n",
    "print(unique_age_groups)"
   ]
  },
  {
   "cell_type": "code",
   "execution_count": null,
   "id": "42e091ce-c4b9-4ab4-88ee-d524209c72f6",
   "metadata": {},
   "outputs": [],
   "source": []
  },
  {
   "cell_type": "code",
   "execution_count": 14,
   "id": "7ede5a6c-92e9-408a-b8f9-9a6d5e88a917",
   "metadata": {},
   "outputs": [
    {
     "name": "stdout",
     "output_type": "stream",
     "text": [
      "<class 'pandas.core.frame.DataFrame'>\n",
      "RangeIndex: 1591 entries, 0 to 1590\n",
      "Data columns (total 5 columns):\n",
      " #   Column                     Non-Null Count  Dtype \n",
      "---  ------                     --------------  ----- \n",
      " 0   outcome                    1591 non-null   object\n",
      " 1   month                      1591 non-null   object\n",
      " 2   Age group                  1591 non-null   object\n",
      " 3   Vaccinated with outcome    1591 non-null   int64 \n",
      " 4   Unvaccinated with outcome  1591 non-null   int64 \n",
      "dtypes: int64(2), object(3)\n",
      "memory usage: 62.3+ KB\n"
     ]
    }
   ],
   "source": [
    "clean.info()"
   ]
  },
  {
   "cell_type": "code",
   "execution_count": null,
   "id": "71c3153a-8f34-4c5e-98a2-4cdf12909bb6",
   "metadata": {},
   "outputs": [],
   "source": []
  },
  {
   "cell_type": "code",
   "execution_count": null,
   "id": "490b48ad-71d5-4701-80cc-cff9ede084d2",
   "metadata": {},
   "outputs": [],
   "source": [
    "# List of months to fill missing values\n",
    "\n",
    "months = ['APR 2021', 'MAY 2021', 'JUN 2021', 'JUL 2021', 'AUG 2021', \n",
    "          'SEP 2021', 'OCT 2021', 'NOV 2021', 'DEC 2021', 'JAN 2022', \n",
    "          'FEB 2022', 'MAR 2022', 'APR 2022', 'MAY 2022', 'JUN 2022', \n",
    "          'JUL 2022', 'AUG 2022', 'SEP 2022']\n",
    "\n",
    "# Replace NaN values sequentially with the provided list.        \n",
    "nan_indices = clean['month'][clean['month'].isna()].index\n",
    "for i, idx in enumerate(nan_indices):\n",
    "    clean.loc[idx, 'month'] = months[i % len(months)]\n",
    "print(clean['month'])\n",
    "\n",
    "Explanation of the Code\n",
    "nan_indices: Finds the indices of rows in the month column with NaN values.\n",
    "Loop:\n",
    "i helps track the position in the list of nan_indices.\n",
    "idx provides the index of the specific row with a NaN.\n",
    "months[i % len(months)] cycles through the months list repeatedly using modulo arithmetic (%).\n",
    "The code assigns a value from months to the NaN positions in a cyclical manner.\n",
    "Result: The previously NaN values in the month column are filled with values from the months list in a repeating pattern.\n"
   ]
  },
  {
   "cell_type": "code",
   "execution_count": null,
   "id": "bed8db9f-1842-450d-b9d9-e349b0a8c7f3",
   "metadata": {},
   "outputs": [],
   "source": []
  },
  {
   "cell_type": "code",
   "execution_count": 17,
   "id": "a9f0569c-7706-411e-839c-1958d7671e8d",
   "metadata": {},
   "outputs": [
    {
     "data": {
      "text/plain": [
       "np.int64(38)"
      ]
     },
     "execution_count": 17,
     "metadata": {},
     "output_type": "execute_result"
    }
   ],
   "source": [
    "clean.duplicated().sum()"
   ]
  },
  {
   "cell_type": "code",
   "execution_count": 18,
   "id": "c9034957-1765-4c44-802f-d430f6f291c0",
   "metadata": {},
   "outputs": [
    {
     "data": {
      "text/plain": [
       "38"
      ]
     },
     "execution_count": 18,
     "metadata": {},
     "output_type": "execute_result"
    }
   ],
   "source": [
    "duplicate_count = int(clean.duplicated().sum())\n",
    "duplicate_count"
   ]
  },
  {
   "cell_type": "code",
   "execution_count": 19,
   "id": "0e12f72d-0fae-423c-a1e1-48e9d705904a",
   "metadata": {},
   "outputs": [
    {
     "name": "stdout",
     "output_type": "stream",
     "text": [
      "Number of duplicate rows: 38\n"
     ]
    }
   ],
   "source": [
    "# Identify duplicate rows\n",
    "duplicates = clean[clean.duplicated()]\n",
    "print(f\"Number of duplicate rows: {duplicates.shape[0]}\")"
   ]
  },
  {
   "cell_type": "code",
   "execution_count": 20,
   "id": "d916d0ca-2d02-4cc0-a90f-6100fc8e8e6d",
   "metadata": {},
   "outputs": [],
   "source": [
    "# Create clean_back to avoid changing clean in case the duplicates come from filling in the month column\n",
    "clean_backup = clean.copy()"
   ]
  },
  {
   "cell_type": "code",
   "execution_count": 21,
   "id": "462aaab4-4482-4840-b37c-edb1a0f238f9",
   "metadata": {},
   "outputs": [],
   "source": [
    "# Add a column to flag duplicates\n",
    "clean_backup['is_duplicate'] = clean_backup.duplicated()"
   ]
  },
  {
   "cell_type": "code",
   "execution_count": null,
   "id": "947631b3-99be-43a4-b9e4-0ef2ca98004c",
   "metadata": {},
   "outputs": [],
   "source": []
  },
  {
   "cell_type": "code",
   "execution_count": null,
   "id": "0e1cf841-c6b8-4491-801f-cde7f5f27f1d",
   "metadata": {},
   "outputs": [],
   "source": []
  },
  {
   "cell_type": "markdown",
   "id": "f4547d50-70bb-4bc9-9468-f9a30ba82bd4",
   "metadata": {},
   "source": [
    "**CLEANING County_Level_of_community_Transmission.csv (second dataset)**"
   ]
  },
  {
   "cell_type": "code",
   "execution_count": null,
   "id": "dcdfbe47-1f0c-4c49-848a-2a5d75798ed4",
   "metadata": {},
   "outputs": [],
   "source": []
  },
  {
   "cell_type": "code",
   "execution_count": 31,
   "id": "f09a5f70-0745-422f-b58a-a3c9d11fb119",
   "metadata": {
    "collapsed": true,
    "jupyter": {
     "outputs_hidden": true
    }
   },
   "outputs": [
    {
     "name": "stdout",
     "output_type": "stream",
     "text": [
      "           state_name        county_name  fips_code        date  \\\n",
      "0               Texas     Jackson County      48239  01/27/2020   \n",
      "1            Nebraska     Buffalo County      31019  01/27/2020   \n",
      "2            Illinois       Coles County      17029  01/27/2020   \n",
      "3                Iowa         Ida County      19093  01/27/2020   \n",
      "4           Tennessee        Knox County      47093  02/05/2020   \n",
      "...               ...                ...        ...         ...   \n",
      "3225217     Louisiana  Assumption Parish      22007  10/18/2022   \n",
      "3225218  South Dakota        Hyde County      46069  10/18/2022   \n",
      "3225219         Texas      Loving County      48301  10/18/2022   \n",
      "3225220      Virginia     Lynchburg City      51680  10/18/2022   \n",
      "3225221       Wyoming    Converse County      56009  10/18/2022   \n",
      "\n",
      "        cases_per_100K_7_day_count_change  \\\n",
      "0                                   0.000   \n",
      "1                                   0.000   \n",
      "2                                   0.000   \n",
      "3                                   0.000   \n",
      "4                                   0.000   \n",
      "...                                   ...   \n",
      "3225217                        suppressed   \n",
      "3225218                             0.000   \n",
      "3225219                        suppressed   \n",
      "3225220                            26.770   \n",
      "3225221                        suppressed   \n",
      "\n",
      "         percent_test_results_reported_positive_last_7_days  \\\n",
      "0                                                      NaN    \n",
      "1                                                      NaN    \n",
      "2                                                      NaN    \n",
      "3                                                      NaN    \n",
      "4                                                      NaN    \n",
      "...                                                    ...    \n",
      "3225217                                               0.00    \n",
      "3225218                                                NaN    \n",
      "3225219                                              14.29    \n",
      "3225220                                               8.01    \n",
      "3225221                                               5.19    \n",
      "\n",
      "        community_transmission_level  \n",
      "0                                NaN  \n",
      "1                                NaN  \n",
      "2                                NaN  \n",
      "3                                NaN  \n",
      "4                                low  \n",
      "...                              ...  \n",
      "3225217                          low  \n",
      "3225218                          low  \n",
      "3225219                         high  \n",
      "3225220                  substantial  \n",
      "3225221                     moderate  \n",
      "\n",
      "[3225222 rows x 7 columns]\n"
     ]
    }
   ],
   "source": [
    "raw = pd.read_csv(\"Data/raw/County_Level_of_community_Transmission.csv\")\n",
    "print(raw)"
   ]
  },
  {
   "cell_type": "code",
   "execution_count": null,
   "id": "f4a0c57b-743d-46a8-9b5f-ceb46079bad7",
   "metadata": {},
   "outputs": [],
   "source": []
  },
  {
   "cell_type": "markdown",
   "id": "d5f8d329-55a7-4d5a-a735-ae91b1a6472e",
   "metadata": {},
   "source": [
    "***DROPPING UNCESSARY COLUMNS***\n",
    "\n",
    "*For the second dataset (County_Level_of_community_Transmission.csv) important columns are state_name', 'date', 'community_transmission_level'.* \n"
   ]
  },
  {
   "cell_type": "code",
   "execution_count": 32,
   "id": "7b2ea408-3cb7-44b3-844d-b2f2e3d8e2d0",
   "metadata": {},
   "outputs": [
    {
     "data": {
      "text/plain": [
       "Index(['state_name', 'county_name', 'fips_code', 'date',\n",
       "       'cases_per_100K_7_day_count_change',\n",
       "       'percent_test_results_reported_positive_last_7_days',\n",
       "       'community_transmission_level'],\n",
       "      dtype='object')"
      ]
     },
     "execution_count": 32,
     "metadata": {},
     "output_type": "execute_result"
    }
   ],
   "source": [
    "raw.columns"
   ]
  },
  {
   "cell_type": "code",
   "execution_count": null,
   "id": "8f03cb30-ad81-449e-b6fc-81912c8ed82d",
   "metadata": {},
   "outputs": [],
   "source": []
  },
  {
   "cell_type": "code",
   "execution_count": 33,
   "id": "957b00a5-a0dc-4715-9402-6fbef4f0454e",
   "metadata": {
    "collapsed": true,
    "jupyter": {
     "outputs_hidden": true
    }
   },
   "outputs": [
    {
     "name": "stdout",
     "output_type": "stream",
     "text": [
      "           state_name        date community_transmission_level\n",
      "0               Texas  01/27/2020                          NaN\n",
      "1            Nebraska  01/27/2020                          NaN\n",
      "2            Illinois  01/27/2020                          NaN\n",
      "3                Iowa  01/27/2020                          NaN\n",
      "4           Tennessee  02/05/2020                          low\n",
      "...               ...         ...                          ...\n",
      "3225217     Louisiana  10/18/2022                          low\n",
      "3225218  South Dakota  10/18/2022                          low\n",
      "3225219         Texas  10/18/2022                         high\n",
      "3225220      Virginia  10/18/2022                  substantial\n",
      "3225221       Wyoming  10/18/2022                     moderate\n",
      "\n",
      "[3225222 rows x 3 columns]\n"
     ]
    }
   ],
   "source": [
    "clean = raw.drop(['county_name', 'fips_code',\n",
    "       'cases_per_100K_7_day_count_change',\n",
    "       'percent_test_results_reported_positive_last_7_days'], axis=1)\n",
    "print(clean)"
   ]
  },
  {
   "cell_type": "code",
   "execution_count": null,
   "id": "164cc633-50be-4863-bd6b-7dc25f220e24",
   "metadata": {},
   "outputs": [],
   "source": []
  },
  {
   "cell_type": "code",
   "execution_count": 34,
   "id": "71238937-551b-41db-a3f6-ee514dbd3c32",
   "metadata": {},
   "outputs": [
    {
     "name": "stdout",
     "output_type": "stream",
     "text": [
      "<class 'pandas.core.frame.DataFrame'>\n",
      "RangeIndex: 3225222 entries, 0 to 3225221\n",
      "Data columns (total 3 columns):\n",
      " #   Column                        Dtype \n",
      "---  ------                        ----- \n",
      " 0   state_name                    object\n",
      " 1   date                          object\n",
      " 2   community_transmission_level  object\n",
      "dtypes: object(3)\n",
      "memory usage: 73.8+ MB\n"
     ]
    }
   ],
   "source": [
    "clean.info()"
   ]
  },
  {
   "cell_type": "code",
   "execution_count": null,
   "id": "1b100e30-eb92-4c92-be21-14e817be1a58",
   "metadata": {},
   "outputs": [],
   "source": []
  },
  {
   "cell_type": "markdown",
   "id": "fbd9caa9-4f83-45b7-80d2-06ffaebbeba1",
   "metadata": {},
   "source": [
    "***MISSING AND INVALIDE VALUES***"
   ]
  },
  {
   "cell_type": "code",
   "execution_count": 35,
   "id": "713cb735-57ee-4f07-98bc-dd995d136978",
   "metadata": {},
   "outputs": [
    {
     "data": {
      "text/plain": [
       "state_name                       2662\n",
       "date                                0\n",
       "community_transmission_level    22661\n",
       "dtype: int64"
      ]
     },
     "execution_count": 35,
     "metadata": {},
     "output_type": "execute_result"
    }
   ],
   "source": [
    "clean.isnull().sum()"
   ]
  },
  {
   "cell_type": "code",
   "execution_count": null,
   "id": "ba6af521-123e-44b9-b349-3d36ab5781f9",
   "metadata": {},
   "outputs": [],
   "source": []
  },
  {
   "cell_type": "code",
   "execution_count": 36,
   "id": "05c52db8-efe2-4312-a21c-b1d386c1dfae",
   "metadata": {
    "scrolled": true
   },
   "outputs": [
    {
     "data": {
      "text/plain": [
       "state_name                      0.082537\n",
       "date                            0.000000\n",
       "community_transmission_level    0.702618\n",
       "dtype: float64"
      ]
     },
     "execution_count": 36,
     "metadata": {},
     "output_type": "execute_result"
    }
   ],
   "source": [
    "# % of missing values in each column = number of missing values/total values * 100\n",
    "clean.isnull().sum()/len(clean) * 100"
   ]
  },
  {
   "cell_type": "code",
   "execution_count": null,
   "id": "b7fb15e5-1e24-410d-af3f-d4d930b7f4a4",
   "metadata": {},
   "outputs": [],
   "source": []
  },
  {
   "cell_type": "code",
   "execution_count": 38,
   "id": "6c72c159-6ede-4598-898a-9d8dfed6b4e6",
   "metadata": {},
   "outputs": [],
   "source": [
    "# Define a function to check for valid entries in the \"state_name\" column\n",
    "\n",
    "def is_valid_state_name(value):\n",
    "    if pd.isna(value):  # Check for missing values\n",
    "        return False\n",
    "    return bool(re.match(r\"^(value)$\", str(value).strip()))"
   ]
  },
  {
   "cell_type": "code",
   "execution_count": 40,
   "id": "cff2a9a1-c733-4aec-8513-2b771f10b945",
   "metadata": {},
   "outputs": [],
   "source": [
    "  # Normalize value and check match\n",
    "\n",
    "# Filter invalid entries\n",
    "invalid_state_name = clean[~clean['state_name'].apply(is_valid_state_name)]"
   ]
  },
  {
   "cell_type": "code",
   "execution_count": 41,
   "id": "c509b589-3333-4a1c-8bfb-bb94448e5392",
   "metadata": {
    "collapsed": true,
    "jupyter": {
     "outputs_hidden": true
    }
   },
   "outputs": [
    {
     "name": "stdout",
     "output_type": "stream",
     "text": [
      "Number of invalid entries: 3225222\n",
      "Unique values after cleaning: ['Texas' 'Nebraska' 'Illinois' 'Iowa' 'Tennessee' 'Wisconsin' 'Missouri'\n",
      " 'New York' 'Alabama' 'Ohio' 'Utah' 'Georgia' 'Minnesota' 'Alaska'\n",
      " 'New Jersey' 'Colorado' 'South Dakota' 'West Virginia' 'California'\n",
      " 'Michigan' 'Kansas' 'Nevada' 'Montana' 'Kentucky' 'Oregon' 'Indiana'\n",
      " 'Mississippi' 'Virginia' 'Idaho' 'South Carolina' 'North Carolina'\n",
      " 'Oklahoma' 'Florida' 'Hawaii' 'North Dakota' 'Arkansas' 'Maine'\n",
      " 'Pennsylvania' 'Vermont' 'Wyoming' 'Puerto Rico' 'Arizona' 'New Mexico'\n",
      " 'Washington' 'Louisiana' 'Connecticut' 'Maryland' nan\n",
      " 'District of Columbia' 'Delaware' 'Massachusetts' 'Rhode Island'\n",
      " 'New Hampshire']\n"
     ]
    }
   ],
   "source": [
    "# Count invalid entries\n",
    "print(f\"Number of invalid entries: {len(invalid_state_name)}\")\n",
    "\n",
    "# Verify the cleaning process\n",
    "print(\"Unique values after cleaning:\", clean['state_name'].unique())"
   ]
  },
  {
   "cell_type": "code",
   "execution_count": null,
   "id": "81802295-7134-495f-ad4d-35f5506f3b76",
   "metadata": {},
   "outputs": [],
   "source": []
  },
  {
   "cell_type": "code",
   "execution_count": 44,
   "id": "ab6987fa-0c80-4e03-a7e9-3fca4c47e7e6",
   "metadata": {
    "collapsed": true,
    "jupyter": {
     "outputs_hidden": true
    }
   },
   "outputs": [
    {
     "name": "stdout",
     "output_type": "stream",
     "text": [
      "Unique values after cleaning: ['Texas' 'Nebraska' 'Illinois' 'Iowa' 'Tennessee' 'Wisconsin' 'Missouri'\n",
      " 'New York' 'Alabama' 'Ohio' 'Utah' 'Georgia' 'Minnesota' 'Alaska'\n",
      " 'New Jersey' 'Colorado' 'South Dakota' 'West Virginia' 'California'\n",
      " 'Michigan' 'Kansas' 'Nevada' 'Montana' 'Kentucky' 'Oregon' 'Indiana'\n",
      " 'Mississippi' 'Virginia' 'Idaho' 'South Carolina' 'North Carolina'\n",
      " 'Oklahoma' 'Florida' 'Hawaii' 'North Dakota' 'Arkansas' 'Maine'\n",
      " 'Pennsylvania' 'Vermont' 'Wyoming' 'Puerto Rico' 'Arizona' 'New Mexico'\n",
      " 'Washington' 'Louisiana' 'Connecticut' 'Maryland' 'District of Columbia'\n",
      " 'Delaware' 'Massachusetts' 'Rhode Island' 'New Hampshire']\n"
     ]
    }
   ],
   "source": [
    "# Replace the nan by the mode_value\n",
    "mode_value = clean['state_name'].mode().iloc[0]\n",
    "clean['state_name'] = clean['state_name'].fillna(mode_value)\n",
    "print(\"Unique values after cleaning:\", clean['state_name'].unique())"
   ]
  },
  {
   "cell_type": "code",
   "execution_count": null,
   "id": "f3392516-61f2-4969-92ce-5179416b8339",
   "metadata": {},
   "outputs": [],
   "source": []
  },
  {
   "cell_type": "code",
   "execution_count": 43,
   "id": "e9d7b3b5-a341-4083-9ffb-52f2bbf9359d",
   "metadata": {},
   "outputs": [
    {
     "name": "stdout",
     "output_type": "stream",
     "text": [
      "Number of invalid entries: 22661\n",
      "Unique values after cleaning: [nan 'low' 'high' 'moderate' 'substantial']\n"
     ]
    }
   ],
   "source": [
    "# Define a function to check for valid entries in the \"community_transmission_level\" column\n",
    "\n",
    "def is_valid_community_transmission_level(value):\n",
    "    if pd.isna(value):  # Check for missing values\n",
    "        return False\n",
    "    return bool(re.match(r\"^(high|low|moderate|substantial)$\", str(value).strip()))  # Normalize value and check match\n",
    "\n",
    "# Filter invalid entries\n",
    "invalid_community_transmission_level = clean[~clean['community_transmission_level'].apply(is_valid_community_transmission_level)]\n",
    "\n",
    "# Count invalid entries\n",
    "print(f\"Number of invalid entries: {len(invalid_community_transmission_level)}\")\n",
    "\n",
    "# Verify the cleaning process\n",
    "print(\"Unique values after cleaning:\", clean['community_transmission_level'].unique())"
   ]
  },
  {
   "cell_type": "code",
   "execution_count": null,
   "id": "c48ae172-4b63-4a23-a988-5047e281e896",
   "metadata": {},
   "outputs": [],
   "source": []
  },
  {
   "cell_type": "code",
   "execution_count": 45,
   "id": "c7ca3757-dd8e-4f29-823b-6299495c2b09",
   "metadata": {},
   "outputs": [
    {
     "name": "stdout",
     "output_type": "stream",
     "text": [
      "Unique values after cleaning: ['high' 'low' 'moderate' 'substantial']\n"
     ]
    }
   ],
   "source": [
    "# Replace 'nan' by mode_value\n",
    "mode_value = clean['community_transmission_level'].mode().iloc[0]\n",
    "clean['community_transmission_level'] = clean['community_transmission_level'].fillna(mode_value)\n",
    "print(\"Unique values after cleaning:\", clean['community_transmission_level'].unique())"
   ]
  },
  {
   "cell_type": "code",
   "execution_count": null,
   "id": "1fefcff4-3afd-46e6-87ac-0228ac41c7d8",
   "metadata": {},
   "outputs": [],
   "source": []
  },
  {
   "cell_type": "code",
   "execution_count": 47,
   "id": "1d5bfbfe-0bc4-48bc-a901-3097f0fbbabf",
   "metadata": {},
   "outputs": [],
   "source": [
    "clean.to_csv('clean_data_2.csv', index=False)"
   ]
  },
  {
   "cell_type": "code",
   "execution_count": null,
   "id": "1f1c1b32-2ad4-43ab-9ce4-f9da5dcbf346",
   "metadata": {},
   "outputs": [],
   "source": []
  },
  {
   "cell_type": "code",
   "execution_count": 31,
   "id": "cbba32f4-17f3-4fe4-abb3-f6f57f50dcfe",
   "metadata": {},
   "outputs": [
    {
     "data": {
      "text/plain": [
       "'Data/clean/clean_data_2.csv'"
      ]
     },
     "execution_count": 31,
     "metadata": {},
     "output_type": "execute_result"
    }
   ],
   "source": [
    "source = \"clean_data_2.csv\"\n",
    "destination = \"Data/clean/\"\n",
    "shutil.move(source, destination)"
   ]
  },
  {
   "cell_type": "code",
   "execution_count": null,
   "id": "6c5050b4-d84f-4819-bc66-40aee89d16af",
   "metadata": {},
   "outputs": [],
   "source": []
  },
  {
   "cell_type": "markdown",
   "id": "cd57bec0-37b9-4879-a082-c24db6ed1dfc",
   "metadata": {},
   "source": [
    "***CHECKING DUPLICATES***"
   ]
  },
  {
   "cell_type": "code",
   "execution_count": 48,
   "id": "54d88ebd-1009-43bb-951b-823da4f2468e",
   "metadata": {},
   "outputs": [
    {
     "data": {
      "text/plain": [
       "3084721"
      ]
     },
     "execution_count": 48,
     "metadata": {},
     "output_type": "execute_result"
    }
   ],
   "source": [
    "clean.duplicated().sum()\n",
    "duplicat_count = int(clean.duplicated().sum())\n",
    "duplicat_count"
   ]
  },
  {
   "cell_type": "code",
   "execution_count": 50,
   "id": "f4a13220-3e26-47c4-aebf-b8245bfc85ec",
   "metadata": {},
   "outputs": [],
   "source": [
    "# Create clean_backup to avoid changing clean in case the duplicates come from filling in the columns\n",
    "clean_backup = clean.copy()\n",
    "# Add a column to flag duplicates\n",
    "clean_backup['is_duplicate'] = clean_backup.duplicated()"
   ]
  },
  {
   "cell_type": "code",
   "execution_count": null,
   "id": "a9a5b9c6-1091-4839-bd35-dbee6b6ee78c",
   "metadata": {},
   "outputs": [],
   "source": []
  },
  {
   "cell_type": "code",
   "execution_count": null,
   "id": "61a5e6af-3c99-4eb0-b52f-e38e5a02d3ce",
   "metadata": {},
   "outputs": [],
   "source": []
  }
 ],
 "metadata": {
  "kernelspec": {
   "display_name": "Python 3 (ipykernel)",
   "language": "python",
   "name": "python3"
  },
  "language_info": {
   "codemirror_mode": {
    "name": "ipython",
    "version": 3
   },
   "file_extension": ".py",
   "mimetype": "text/x-python",
   "name": "python",
   "nbconvert_exporter": "python",
   "pygments_lexer": "ipython3",
   "version": "3.12.4"
  }
 },
 "nbformat": 4,
 "nbformat_minor": 5
}
