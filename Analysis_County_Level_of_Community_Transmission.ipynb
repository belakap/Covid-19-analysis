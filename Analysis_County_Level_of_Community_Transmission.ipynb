{
 "cells": [
  {
   "cell_type": "code",
   "execution_count": 2,
   "id": "d41a12e3-aed4-404a-8ce8-5e42ec17eed8",
   "metadata": {},
   "outputs": [],
   "source": [
    "import pandas as pd"
   ]
  },
  {
   "cell_type": "code",
   "execution_count": 3,
   "id": "54cf42f3-e586-4ee8-9f23-48f6fcd6ae01",
   "metadata": {},
   "outputs": [],
   "source": [
    "raw = pd.read_csv(\"raw/County_Level_of_Community_Transmission.csv\")"
   ]
  },
  {
   "cell_type": "code",
   "execution_count": 9,
   "id": "0c75c12c-3af7-4c81-a0d1-ca6f0d445508",
   "metadata": {
    "collapsed": true,
    "jupyter": {
     "outputs_hidden": true
    },
    "scrolled": true
   },
   "outputs": [
    {
     "name": "stdout",
     "output_type": "stream",
     "text": [
      "           state_name        county_name  fips_code        date  \\\n",
      "0               Texas        Hays County      48209  01/27/2020   \n",
      "1               Idaho         Gem County      16045  01/27/2020   \n",
      "2            Nebraska        Boyd County      31015  10/15/2020   \n",
      "3               Texas        Knox County      48275  11/03/2020   \n",
      "4               Idaho   Nez Perce County      16069  11/03/2020   \n",
      "...               ...                ...        ...         ...   \n",
      "3225217     Louisiana  Assumption Parish      22007  10/18/2022   \n",
      "3225218  South Dakota        Hyde County      46069  10/18/2022   \n",
      "3225219         Texas      Loving County      48301  10/18/2022   \n",
      "3225220      Virginia     Lynchburg City      51680  10/18/2022   \n",
      "3225221       Wyoming    Converse County      56009  10/18/2022   \n",
      "\n",
      "        cases_per_100K_7_day_count_change  \\\n",
      "0                                   0.000   \n",
      "1                                   0.000   \n",
      "2                              suppressed   \n",
      "3                                 354.803   \n",
      "4                                 544.447   \n",
      "...                                   ...   \n",
      "3225217                        suppressed   \n",
      "3225218                             0.000   \n",
      "3225219                        suppressed   \n",
      "3225220                            26.770   \n",
      "3225221                        suppressed   \n",
      "\n",
      "         percent_test_results_reported_positive_last_7_days  \\\n",
      "0                                                      NaN    \n",
      "1                                                      NaN    \n",
      "2                                                    45.00    \n",
      "3                                                      NaN    \n",
      "4                                                    27.68    \n",
      "...                                                    ...    \n",
      "3225217                                               0.00    \n",
      "3225218                                                NaN    \n",
      "3225219                                              14.29    \n",
      "3225220                                               8.01    \n",
      "3225221                                               5.19    \n",
      "\n",
      "        community_transmission_level  \n",
      "0                                NaN  \n",
      "1                                NaN  \n",
      "2                               high  \n",
      "3                               high  \n",
      "4                               high  \n",
      "...                              ...  \n",
      "3225217                          low  \n",
      "3225218                          low  \n",
      "3225219                         high  \n",
      "3225220                  substantial  \n",
      "3225221                     moderate  \n",
      "\n",
      "[3225222 rows x 7 columns]\n"
     ]
    }
   ],
   "source": [
    "print(raw)"
   ]
  },
  {
   "cell_type": "code",
   "execution_count": null,
   "id": "467c1d82-fce5-43dc-babf-c83d073f810c",
   "metadata": {},
   "outputs": [],
   "source": [
    "raw.head()"
   ]
  },
  {
   "cell_type": "code",
   "execution_count": 10,
   "id": "8ee78a52-6db3-4715-96b7-be4b2d66ec06",
   "metadata": {},
   "outputs": [
    {
     "name": "stdout",
     "output_type": "stream",
     "text": [
      "<class 'pandas.core.frame.DataFrame'>\n",
      "RangeIndex: 3225222 entries, 0 to 3225221\n",
      "Data columns (total 7 columns):\n",
      " #   Column                                              Dtype  \n",
      "---  ------                                              -----  \n",
      " 0   state_name                                          object \n",
      " 1   county_name                                         object \n",
      " 2   fips_code                                           int64  \n",
      " 3   date                                                object \n",
      " 4   cases_per_100K_7_day_count_change                   object \n",
      " 5   percent_test_results_reported_positive_last_7_days  float64\n",
      " 6   community_transmission_level                        object \n",
      "dtypes: float64(1), int64(1), object(5)\n",
      "memory usage: 172.2+ MB\n"
     ]
    }
   ],
   "source": [
    "raw.info()"
   ]
  },
  {
   "cell_type": "code",
   "execution_count": 40,
   "id": "fe771ca1-6256-424d-9cb2-9e454a96f3ba",
   "metadata": {},
   "outputs": [],
   "source": [
    "# raw.describe() treats fips_code (federal information processing standards) \n",
    "# as a numeric column and calculate statistical metrics\n",
    "# so, convert fips_code to strings.\n",
    "raw['fips_code'] = raw['fips_code'].astype(str)\n",
    "# raw.describe() does not calculate metrics in column cases_per_100K_7_day_count_change \n",
    "# because there are non-numerical entries in this column.\n",
    "# so, convert non-numeric to numeric.\n",
    "raw['cases_per_100K_7_day_count_change'] = pd.to_numeric(raw['cases_per_100K_7_day_count_change'], \n",
    "errors = 'coerce')"
   ]
  },
  {
   "cell_type": "code",
   "execution_count": 41,
   "id": "e747ea36-8441-4b23-8051-b03e01ebdb61",
   "metadata": {
    "collapsed": true,
    "jupyter": {
     "outputs_hidden": true
    }
   },
   "outputs": [
    {
     "data": {
      "text/html": [
       "<div>\n",
       "<style scoped>\n",
       "    .dataframe tbody tr th:only-of-type {\n",
       "        vertical-align: middle;\n",
       "    }\n",
       "\n",
       "    .dataframe tbody tr th {\n",
       "        vertical-align: top;\n",
       "    }\n",
       "\n",
       "    .dataframe thead th {\n",
       "        text-align: right;\n",
       "    }\n",
       "</style>\n",
       "<table border=\"1\" class=\"dataframe\">\n",
       "  <thead>\n",
       "    <tr style=\"text-align: right;\">\n",
       "      <th></th>\n",
       "      <th>cases_per_100K_7_day_count_change</th>\n",
       "      <th>percent_test_results_reported_positive_last_7_days</th>\n",
       "    </tr>\n",
       "  </thead>\n",
       "  <tbody>\n",
       "    <tr>\n",
       "      <th>count</th>\n",
       "      <td>2.468979e+06</td>\n",
       "      <td>2.823884e+06</td>\n",
       "    </tr>\n",
       "    <tr>\n",
       "      <th>mean</th>\n",
       "      <td>1.898672e+02</td>\n",
       "      <td>1.154418e+01</td>\n",
       "    </tr>\n",
       "    <tr>\n",
       "      <th>std</th>\n",
       "      <td>2.016008e+02</td>\n",
       "      <td>1.076036e+01</td>\n",
       "    </tr>\n",
       "    <tr>\n",
       "      <th>min</th>\n",
       "      <td>-9.018800e+02</td>\n",
       "      <td>0.000000e+00</td>\n",
       "    </tr>\n",
       "    <tr>\n",
       "      <th>25%</th>\n",
       "      <td>3.879500e+01</td>\n",
       "      <td>3.790000e+00</td>\n",
       "    </tr>\n",
       "    <tr>\n",
       "      <th>50%</th>\n",
       "      <td>1.277070e+02</td>\n",
       "      <td>8.640000e+00</td>\n",
       "    </tr>\n",
       "    <tr>\n",
       "      <th>75%</th>\n",
       "      <td>2.730585e+02</td>\n",
       "      <td>1.618000e+01</td>\n",
       "    </tr>\n",
       "    <tr>\n",
       "      <th>max</th>\n",
       "      <td>9.999970e+02</td>\n",
       "      <td>1.000000e+02</td>\n",
       "    </tr>\n",
       "  </tbody>\n",
       "</table>\n",
       "</div>"
      ],
      "text/plain": [
       "       cases_per_100K_7_day_count_change  \\\n",
       "count                       2.468979e+06   \n",
       "mean                        1.898672e+02   \n",
       "std                         2.016008e+02   \n",
       "min                        -9.018800e+02   \n",
       "25%                         3.879500e+01   \n",
       "50%                         1.277070e+02   \n",
       "75%                         2.730585e+02   \n",
       "max                         9.999970e+02   \n",
       "\n",
       "       percent_test_results_reported_positive_last_7_days  \n",
       "count                                       2.823884e+06   \n",
       "mean                                        1.154418e+01   \n",
       "std                                         1.076036e+01   \n",
       "min                                         0.000000e+00   \n",
       "25%                                         3.790000e+00   \n",
       "50%                                         8.640000e+00   \n",
       "75%                                         1.618000e+01   \n",
       "max                                         1.000000e+02   "
      ]
     },
     "execution_count": 41,
     "metadata": {},
     "output_type": "execute_result"
    }
   ],
   "source": [
    "raw.describe()"
   ]
  },
  {
   "cell_type": "markdown",
   "id": "c2fcf0a2-3b67-4eb3-ba3e-bc2b649e2632",
   "metadata": {
    "jupyter": {
     "source_hidden": true
    }
   },
   "source": [
    "Interpretation\n",
    "\n",
    "Cases_per_100K_7_day_count_change\n",
    "\n",
    "count: 2,468,979 valid non-null values.\n",
    "mean: The average 7-day case count change per 100,000 people is 189.87.\n",
    "std: The standard deviation is 201.60, indicating significant variability in the case count changes.\n",
    "min: The lowest change is -901.88 cases, which could indicate a large decrease in cases during a 7-day period.\n",
    "Percentiles:\n",
    "25%: 38.80 (25% of the data is below this value).\n",
    "50% (median): 127.71 (half the data is below this value).\n",
    "75%: 273.06 (25% of the data is above this value).\n",
    "max: 999.997 cases per 100,000, likely indicating a very high increase.\n",
    "\n",
    "Percent_test_results_reported_positive_last_7_days\n",
    "\n",
    "count: 2,823,884 valid non-NaN values.\n",
    "mean: The average positivity rate over the last 7 days is 11.54%.\n",
    "std: The standard deviation is 10.76%, indicating some variation in positivity rates.\n",
    "min: The lowest positivity rate is 0%, indicating areas with no positive cases in the last 7 days.\n",
    "Percentiles:\n",
    "25%: 3.79%.\n",
    "50% (median): 8.64%.\n",
    "75%: 16.18%.\n",
    "max: 100%, suggesting some areas are reporting exclusively positive results.\n",
    "\n",
    "A positivity rate of 100% may indicate areas where testing is limited or only symptomatic individuals are being tested.\n",
    "The wide range from 0% to 100% suggests a significant disparity in how COVID-19 impacts different regions.\n"
   ]
  },
  {
   "cell_type": "markdown",
   "id": "a41fff8d-dba2-41e8-9415-cbc862704cfa",
   "metadata": {},
   "source": [
    "HANDLE NON-NUMERIC VALUES"
   ]
  },
  {
   "cell_type": "code",
   "execution_count": 42,
   "id": "2eb9bb29-fe8b-431c-9e12-799935ea812c",
   "metadata": {},
   "outputs": [],
   "source": [
    "import pandas as pd"
   ]
  },
  {
   "cell_type": "code",
   "execution_count": 43,
   "id": "6cd036d2-87e2-46f4-83bb-6efb74fdb6ce",
   "metadata": {},
   "outputs": [],
   "source": [
    "clean = pd.read_csv(\"clean/clean_data_2.csv\")"
   ]
  },
  {
   "cell_type": "code",
   "execution_count": 74,
   "id": "8a6cb26c-5b3d-48ef-9639-697633311df6",
   "metadata": {
    "scrolled": true
   },
   "outputs": [
    {
     "name": "stdout",
     "output_type": "stream",
     "text": [
      "0            0.000\n",
      "1            0.000\n",
      "2            0.000\n",
      "3          354.803\n",
      "4          544.447\n",
      "            ...   \n",
      "3225217      0.000\n",
      "3225218      0.000\n",
      "3225219      0.000\n",
      "3225220     26.770\n",
      "3225221      0.000\n",
      "Name: cases_per_100K_7_day_count_change, Length: 3225222, dtype: float64\n"
     ]
    }
   ],
   "source": [
    "# Column 'cases_per_100K_7_day_count_change' has both numeric and categorical values.\n",
    "\n",
    "# Convert all values to numeric.\n",
    "\n",
    "# identify the non-numeric\n",
    "non_numeric = clean.loc[~clean['cases_per_100K_7_day_count_change'].apply(lambda x: str(x).replace('.', '', 1).isdigit())]\n",
    "\n",
    "# count non_numeric.\n",
    "non_numeric_count = clean.loc[~clean['cases_per_100K_7_day_count_change'].apply(lambda x: str(x).replace('.', '', 1).isdigit())].shape[0]\n",
    "non_numeric_count\n",
    "\n",
    "# Replace non-numeric values with 0\n",
    "clean['cases_per_100K_7_day_count_change'] = pd.to_numeric(\n",
    "    clean['cases_per_100K_7_day_count_change'], errors='coerce'\n",
    ").fillna(0)\n",
    "\n",
    "# Verify the changes\n",
    "print(clean['cases_per_100K_7_day_count_change'])"
   ]
  },
  {
   "cell_type": "markdown",
   "id": "ac496963-62b4-4194-a444-24e6fe5d2060",
   "metadata": {},
   "source": [
    "MISSING DATA"
   ]
  },
  {
   "cell_type": "code",
   "execution_count": 52,
   "id": "99514c38-34aa-428f-9e18-67d2d28297da",
   "metadata": {},
   "outputs": [],
   "source": [
    "import pandas as pd"
   ]
  },
  {
   "cell_type": "code",
   "execution_count": 53,
   "id": "217d8c52-8083-47f8-8cd2-ac31e428ecda",
   "metadata": {},
   "outputs": [],
   "source": [
    "raw = pd.read_csv(\"raw/County_Level_of_community_transmission.csv\")"
   ]
  },
  {
   "cell_type": "code",
   "execution_count": 54,
   "id": "b1583605-5f91-4bac-ad59-c1969fab7ca9",
   "metadata": {
    "collapsed": true,
    "jupyter": {
     "outputs_hidden": true
    }
   },
   "outputs": [
    {
     "data": {
      "text/html": [
       "<div>\n",
       "<style scoped>\n",
       "    .dataframe tbody tr th:only-of-type {\n",
       "        vertical-align: middle;\n",
       "    }\n",
       "\n",
       "    .dataframe tbody tr th {\n",
       "        vertical-align: top;\n",
       "    }\n",
       "\n",
       "    .dataframe thead th {\n",
       "        text-align: right;\n",
       "    }\n",
       "</style>\n",
       "<table border=\"1\" class=\"dataframe\">\n",
       "  <thead>\n",
       "    <tr style=\"text-align: right;\">\n",
       "      <th></th>\n",
       "      <th>state_name</th>\n",
       "      <th>county_name</th>\n",
       "      <th>fips_code</th>\n",
       "      <th>date</th>\n",
       "      <th>cases_per_100K_7_day_count_change</th>\n",
       "      <th>percent_test_results_reported_positive_last_7_days</th>\n",
       "      <th>community_transmission_level</th>\n",
       "    </tr>\n",
       "  </thead>\n",
       "  <tbody>\n",
       "    <tr>\n",
       "      <th>0</th>\n",
       "      <td>False</td>\n",
       "      <td>False</td>\n",
       "      <td>False</td>\n",
       "      <td>False</td>\n",
       "      <td>False</td>\n",
       "      <td>True</td>\n",
       "      <td>True</td>\n",
       "    </tr>\n",
       "    <tr>\n",
       "      <th>1</th>\n",
       "      <td>False</td>\n",
       "      <td>False</td>\n",
       "      <td>False</td>\n",
       "      <td>False</td>\n",
       "      <td>False</td>\n",
       "      <td>True</td>\n",
       "      <td>True</td>\n",
       "    </tr>\n",
       "    <tr>\n",
       "      <th>2</th>\n",
       "      <td>False</td>\n",
       "      <td>False</td>\n",
       "      <td>False</td>\n",
       "      <td>False</td>\n",
       "      <td>False</td>\n",
       "      <td>False</td>\n",
       "      <td>False</td>\n",
       "    </tr>\n",
       "    <tr>\n",
       "      <th>3</th>\n",
       "      <td>False</td>\n",
       "      <td>False</td>\n",
       "      <td>False</td>\n",
       "      <td>False</td>\n",
       "      <td>False</td>\n",
       "      <td>True</td>\n",
       "      <td>False</td>\n",
       "    </tr>\n",
       "    <tr>\n",
       "      <th>4</th>\n",
       "      <td>False</td>\n",
       "      <td>False</td>\n",
       "      <td>False</td>\n",
       "      <td>False</td>\n",
       "      <td>False</td>\n",
       "      <td>False</td>\n",
       "      <td>False</td>\n",
       "    </tr>\n",
       "    <tr>\n",
       "      <th>...</th>\n",
       "      <td>...</td>\n",
       "      <td>...</td>\n",
       "      <td>...</td>\n",
       "      <td>...</td>\n",
       "      <td>...</td>\n",
       "      <td>...</td>\n",
       "      <td>...</td>\n",
       "    </tr>\n",
       "    <tr>\n",
       "      <th>3225217</th>\n",
       "      <td>False</td>\n",
       "      <td>False</td>\n",
       "      <td>False</td>\n",
       "      <td>False</td>\n",
       "      <td>False</td>\n",
       "      <td>False</td>\n",
       "      <td>False</td>\n",
       "    </tr>\n",
       "    <tr>\n",
       "      <th>3225218</th>\n",
       "      <td>False</td>\n",
       "      <td>False</td>\n",
       "      <td>False</td>\n",
       "      <td>False</td>\n",
       "      <td>False</td>\n",
       "      <td>True</td>\n",
       "      <td>False</td>\n",
       "    </tr>\n",
       "    <tr>\n",
       "      <th>3225219</th>\n",
       "      <td>False</td>\n",
       "      <td>False</td>\n",
       "      <td>False</td>\n",
       "      <td>False</td>\n",
       "      <td>False</td>\n",
       "      <td>False</td>\n",
       "      <td>False</td>\n",
       "    </tr>\n",
       "    <tr>\n",
       "      <th>3225220</th>\n",
       "      <td>False</td>\n",
       "      <td>False</td>\n",
       "      <td>False</td>\n",
       "      <td>False</td>\n",
       "      <td>False</td>\n",
       "      <td>False</td>\n",
       "      <td>False</td>\n",
       "    </tr>\n",
       "    <tr>\n",
       "      <th>3225221</th>\n",
       "      <td>False</td>\n",
       "      <td>False</td>\n",
       "      <td>False</td>\n",
       "      <td>False</td>\n",
       "      <td>False</td>\n",
       "      <td>False</td>\n",
       "      <td>False</td>\n",
       "    </tr>\n",
       "  </tbody>\n",
       "</table>\n",
       "<p>3225222 rows × 7 columns</p>\n",
       "</div>"
      ],
      "text/plain": [
       "         state_name  county_name  fips_code   date  \\\n",
       "0             False        False      False  False   \n",
       "1             False        False      False  False   \n",
       "2             False        False      False  False   \n",
       "3             False        False      False  False   \n",
       "4             False        False      False  False   \n",
       "...             ...          ...        ...    ...   \n",
       "3225217       False        False      False  False   \n",
       "3225218       False        False      False  False   \n",
       "3225219       False        False      False  False   \n",
       "3225220       False        False      False  False   \n",
       "3225221       False        False      False  False   \n",
       "\n",
       "         cases_per_100K_7_day_count_change  \\\n",
       "0                                    False   \n",
       "1                                    False   \n",
       "2                                    False   \n",
       "3                                    False   \n",
       "4                                    False   \n",
       "...                                    ...   \n",
       "3225217                              False   \n",
       "3225218                              False   \n",
       "3225219                              False   \n",
       "3225220                              False   \n",
       "3225221                              False   \n",
       "\n",
       "         percent_test_results_reported_positive_last_7_days  \\\n",
       "0                                                     True    \n",
       "1                                                     True    \n",
       "2                                                    False    \n",
       "3                                                     True    \n",
       "4                                                    False    \n",
       "...                                                    ...    \n",
       "3225217                                              False    \n",
       "3225218                                               True    \n",
       "3225219                                              False    \n",
       "3225220                                              False    \n",
       "3225221                                              False    \n",
       "\n",
       "         community_transmission_level  \n",
       "0                                True  \n",
       "1                                True  \n",
       "2                               False  \n",
       "3                               False  \n",
       "4                               False  \n",
       "...                               ...  \n",
       "3225217                         False  \n",
       "3225218                         False  \n",
       "3225219                         False  \n",
       "3225220                         False  \n",
       "3225221                         False  \n",
       "\n",
       "[3225222 rows x 7 columns]"
      ]
     },
     "execution_count": 54,
     "metadata": {},
     "output_type": "execute_result"
    }
   ],
   "source": [
    "raw.isnull()"
   ]
  },
  {
   "cell_type": "code",
   "execution_count": 55,
   "id": "f22c790c-a7db-4db2-b543-25005cdb9951",
   "metadata": {},
   "outputs": [
    {
     "data": {
      "text/plain": [
       "state_name                                              2662\n",
       "county_name                                             2662\n",
       "fips_code                                                  0\n",
       "date                                                       0\n",
       "cases_per_100K_7_day_count_change                          0\n",
       "percent_test_results_reported_positive_last_7_days    401338\n",
       "community_transmission_level                           22661\n",
       "dtype: int64"
      ]
     },
     "execution_count": 55,
     "metadata": {},
     "output_type": "execute_result"
    }
   ],
   "source": [
    "raw.isnull().sum()"
   ]
  },
  {
   "cell_type": "code",
   "execution_count": 56,
   "id": "1a99ef29-c223-4c8a-b298-550603962dfd",
   "metadata": {},
   "outputs": [
    {
     "data": {
      "text/plain": [
       "state_name                                             0.082537\n",
       "county_name                                            0.082537\n",
       "fips_code                                              0.000000\n",
       "date                                                   0.000000\n",
       "cases_per_100K_7_day_count_change                      0.000000\n",
       "percent_test_results_reported_positive_last_7_days    12.443733\n",
       "community_transmission_level                           0.702618\n",
       "dtype: float64"
      ]
     },
     "execution_count": 56,
     "metadata": {},
     "output_type": "execute_result"
    }
   ],
   "source": [
    "# % of missing values in each column = number of missing values/total values * 100\n",
    "raw.isnull().sum()/len(raw) * 100"
   ]
  },
  {
   "cell_type": "code",
   "execution_count": 57,
   "id": "e8bb46aa-f23d-494a-a06f-918f1db1845d",
   "metadata": {},
   "outputs": [],
   "source": [
    "# Because the % of missing values is low in state_name column, \n",
    "# We'll fillin with a placeholder 'unknown'instead of mode.\n",
    "# Save in a clean file, assign it to csv.\n",
    "clean = raw.fillna({\"state_name\": \"unknown\"})\n",
    "clean.to_csv(\"clean_data_2.csv\", index=False)"
   ]
  },
  {
   "cell_type": "code",
   "execution_count": 58,
   "id": "7a0ec12f-c8b6-403c-b6f1-999601915eea",
   "metadata": {
    "scrolled": true
   },
   "outputs": [
    {
     "data": {
      "text/plain": [
       "state_name                                                 0\n",
       "county_name                                             2662\n",
       "fips_code                                                  0\n",
       "date                                                       0\n",
       "cases_per_100K_7_day_count_change                          0\n",
       "percent_test_results_reported_positive_last_7_days    401338\n",
       "community_transmission_level                           22661\n",
       "dtype: int64"
      ]
     },
     "execution_count": 58,
     "metadata": {},
     "output_type": "execute_result"
    }
   ],
   "source": [
    "clean.isnull().sum()"
   ]
  },
  {
   "cell_type": "code",
   "execution_count": 20,
   "id": "b5ffc9d1-b36a-48fa-a067-87d84e35f159",
   "metadata": {
    "collapsed": true,
    "jupyter": {
     "outputs_hidden": true
    }
   },
   "outputs": [
    {
     "ename": "Error",
     "evalue": "Destination path 'clean/clean_data_2.csv' already exists",
     "output_type": "error",
     "traceback": [
      "\u001b[1;31m---------------------------------------------------------------------------\u001b[0m",
      "\u001b[1;31mError\u001b[0m                                     Traceback (most recent call last)",
      "Cell \u001b[1;32mIn[20], line 4\u001b[0m\n\u001b[0;32m      2\u001b[0m source \u001b[38;5;241m=\u001b[39m \u001b[38;5;124m\"\u001b[39m\u001b[38;5;124mclean_data_2.csv\u001b[39m\u001b[38;5;124m\"\u001b[39m\n\u001b[0;32m      3\u001b[0m destination \u001b[38;5;241m=\u001b[39m \u001b[38;5;124m\"\u001b[39m\u001b[38;5;124mclean/\u001b[39m\u001b[38;5;124m\"\u001b[39m\n\u001b[1;32m----> 4\u001b[0m \u001b[43mshutil\u001b[49m\u001b[38;5;241;43m.\u001b[39;49m\u001b[43mmove\u001b[49m\u001b[43m(\u001b[49m\u001b[43msource\u001b[49m\u001b[43m,\u001b[49m\u001b[43m \u001b[49m\u001b[43mdestination\u001b[49m\u001b[43m)\u001b[49m\n",
      "File \u001b[1;32m~\\AppData\\Local\\Programs\\Python\\Python312\\Lib\\shutil.py:845\u001b[0m, in \u001b[0;36mmove\u001b[1;34m(src, dst, copy_function)\u001b[0m\n\u001b[0;32m    842\u001b[0m     real_dst \u001b[38;5;241m=\u001b[39m os\u001b[38;5;241m.\u001b[39mpath\u001b[38;5;241m.\u001b[39mjoin(dst, _basename(src))\n\u001b[0;32m    844\u001b[0m     \u001b[38;5;28;01mif\u001b[39;00m os\u001b[38;5;241m.\u001b[39mpath\u001b[38;5;241m.\u001b[39mexists(real_dst):\n\u001b[1;32m--> 845\u001b[0m         \u001b[38;5;28;01mraise\u001b[39;00m Error(\u001b[38;5;124m\"\u001b[39m\u001b[38;5;124mDestination path \u001b[39m\u001b[38;5;124m'\u001b[39m\u001b[38;5;132;01m%s\u001b[39;00m\u001b[38;5;124m'\u001b[39m\u001b[38;5;124m already exists\u001b[39m\u001b[38;5;124m\"\u001b[39m \u001b[38;5;241m%\u001b[39m real_dst)\n\u001b[0;32m    846\u001b[0m \u001b[38;5;28;01mtry\u001b[39;00m:\n\u001b[0;32m    847\u001b[0m     os\u001b[38;5;241m.\u001b[39mrename(src, real_dst)\n",
      "\u001b[1;31mError\u001b[0m: Destination path 'clean/clean_data_2.csv' already exists"
     ]
    }
   ],
   "source": [
    "import shutil\n",
    "source = \"clean_data_2.csv\"\n",
    "destination = \"clean/\"\n",
    "shutil.move(source, destination)"
   ]
  },
  {
   "cell_type": "code",
   "execution_count": 59,
   "id": "7b717d01-a097-4783-bb65-62fc6bc280c1",
   "metadata": {},
   "outputs": [],
   "source": [
    "# fillin county_name with the placeholder 'unknown'.\n",
    "clean.fillna({\"county_name\": \"unknown\"}, inplace=True)"
   ]
  },
  {
   "cell_type": "code",
   "execution_count": 60,
   "id": "0e88f365-11e0-4e63-aae4-0f37d90a8205",
   "metadata": {},
   "outputs": [
    {
     "data": {
      "text/plain": [
       "state_name                                                 0\n",
       "county_name                                                0\n",
       "fips_code                                                  0\n",
       "date                                                       0\n",
       "cases_per_100K_7_day_count_change                          0\n",
       "percent_test_results_reported_positive_last_7_days    401338\n",
       "community_transmission_level                           22661\n",
       "dtype: int64"
      ]
     },
     "execution_count": 60,
     "metadata": {},
     "output_type": "execute_result"
    }
   ],
   "source": [
    "clean.isnull().sum()"
   ]
  },
  {
   "cell_type": "code",
   "execution_count": 61,
   "id": "03cbe9e5-bd57-436e-98ff-dca40d81155c",
   "metadata": {},
   "outputs": [
    {
     "name": "stdout",
     "output_type": "stream",
     "text": [
      "8.64\n"
     ]
    }
   ],
   "source": [
    "# Filling column 'percent_test_results_reported_positive_last_7_days'.\n",
    "# This column has numeric values. We'll fillin with a median_value.\n",
    "median_value = clean[\"percent_test_results_reported_positive_last_7_days\"].median()\n",
    "print(median_value)"
   ]
  },
  {
   "cell_type": "code",
   "execution_count": 62,
   "id": "e2a16eaf-709b-4678-a843-d2eb3e81b7a2",
   "metadata": {},
   "outputs": [],
   "source": [
    "clean.fillna({\"percent_test_results_reported_positive_last_7_days\": 8.64}, inplace=True)"
   ]
  },
  {
   "cell_type": "code",
   "execution_count": 63,
   "id": "98f2a3a0-c597-4095-941a-62481785eaeb",
   "metadata": {},
   "outputs": [
    {
     "data": {
      "text/plain": [
       "state_name                                                0\n",
       "county_name                                               0\n",
       "fips_code                                                 0\n",
       "date                                                      0\n",
       "cases_per_100K_7_day_count_change                         0\n",
       "percent_test_results_reported_positive_last_7_days        0\n",
       "community_transmission_level                          22661\n",
       "dtype: int64"
      ]
     },
     "execution_count": 63,
     "metadata": {},
     "output_type": "execute_result"
    }
   ],
   "source": [
    "clean.isnull().sum()"
   ]
  },
  {
   "cell_type": "code",
   "execution_count": 64,
   "id": "d10ac535-aba8-4fb1-8f82-d314ed816d49",
   "metadata": {},
   "outputs": [
    {
     "name": "stdout",
     "output_type": "stream",
     "text": [
      "high\n"
     ]
    }
   ],
   "source": [
    "# Filling column 'community_transmission_level' with a mode.\n",
    "# we use iloc[0] just in case there are more than one mode.\n",
    "mode_value = clean[\"community_transmission_level\"].mode().iloc[0]\n",
    "print(mode_value)"
   ]
  },
  {
   "cell_type": "code",
   "execution_count": 65,
   "id": "37a16408-4f7f-4d3e-bf65-c31fdfa6978d",
   "metadata": {},
   "outputs": [],
   "source": [
    "clean.fillna({\"community_transmission_level\": \"high\"}, inplace=True)"
   ]
  },
  {
   "cell_type": "code",
   "execution_count": 66,
   "id": "d56b735c-616f-4ea4-8a03-fe42e00bb34d",
   "metadata": {},
   "outputs": [
    {
     "data": {
      "text/plain": [
       "state_name                                            0\n",
       "county_name                                           0\n",
       "fips_code                                             0\n",
       "date                                                  0\n",
       "cases_per_100K_7_day_count_change                     0\n",
       "percent_test_results_reported_positive_last_7_days    0\n",
       "community_transmission_level                          0\n",
       "dtype: int64"
      ]
     },
     "execution_count": 66,
     "metadata": {},
     "output_type": "execute_result"
    }
   ],
   "source": [
    "clean.isnull().sum()"
   ]
  },
  {
   "cell_type": "markdown",
   "id": "5f2c43bf-1db7-4473-a02f-d392b4583914",
   "metadata": {},
   "source": [
    "DUPLICATES"
   ]
  },
  {
   "cell_type": "code",
   "execution_count": 67,
   "id": "7aaae24f-c9c1-4bbd-8082-344af0be98bd",
   "metadata": {},
   "outputs": [
    {
     "data": {
      "text/plain": [
       "np.int64(0)"
      ]
     },
     "execution_count": 67,
     "metadata": {},
     "output_type": "execute_result"
    }
   ],
   "source": [
    "clean.duplicated().sum()"
   ]
  },
  {
   "cell_type": "code",
   "execution_count": 68,
   "id": "11bea939-8fa0-49d7-8b14-567334270d7b",
   "metadata": {},
   "outputs": [
    {
     "data": {
      "text/plain": [
       "0"
      ]
     },
     "execution_count": 68,
     "metadata": {},
     "output_type": "execute_result"
    }
   ],
   "source": [
    "duplicat_count = int(clean.duplicated().sum())\n",
    "duplicat_count"
   ]
  },
  {
   "cell_type": "markdown",
   "id": "b5eee37c-5b52-452d-b5cc-467f294e17d4",
   "metadata": {},
   "source": [
    "DATETIME"
   ]
  },
  {
   "cell_type": "code",
   "execution_count": 69,
   "id": "e8ef7820-7fbc-43e0-bd66-f41e57bfdaed",
   "metadata": {},
   "outputs": [],
   "source": [
    "# convert date column into a datetime object.\n",
    "clean['date'] = pd.to_datetime(clean['date'], format='%m/%d/%Y', errors='coerce')"
   ]
  },
  {
   "cell_type": "code",
   "execution_count": 75,
   "id": "3b082c5c-b94c-46e6-83c2-4b606d29f15e",
   "metadata": {
    "collapsed": true,
    "jupyter": {
     "outputs_hidden": true
    }
   },
   "outputs": [
    {
     "name": "stdout",
     "output_type": "stream",
     "text": [
      "<class 'pandas.core.frame.DataFrame'>\n",
      "RangeIndex: 3225222 entries, 0 to 3225221\n",
      "Data columns (total 7 columns):\n",
      " #   Column                                              Dtype         \n",
      "---  ------                                              -----         \n",
      " 0   state_name                                          object        \n",
      " 1   county_name                                         object        \n",
      " 2   fips_code                                           int64         \n",
      " 3   date                                                datetime64[ns]\n",
      " 4   cases_per_100K_7_day_count_change                   float64       \n",
      " 5   percent_test_results_reported_positive_last_7_days  float64       \n",
      " 6   community_transmission_level                        object        \n",
      "dtypes: datetime64[ns](1), float64(2), int64(1), object(3)\n",
      "memory usage: 172.2+ MB\n"
     ]
    }
   ],
   "source": [
    "clean.info()"
   ]
  },
  {
   "cell_type": "code",
   "execution_count": 71,
   "id": "64244a40-052c-4505-b867-b1cd957d4de1",
   "metadata": {
    "collapsed": true,
    "jupyter": {
     "outputs_hidden": true
    }
   },
   "outputs": [
    {
     "data": {
      "text/html": [
       "<div>\n",
       "<style scoped>\n",
       "    .dataframe tbody tr th:only-of-type {\n",
       "        vertical-align: middle;\n",
       "    }\n",
       "\n",
       "    .dataframe tbody tr th {\n",
       "        vertical-align: top;\n",
       "    }\n",
       "\n",
       "    .dataframe thead th {\n",
       "        text-align: right;\n",
       "    }\n",
       "</style>\n",
       "<table border=\"1\" class=\"dataframe\">\n",
       "  <thead>\n",
       "    <tr style=\"text-align: right;\">\n",
       "      <th></th>\n",
       "      <th>state_name</th>\n",
       "      <th>county_name</th>\n",
       "      <th>fips_code</th>\n",
       "      <th>date</th>\n",
       "      <th>cases_per_100K_7_day_count_change</th>\n",
       "      <th>percent_test_results_reported_positive_last_7_days</th>\n",
       "      <th>community_transmission_level</th>\n",
       "    </tr>\n",
       "  </thead>\n",
       "  <tbody>\n",
       "    <tr>\n",
       "      <th>0</th>\n",
       "      <td>Texas</td>\n",
       "      <td>Hays County</td>\n",
       "      <td>48209</td>\n",
       "      <td>2020-01-27</td>\n",
       "      <td>0.000</td>\n",
       "      <td>8.64</td>\n",
       "      <td>high</td>\n",
       "    </tr>\n",
       "    <tr>\n",
       "      <th>1</th>\n",
       "      <td>Idaho</td>\n",
       "      <td>Gem County</td>\n",
       "      <td>16045</td>\n",
       "      <td>2020-01-27</td>\n",
       "      <td>0.000</td>\n",
       "      <td>8.64</td>\n",
       "      <td>high</td>\n",
       "    </tr>\n",
       "    <tr>\n",
       "      <th>2</th>\n",
       "      <td>Nebraska</td>\n",
       "      <td>Boyd County</td>\n",
       "      <td>31015</td>\n",
       "      <td>2020-10-15</td>\n",
       "      <td>suppressed</td>\n",
       "      <td>45.00</td>\n",
       "      <td>high</td>\n",
       "    </tr>\n",
       "    <tr>\n",
       "      <th>3</th>\n",
       "      <td>Texas</td>\n",
       "      <td>Knox County</td>\n",
       "      <td>48275</td>\n",
       "      <td>2020-11-03</td>\n",
       "      <td>354.803</td>\n",
       "      <td>8.64</td>\n",
       "      <td>high</td>\n",
       "    </tr>\n",
       "    <tr>\n",
       "      <th>4</th>\n",
       "      <td>Idaho</td>\n",
       "      <td>Nez Perce County</td>\n",
       "      <td>16069</td>\n",
       "      <td>2020-11-03</td>\n",
       "      <td>544.447</td>\n",
       "      <td>27.68</td>\n",
       "      <td>high</td>\n",
       "    </tr>\n",
       "    <tr>\n",
       "      <th>...</th>\n",
       "      <td>...</td>\n",
       "      <td>...</td>\n",
       "      <td>...</td>\n",
       "      <td>...</td>\n",
       "      <td>...</td>\n",
       "      <td>...</td>\n",
       "      <td>...</td>\n",
       "    </tr>\n",
       "    <tr>\n",
       "      <th>3225217</th>\n",
       "      <td>Louisiana</td>\n",
       "      <td>Assumption Parish</td>\n",
       "      <td>22007</td>\n",
       "      <td>2022-10-18</td>\n",
       "      <td>suppressed</td>\n",
       "      <td>0.00</td>\n",
       "      <td>low</td>\n",
       "    </tr>\n",
       "    <tr>\n",
       "      <th>3225218</th>\n",
       "      <td>South Dakota</td>\n",
       "      <td>Hyde County</td>\n",
       "      <td>46069</td>\n",
       "      <td>2022-10-18</td>\n",
       "      <td>0.000</td>\n",
       "      <td>8.64</td>\n",
       "      <td>low</td>\n",
       "    </tr>\n",
       "    <tr>\n",
       "      <th>3225219</th>\n",
       "      <td>Texas</td>\n",
       "      <td>Loving County</td>\n",
       "      <td>48301</td>\n",
       "      <td>2022-10-18</td>\n",
       "      <td>suppressed</td>\n",
       "      <td>14.29</td>\n",
       "      <td>high</td>\n",
       "    </tr>\n",
       "    <tr>\n",
       "      <th>3225220</th>\n",
       "      <td>Virginia</td>\n",
       "      <td>Lynchburg City</td>\n",
       "      <td>51680</td>\n",
       "      <td>2022-10-18</td>\n",
       "      <td>26.770</td>\n",
       "      <td>8.01</td>\n",
       "      <td>substantial</td>\n",
       "    </tr>\n",
       "    <tr>\n",
       "      <th>3225221</th>\n",
       "      <td>Wyoming</td>\n",
       "      <td>Converse County</td>\n",
       "      <td>56009</td>\n",
       "      <td>2022-10-18</td>\n",
       "      <td>suppressed</td>\n",
       "      <td>5.19</td>\n",
       "      <td>moderate</td>\n",
       "    </tr>\n",
       "  </tbody>\n",
       "</table>\n",
       "<p>3225222 rows × 7 columns</p>\n",
       "</div>"
      ],
      "text/plain": [
       "           state_name        county_name  fips_code       date  \\\n",
       "0               Texas        Hays County      48209 2020-01-27   \n",
       "1               Idaho         Gem County      16045 2020-01-27   \n",
       "2            Nebraska        Boyd County      31015 2020-10-15   \n",
       "3               Texas        Knox County      48275 2020-11-03   \n",
       "4               Idaho   Nez Perce County      16069 2020-11-03   \n",
       "...               ...                ...        ...        ...   \n",
       "3225217     Louisiana  Assumption Parish      22007 2022-10-18   \n",
       "3225218  South Dakota        Hyde County      46069 2022-10-18   \n",
       "3225219         Texas      Loving County      48301 2022-10-18   \n",
       "3225220      Virginia     Lynchburg City      51680 2022-10-18   \n",
       "3225221       Wyoming    Converse County      56009 2022-10-18   \n",
       "\n",
       "        cases_per_100K_7_day_count_change  \\\n",
       "0                                   0.000   \n",
       "1                                   0.000   \n",
       "2                              suppressed   \n",
       "3                                 354.803   \n",
       "4                                 544.447   \n",
       "...                                   ...   \n",
       "3225217                        suppressed   \n",
       "3225218                             0.000   \n",
       "3225219                        suppressed   \n",
       "3225220                            26.770   \n",
       "3225221                        suppressed   \n",
       "\n",
       "         percent_test_results_reported_positive_last_7_days  \\\n",
       "0                                                     8.64    \n",
       "1                                                     8.64    \n",
       "2                                                    45.00    \n",
       "3                                                     8.64    \n",
       "4                                                    27.68    \n",
       "...                                                    ...    \n",
       "3225217                                               0.00    \n",
       "3225218                                               8.64    \n",
       "3225219                                              14.29    \n",
       "3225220                                               8.01    \n",
       "3225221                                               5.19    \n",
       "\n",
       "        community_transmission_level  \n",
       "0                               high  \n",
       "1                               high  \n",
       "2                               high  \n",
       "3                               high  \n",
       "4                               high  \n",
       "...                              ...  \n",
       "3225217                          low  \n",
       "3225218                          low  \n",
       "3225219                         high  \n",
       "3225220                  substantial  \n",
       "3225221                     moderate  \n",
       "\n",
       "[3225222 rows x 7 columns]"
      ]
     },
     "execution_count": 71,
     "metadata": {},
     "output_type": "execute_result"
    }
   ],
   "source": [
    "clean"
   ]
  },
  {
   "cell_type": "code",
   "execution_count": 72,
   "id": "29827079-816d-4e8d-a413-8b28aceadde0",
   "metadata": {
    "collapsed": true,
    "jupyter": {
     "outputs_hidden": true
    }
   },
   "outputs": [
    {
     "data": {
      "text/plain": [
       "state_name                                            0\n",
       "county_name                                           0\n",
       "fips_code                                             0\n",
       "date                                                  0\n",
       "cases_per_100K_7_day_count_change                     0\n",
       "percent_test_results_reported_positive_last_7_days    0\n",
       "community_transmission_level                          0\n",
       "dtype: int64"
      ]
     },
     "execution_count": 72,
     "metadata": {},
     "output_type": "execute_result"
    }
   ],
   "source": [
    "clean.isnull().sum()"
   ]
  },
  {
   "cell_type": "code",
   "execution_count": 73,
   "id": "4341f58c-f0b4-470a-bf02-5145578c632b",
   "metadata": {
    "collapsed": true,
    "jupyter": {
     "outputs_hidden": true
    }
   },
   "outputs": [
    {
     "name": "stdout",
     "output_type": "stream",
     "text": [
      "<class 'pandas.core.frame.DataFrame'>\n",
      "RangeIndex: 3225222 entries, 0 to 3225221\n",
      "Data columns (total 7 columns):\n",
      " #   Column                                              Dtype         \n",
      "---  ------                                              -----         \n",
      " 0   state_name                                          object        \n",
      " 1   county_name                                         object        \n",
      " 2   fips_code                                           int64         \n",
      " 3   date                                                datetime64[ns]\n",
      " 4   cases_per_100K_7_day_count_change                   object        \n",
      " 5   percent_test_results_reported_positive_last_7_days  float64       \n",
      " 6   community_transmission_level                        object        \n",
      "dtypes: datetime64[ns](1), float64(1), int64(1), object(4)\n",
      "memory usage: 172.2+ MB\n"
     ]
    }
   ],
   "source": [
    "clean.info()"
   ]
  },
  {
   "cell_type": "code",
   "execution_count": null,
   "id": "869743df-0b14-4928-90ac-3b26c01cfdb2",
   "metadata": {},
   "outputs": [],
   "source": []
  }
 ],
 "metadata": {
  "kernelspec": {
   "display_name": "Python 3 (ipykernel)",
   "language": "python",
   "name": "python3"
  },
  "language_info": {
   "codemirror_mode": {
    "name": "ipython",
    "version": 3
   },
   "file_extension": ".py",
   "mimetype": "text/x-python",
   "name": "python",
   "nbconvert_exporter": "python",
   "pygments_lexer": "ipython3",
   "version": "3.12.4"
  }
 },
 "nbformat": 4,
 "nbformat_minor": 5
}
